{
 "cells": [
  {
   "cell_type": "code",
   "execution_count": 1,
   "id": "9b8ba52a",
   "metadata": {},
   "outputs": [
    {
     "data": {
      "text/plain": [
       "7"
      ]
     },
     "execution_count": 1,
     "metadata": {},
     "output_type": "execute_result"
    }
   ],
   "source": [
    "\"\"\"\n",
    "    INDEX FOR FINAL SUBMISSION:\n",
    "    \n",
    "    cells\n",
    "    [2]: read the data / import data 'management' libraries\n",
    "    [3]: read data_info.txt to be able to navigate data exploration\n",
    "    [4-6]: transfer text into KEY-VALUE struct, KEY as data_info keys / data_values respectively\n",
    "        with VALUE definitions; visualize\n",
    "    [7-11]: detect & re cast as categorical those pandas read as integer\n",
    "    [12-14]: detect which columns were actually not part of data_info\n",
    "    [15-33]: exploring nan null with some options for how to deal with missing data\n",
    "    [34-39]: extracting test set keys and comparing training sets 1 and 2\n",
    "    [40-46]: closer look at Feature Price which seems to be target of training set 2\n",
    "    [47-55]: minimal (incomplete) checks for merging training sets 1 and 2 (though by inspection not total match)\n",
    "    [56-76]: clustering keys (almost entirely)\n",
    "    [77-91]: removing nans\n",
    "    [92-99]: primarily adding month incrementals to the year of sale column - also standardizing by \"offset\" centering\n",
    "    [100-105]: descriptions of each data frame as considered standard for numerical vs. categorical (obj columns)\n",
    "    [106-112]: final checks INCLUDING\n",
    "        containing any string other than 'NA' to indicate nan (and completely 0 out panda's isna calls):\n",
    "        containing string 'None', replaced with 'NA'\n",
    "    [113]: HISTOGRAM OF PRICES (DISTRIBUTION)\n",
    "    [114-123]: discovering most highly correlated \"features\" / columns\n",
    "    [124-142]: PLOTTING QUANTILES AND EXTREMA FOR CATEGORICAL (also Price to LogPrice)\n",
    "    [143]: RECASTING CATEGORICAL (OBJECT TYPES IN PANDAS DATAFRAMES) AS INTEGER / ORDINAL\n",
    "    [144-154]: MUTUAL INFO* REGRESSION (UNIVARIATES): top positive values (> correlation threshold) corroborate\n",
    "        previous correlations\n",
    "    [155-159]: repeat *M.I. for just categoricals\n",
    "    [160-162]: making sure column key/names (still) \"add up\"\n",
    "    [163-164]: ACK would be mixed effects and recalling independent variables to model\n",
    "    [165]: WRITE PROCESSED DATA TO CSV FOR STATISTICS WITH R\n",
    "    [166-171]: Test Pinball-loss univariates Quantile regression (good for Spread/conditionals data)\n",
    "        and Robust regression TheilSenRegressor (for multiple combinations.. & plot case by case)\n",
    "\n",
    "\"\"\"\n",
    "7"
   ]
  },
  {
   "cell_type": "code",
   "execution_count": 2,
   "id": "8be01089",
   "metadata": {},
   "outputs": [
    {
     "data": {
      "text/plain": [
       "1"
      ]
     },
     "execution_count": 2,
     "metadata": {},
     "output_type": "execute_result"
    }
   ],
   "source": [
    "import pandas as pd\n",
    "import pprint\n",
    "\n",
    "df0 = pd.read_csv('./latlongs.csv')\n",
    "df1 = pd.read_csv('./train_1.csv')\n",
    "df2 = pd.read_csv('./train_2.csv')\n",
    "\n",
    "\"\"\"\n",
    "    SUMMARY OF ACTIONS TAKEN:\n",
    "\n",
    "    * GET EXPECTED NUMERICAL VS CATEGORICAL FROM DATA_INFO TXT\n",
    "    * REVERT NUMERICAL WHICH MUST BE CATEGORICAL\n",
    "    * SEPARATE NUMERIC FROM OBJECT (CATEGORICAL DATA) COLUMNS INTO TWO DF (PRESERVING ROW..)\n",
    "    * INTERPRET NA / NAN & PROCESS / PREPARE DATA FOR TRANSFORMATION / MODELING :\n",
    "    * EXTRACT \"Y\" PREDICTED / DEPENDENT VARIABLE COLUMNS\n",
    "\\\n",
    "\n",
    "\"\"\"\n",
    "1"
   ]
  },
  {
   "cell_type": "code",
   "execution_count": 3,
   "id": "3ca434cd",
   "metadata": {},
   "outputs": [
    {
     "name": "stdout",
     "output_type": "stream",
     "text": [
      "Dataset Metadata\n",
      "BuildType: Identifies the type of sold building.\n",
      "        20\t1-STORY >=1946\n",
      "        30\t1-STORY <1946\n",
      "        40\t1-STORY WITH ATTIC\n",
      "        45\t1.5 STORY UNFINISHED\n",
      "        50\t1.5 STORY FINISHED\n",
      "        60\t2-STORY >=1946\n",
      "        70\t2-STORY <1946\n",
      "        75\t2.5 STORY\n",
      "        80\tSPLIT OR MULTI-LEVEL\n",
      "        85\tSPLIT FOYER\n",
      "        90\tDUPLEX\n",
      "       120\t1-STORY PUD (Planned Unit Development) >=1946\n",
      "       150\t1.5 STORY PUD\n",
      "       160\t2-STORY PUD >=1946\n",
      "       180\tPUD - MULTILEVEL\n",
      "       190\t2 FAMILY CONVERSION\n",
      "Zone: Identifies the general zoning classification of the sale.\n",
      "       A\tAgriculture\n",
      "       C\tCommercial\n",
      "       FV\tFloating Village Residential\n",
      "       I\tIndustrial\n",
      "       RH\tResidential High Density\n",
      "       RL\tResidential Low Density\n",
      "       RP\tResidential Low Density Park\n",
      "       RM\tResidential Medium Density\n",
      "StreetLength: Linear feet of street connected to property\n",
      "Area: Area of property in square feet\n",
      "RoadType: Type of road access to property\n",
      "       Grvl\tGravel\n",
      "       Pave\tPaved\n",
      "AlleyType: Type of alley access to property\n",
      "       Grvl\tGravel\n",
      "       Pave\tPaved\n",
      "       NA \tNo alley access\n",
      "Shape: General shape of property\n",
      "       Reg\tRegular\n",
      "       IR1\tSlightly irregular\n",
      "       IR2\tModerately Irregular\n",
      "       IR3\tIrregular\n",
      "LandContour: Flatness of the property\n",
      "       Lvl\tNear Flat/Level\n",
      "       Bnk\tBanked - Quick and significant rise from street grade to building\n",
      "       HLS\tHillside - Significant slope from side to side\n",
      "       Low\tDepression\n",
      "Utilities: Type of utilities available\n",
      "       AllPub\tAll public Utilities (E,G,W,& S)\n",
      "       NoSewr\tElectricity, Gas, and Water (Septic Tank)\n",
      "       NoSeWa\tElectricity and Gas Only\n",
      "       ELO\tElectricity only\n",
      "Configuration: Property configuration\n",
      "       Inside\tInside lot\n",
      "       Corner\tCorner lot\n",
      "       CulDSac\tCul-de-sac\n",
      "       FR2\tFrontage on 2 sides of property\n",
      "       FR3\tFrontage on 3 sides of property\n",
      "LandSlope: Slope of property\n",
      "       Gtl\tGentle slope\n",
      "       Mod\tModerate Slope\n",
      "       Sev\tSevere Slope\n",
      "County: Physical locations within Ames city limits\n",
      "       Manchester\tCounty Durham\n",
      "       Leicester\tEast Riding of Yorkshire\n",
      "       Sandwell\tWorcestershire\n",
      "       West Sussex\tBarnet\n",
      "       Newham Wiltshire\n",
      "       Wigan\tBristol, City of\n",
      "       Essex\tCambridgeshire\n",
      "       Lancashire\tWest Berkshire\n",
      "       Northamptonshire\tRedcar and Cleveland\n",
      "       South Gloucestershire\tHounslow\n",
      "       Cheshire West and Chester\tNorfolk\n",
      "       Peterborough\tnan\n",
      "       Cumbria\tBromley\n",
      "       Gloucestershire\tHackney\n",
      "       Hampshire\tCheshire East\n",
      "       Barnsley\tPowys\n",
      "       Warwickshire\tStockton-on-Tees\n",
      "       Slough\tNorth Yorkshire\n",
      "       Devon\tMilton Keynes\n",
      "       Birmingham\tWolverhampton\n",
      "       Surrey\tDoncaster\n",
      "       Bexley\tDenbighshire\n",
      "       Southampton\tNorthumberland\n",
      "       Rotherham\tTameside\n",
      "       Leicestershire\tYork\n",
      "       Oxfordshire\tBradford\n",
      "       Greenwich\tGateshead\n",
      "       Bridgend\tLeeds\n",
      "       Kingston upon Hull, City of\tRochdale\n",
      "       Somerset\tBlackpool\n",
      "       Wirral\tStockport\n",
      "       Salford\tEast Sussex\n",
      "       Kent\tCardiff\n",
      "       Isle of Anglesey\tDerbyshire\n",
      "       Kensington and Chelsea\tSwindon\n",
      "       St. Helens\tHaringey\n",
      "       Nottinghamshire\tVale of Glamorgan\n",
      "       Poole\tWaltham Forest\n",
      "       Thurrock\tBournemouth\n",
      "       Bolton\tStaffordshire\n",
      "       Westminster\tLincolnshire\n",
      "       Lewisham\tKirklees\n",
      "       Dorset\tSheffield\n",
      "       Southwark\tGwynedd\n",
      "       Cornwall\tCamden\n",
      "       Hartlepool\tRichmond upon Thames\n",
      "       Sunderland\tShropshire\n",
      "       Calderdale\tHertfordshire\n",
      "       Walsall\tSuffolk\n",
      "       Sefton\tDudley\n",
      "       Warrington\tConwy\n",
      "       Bedford\tSutton\n",
      "       Newport\tNorth Tyneside\n",
      "       Coventry\tHillingdon\n",
      "       Bracknell Forest\tBuckinghamshire\n",
      "       Plymouth\tCroydon\n",
      "       Stoke-on-Trent\tTrafford\n",
      "       Pembrokeshire\tNorth East Lincolnshire\n",
      "       Central Bedfordshire\tSwansea\n",
      "       Torfaen\tRhondda Cynon Taf\n",
      "       Lambeth\tIsle of Wight\n",
      "       Harrow\tLiverpool\n",
      "       Medway\tMerton\n",
      "       Solihull\tHerefordshire, County of\n",
      "       Bury\tWakefield\n",
      "       Darlington\tBarking and Dagenham\n",
      "       Southend-on-Sea\tKingston upon Thames\n",
      "       North Somerset\tWandsworth\n",
      "       Knowsley\tPortsmouth\n",
      "       South Tyneside\tIslington\n",
      "       Caerphilly\tTorbay\n",
      "       Nottingham\tEaling\n",
      "       Enfield\tFlintshire\n",
      "       Hammersmith and Fulham\tBlaenau Gwent\n",
      "       Havering\tNewcastle upon Tyne\n",
      "       Brent\tOldham\n",
      "       Middlesbrough\tCity of London\n",
      "       Brighton and Hove\tMonmouthshire\n",
      "       North Lincolnshire\tTelford and Wrekin\n",
      "       Neath Port Talbot\tCeredigion\n",
      "       Wokingham\tBath and North East Somerset\n",
      "       Halton\tRutland\n",
      "       Derby\tReading\n",
      "Feature1: Proximity to various conditions\n",
      "       Artery\tAdjacent to arterial street\n",
      "       Feedr\tAdjacent to feeder street\n",
      "       Norm\tNormal\n",
      "       RRNn\tWithin 200' of North-South Railroad\n",
      "       RRAn\tAdjacent to North-South Railroad\n",
      "       PosN\tNear positive off-site feature--park, greenbelt, etc.\n",
      "       PosA\tAdjacent to postive off-site feature\n",
      "       RRNe\tWithin 200' of East-West Railroad\n",
      "       RRAe\tAdjacent to East-West Railroad\n",
      "Feature2: Proximity to various conditions (if more than one is present)\n",
      "       Artery\tAdjacent to arterial street\n",
      "       Feedr\tAdjacent to feeder street\n",
      "       Norm\tNormal\n",
      "       RRNn\tWithin 200' of North-South Railroad\n",
      "       RRAn\tAdjacent to North-South Railroad\n",
      "       PosN\tNear positive off-site feature--park, greenbelt, etc.\n",
      "       PosA\tAdjacent to postive off-site feature\n",
      "       RRNe\tWithin 200' of East-West Railroad\n",
      "       RRAe\tAdjacent to East-West Railroad\n",
      "Type: Type of property\n",
      "       1Fam\tSingle-family Detached\n",
      "       2FmCon\tTwo-family Conversion; originally built as one-family dwelling\n",
      "       Duplx\tDuplex\n",
      "       TwnhsE\tTownhouse End Unit\n",
      "       TwnhsI\tTownhouse Inside Unit\n",
      "Style: Style of property\n",
      "       1Story\tOne story\n",
      "       1.5Fin\tOne and one-half story: 2nd level finished\n",
      "       1.5Unf\tOne and one-half story: 2nd level unfinished\n",
      "       2Story\tTwo story\n",
      "       2.5Fin\tTwo and one-half story: 2nd level finished\n",
      "       2.5Unf\tTwo and one-half story: 2nd level unfinished\n",
      "       SFoyer\tSplit Foyer\n",
      "       SLvl\tSplit Level\n",
      "Condition: Rates the overall condition of the house\n",
      "       10\tVery Excellent\n",
      "       9\tExcellent\n",
      "       8\tVery Good\n",
      "       7\tGood\n",
      "       6\tAbove Average\n",
      "       5\tAverage\n",
      "       4\tBelow Average\n",
      "       3\tFair\n",
      "       2\tPoor\n",
      "       1\tVery Poor\n",
      "BuildYear: Original construction date\n",
      "RefurbishYear: Date of refurbishment (same as construction date if no remodeling or additions)\n",
      "RoofType: Type of roof\n",
      "       Flat\tFlat\n",
      "       Gable\tGable\n",
      "       Gambrel\tGabrel (Barn)\n",
      "       Hip\tHip\n",
      "       Mansard\tMansard\n",
      "       Shed\tShed\n",
      "RoofMat: Roof material\n",
      "       ClyTile\tClay or Tile\n",
      "       CompShg\tStandard (Composite) Shingle\n",
      "       Membran\tMembrane\n",
      "       Metal\tMetal\n",
      "       Roll\tRoll\n",
      "       Tar&Grv\tGravel & Tar\n",
      "       WdShake\tWood Shakes\n",
      "       WdShngl\tWood Shingles\n",
      "ExteriorMat: Exterior covering on house\n",
      "       AsbShng\tAsbestos Shingles\n",
      "       AsphShn\tAsphalt Shingles\n",
      "       BrkComm\tBrick Common\n",
      "       BrkFace\tBrick Face\n",
      "       CBlock\tCinder Block\n",
      "       CemntBd\tCement Board\n",
      "       HdBoard\tHard Board\n",
      "       ImStucc\tImitation Stucco\n",
      "       MetalSd\tMetal Siding\n",
      "       Other\tOther\n",
      "       Plywood\tPlywood\n",
      "       PreCast\tPreCast\n",
      "       Stone\tStone\n",
      "       Stucco\tStucco\n",
      "       VinylSd\tVinyl Siding\n",
      "       Wd Sdng\tWood Siding\n",
      "       WdShing\tWood Shingles\n",
      "VeneerType: Masonry veneer type\n",
      "       BrkCmn\tBrick Common\n",
      "       BrkFace\tBrick Face\n",
      "       CBlock\tCinder Block\n",
      "       None\tNone\n",
      "       Stone\tStone\n",
      "VeneerArea: Masonry veneer area in square feet\n",
      "ExteriorCondition: Evaluates the present condition of the material on the exterior\n",
      "       Ex\tExcellent\n",
      "       Gd\tGood\n",
      "       TA\tAverage/Typical\n",
      "       Fa\tFair\n",
      "       Po\tPoor\n",
      "Foundation: Type of foundation\n",
      "       BrkTil\tBrick & Tile\n",
      "       CBlock\tCinder Block\n",
      "       PConc\tPoured Contrete\n",
      "       Slab\tSlab\n",
      "       Stone\tStone\n",
      "       Wood\tWood\n",
      "BaseHeight: Evaluates the height of the basement\n",
      "       Ex\tExcellent (100+ inches)\n",
      "       Gd\tGood (90-99 inches)\n",
      "       TA\tTypical (80-89 inches)\n",
      "       Fa\tFair (70-79 inches)\n",
      "       Po\tPoor (<70 inches\n",
      "       NA\tNo Basement\n",
      "BaseCondition: Evaluates the general condition of the basement\n",
      "       Ex\tExcellent\n",
      "       Gd\tGood\n",
      "       TA\tTypical - slight dampness allowed\n",
      "       Fa\tFair - dampness or some cracking or settling\n",
      "       Po\tPoor - Severe cracking, settling, or wetness\n",
      "       NA\tNo Basement\n",
      "BaseArea: Total square feet of basement area\n",
      "HeatingType: Type of heating\n",
      "       Floor\tFloor Furnace\n",
      "       GasA\tGas forced warm air furnace\n",
      "       GasW\tGas hot water or steam heat\n",
      "       Grav\tGravity furnace\n",
      "       OthW\tHot water or steam heat other than gas\n",
      "       Wall\tWall furnace\n",
      "HeatingQuality: Heating quality and condition\n",
      "       Ex\tExcellent\n",
      "       Gd\tGood\n",
      "       TA\tAverage/Typical\n",
      "       Fa\tFair\n",
      "       Po\tPoor\n",
      "AC: Central air conditioning\n",
      "       N\tNo\n",
      "       Y\tYes\n",
      "Electrical: Electrical system\n",
      "       SBrkr\tStandard Circuit Breakers & Romex\n",
      "       FuseA\tFuse Box over 60 AMP and all Romex wiring (Average)\n",
      "       FuseF\t60 AMP Fuse Box and mostly Romex wiring (Fair)\n",
      "       FuseP\t60 AMP Fuse Box and mostly knob & tube wiring (poor)\n",
      "       Mix\tMixed\n",
      "Area1: First Floor square feet\n",
      "Area2: Second floor square feet\n",
      "LQArea: Low quality finished square feet (all floors)\n",
      "AGroundArea: Above grade (ground) living area square feet\n",
      "BaseBath: Basement full bathrooms\n",
      "BaseHalfBath: Basement half bathrooms\n",
      "FullBath: Full bathrooms above grade\n",
      "HBath: Half baths above grade\n",
      "AGroundBedroom: Bedrooms above grade (does NOT include basement bedrooms)\n",
      "AGroundKitchens: Kitchens above grade\n",
      "KitchenQuality: Kitchen quality\n",
      "       Ex\tExcellent\n",
      "       Gd\tGood\n",
      "       TA\tTypical/Average\n",
      "       Fa\tFair\n",
      "       Po\tPoor\n",
      "AGroundRooms: Total rooms above grade (does not include bathrooms)\n",
      "Functionality: Home functionality (Assume typical unless deductions are warranted)\n",
      "       Typ\tTypical Functionality\n",
      "       Min1\tMinor Deductions 1\n",
      "       Min2\tMinor Deductions 2\n",
      "       Mod\tModerate Deductions\n",
      "       Maj1\tMajor Deductions 1\n",
      "       Maj2\tMajor Deductions 2\n",
      "       Sev\tSeverely Damaged\n",
      "       Sal\tSalvage only\n",
      "Fireplaces: Number of fireplaces\n",
      "FireplaceQuality: Fireplace quality\n",
      "       Ex\tExcellent - Exceptional Masonry Fireplace\n",
      "       Gd\tGood - Masonry Fireplace in main level\n",
      "       TA\tAverage - Prefabricated Fireplace in main living area or Masonry Fireplace in basement\n",
      "       Fa\tFair - Prefabricated Fireplace in basement\n",
      "       Po\tPoor - Ben Franklin Stove\n",
      "       NA\tNo Fireplace\n",
      "GarageType: Garage location\n",
      "       2Types\tMore than one type of garage\n",
      "       Attchd\tAttached to home\n",
      "       Basment\tBasement Garage\n",
      "       BuiltIn\tBuilt-In (Garage part of house - typically has room above garage)\n",
      "       CarPort\tCar Port\n",
      "       Detchd\tDetached from home\n",
      "       NA\tNo Garage\n",
      "GarageBuildYear: Year garage was built\n",
      "GarageFinish: Interior finish of the garage\n",
      "       Fin\tFinished\n",
      "       RFn\tRough Finished\n",
      "       Unf\tUnfinished\n",
      "       NA\tNo Garage\n",
      "GarageCars: Size of garage in car capacity\n",
      "GarageArea: Size of garage in square feet\n",
      "GarageCondition: Garage condition\n",
      "       Ex\tExcellent\n",
      "       Gd\tGood\n",
      "       TA\tTypical/Average\n",
      "       Fa\tFair\n",
      "       Po\tPoor\n",
      "       NA\tNo Garage\n",
      "DriveSurface: Paved driveway\n",
      "       Y\tPaved\n",
      "       P\tPartial Pavement\n",
      "       N\tDirt/Gravel\n",
      "WoodDeckArea: Wood deck area in square feet\n",
      "OpenPorchArea: Open porch area in square feet\n",
      "EnclosedPorchArea: Enclosed porch area in square feet\n",
      "3SeasonPorchArea: Three season porch area in square feet\n",
      "ScreenPorchArea: Screen porch area in square feet\n",
      "PoolArea: Pool area in square feet\n",
      "PoolQuality: Pool quality\n",
      "       Ex\tExcellent\n",
      "       Gd\tGood\n",
      "       TA\tAverage/Typical\n",
      "       Fa\tFair\n",
      "       NA\tNo Pool\n",
      "FenceQuality: Fence quality\n",
      "       GdPrv\tGood Privacy\n",
      "       MnPrv\tMinimum Privacy\n",
      "       GdWo\tGood Wood\n",
      "       MnWw\tMinimum Wood/Wire\n",
      "       NA\tNo Fence\n",
      "OtherFeature: Miscellaneous feature not covered in other categories\n",
      "       Elev\tElevator\n",
      "       Gar2\t2nd Garage (if not described in garage section)\n",
      "       Othr\tOther\n",
      "       Shed\tShed (over 100 SF)\n",
      "       TenC\tTennis Court\n",
      "       NA\tNone\n",
      "FeaturePrice: $Value of miscellaneous feature\n",
      "SaleMonth: Month Sold (MM)\n",
      "SaleYear: Year Sold (YYYY)\n",
      "SaleType: Type of sale\n",
      "       WD \tWarranty Deed - Conventional\n",
      "       CWD\tWarranty Deed - Cash\n",
      "       VWD\tWarranty Deed - VA Loan\n",
      "       New\tHome just constructed and sold\n",
      "       COD\tCourt Officer Deed/Estate\n",
      "       Con\tContract 15% Down payment regular terms\n",
      "       ConLw\tContract Low Down payment and low interest\n",
      "       ConLI\tContract Low Interest\n",
      "       ConLD\tContract Low Down\n",
      "       Oth\tOther\n",
      "SaleCondition: Condition of sale\n",
      "       Normal\tNormal Sale\n",
      "       Abnorml\tAbnormal Sale -  trade, foreclosure, short sale\n",
      "       AdjLand\tAdjoining Land Purchase\n",
      "       Alloca\tAllocation - two linked properties with separate deeds, typically condo with a garage unit\n",
      "       Family\tSale between family members\n",
      "       Partial\tHome was not completed when last assessed (associated with New Homes)\n"
     ]
    }
   ],
   "source": [
    "\"\"\"\n",
    "    The typo in data_info.txt has been fixed: \"3SeasonnPorchArea\" (else fixing in code)\n",
    "    \n",
    "    1. Split whole text on EMPTY Lines\n",
    "    2. Filter out empty lines from ingestion into list\n",
    "    3. Strip empty lines from newline-breaks but keep white space\n",
    "\"\"\"\n",
    "\n",
    "info = [m.strip('\\n') for m in open('./data_info.txt', 'r').read().split('\\n\\n')\n",
    "        if m not in ('', '\\n')]\n",
    "for m in info:\n",
    "    print(m)"
   ]
  },
  {
   "cell_type": "code",
   "execution_count": 4,
   "id": "f714ecc4",
   "metadata": {},
   "outputs": [
    {
     "name": "stdout",
     "output_type": "stream",
     "text": [
      "County 1 ['Newham Wiltshire']\n"
     ]
    }
   ],
   "source": [
    "\"\"\"\n",
    "    Separate keys (columns names) from their values (categorical only).\n",
    "\n",
    "    Values are always multiples (otherwise trivial)\n",
    "    and indented in the original text.\n",
    "\n",
    "    Values and each of their definitions are tab separated:\n",
    "    Make sure to further strip white spaces.\n",
    "\"\"\"\n",
    "\n",
    "keys = {}\n",
    "last_key = None\n",
    "values = {}\n",
    "for i in range(1, len(info)):\n",
    "    s = info[i].split('\\n')  # multiples of the values (if)\n",
    "    if len(s) == 1:\n",
    "        s = s[0]\n",
    "        s1, s2 = s.split(': ')\n",
    "        s1 = s1.strip()\n",
    "        if s1 == '3SeasonnPorchArea':  # fix mistake\n",
    "            s1 = '3SeasonPorchArea'\n",
    "        s2 = s2.strip()\n",
    "        assert(s1 not in keys)\n",
    "        keys[s1] = s2\n",
    "        last_key = s1\n",
    "        continue\n",
    "    assert(last_key is not None)\n",
    "    assert(last_key not in values)\n",
    "    values[last_key] = [ss.strip().split('\\t') for ss in s]\n",
    "\n",
    "for k,v in values.items():  # Recognize!\n",
    "    for vv in v:\n",
    "        if len(vv) != 2:\n",
    "            print(k, len(vv), vv)\n",
    "    \n",
    "for k,v in values.items():\n",
    "    if k=='County': continue  #\n",
    "    values[k] = [(vv[0].strip(), vv[1].strip()) for vv in v]"
   ]
  },
  {
   "cell_type": "code",
   "execution_count": 5,
   "id": "442c1b8e",
   "metadata": {
    "scrolled": false
   },
   "outputs": [
    {
     "name": "stdout",
     "output_type": "stream",
     "text": [
      "{'AC': [('N', 'No'), ('Y', 'Yes')],\n",
      " 'AlleyType': [('Grvl', 'Gravel'),\n",
      "               ('Pave', 'Paved'),\n",
      "               ('NA', 'No alley access')],\n",
      " 'BaseCondition': [('Ex', 'Excellent'),\n",
      "                   ('Gd', 'Good'),\n",
      "                   ('TA', 'Typical - slight dampness allowed'),\n",
      "                   ('Fa', 'Fair - dampness or some cracking or settling'),\n",
      "                   ('Po', 'Poor - Severe cracking, settling, or wetness'),\n",
      "                   ('NA', 'No Basement')],\n",
      " 'BaseHeight': [('Ex', 'Excellent (100+ inches)'),\n",
      "                ('Gd', 'Good (90-99 inches)'),\n",
      "                ('TA', 'Typical (80-89 inches)'),\n",
      "                ('Fa', 'Fair (70-79 inches)'),\n",
      "                ('Po', 'Poor (<70 inches'),\n",
      "                ('NA', 'No Basement')],\n",
      " 'BuildType': [('20', '1-STORY >=1946'),\n",
      "               ('30', '1-STORY <1946'),\n",
      "               ('40', '1-STORY WITH ATTIC'),\n",
      "               ('45', '1.5 STORY UNFINISHED'),\n",
      "               ('50', '1.5 STORY FINISHED'),\n",
      "               ('60', '2-STORY >=1946'),\n",
      "               ('70', '2-STORY <1946'),\n",
      "               ('75', '2.5 STORY'),\n",
      "               ('80', 'SPLIT OR MULTI-LEVEL'),\n",
      "               ('85', 'SPLIT FOYER'),\n",
      "               ('90', 'DUPLEX'),\n",
      "               ('120', '1-STORY PUD (Planned Unit Development) >=1946'),\n",
      "               ('150', '1.5 STORY PUD'),\n",
      "               ('160', '2-STORY PUD >=1946'),\n",
      "               ('180', 'PUD - MULTILEVEL'),\n",
      "               ('190', '2 FAMILY CONVERSION')],\n",
      " 'Condition': [('10', 'Very Excellent'),\n",
      "               ('9', 'Excellent'),\n",
      "               ('8', 'Very Good'),\n",
      "               ('7', 'Good'),\n",
      "               ('6', 'Above Average'),\n",
      "               ('5', 'Average'),\n",
      "               ('4', 'Below Average'),\n",
      "               ('3', 'Fair'),\n",
      "               ('2', 'Poor'),\n",
      "               ('1', 'Very Poor')],\n",
      " 'Configuration': [('Inside', 'Inside lot'),\n",
      "                   ('Corner', 'Corner lot'),\n",
      "                   ('CulDSac', 'Cul-de-sac'),\n",
      "                   ('FR2', 'Frontage on 2 sides of property'),\n",
      "                   ('FR3', 'Frontage on 3 sides of property')],\n",
      " 'County': [['Manchester', 'County Durham'],\n",
      "            ['Leicester', 'East Riding of Yorkshire'],\n",
      "            ['Sandwell', 'Worcestershire'],\n",
      "            ['West Sussex', 'Barnet'],\n",
      "            ['Newham Wiltshire'],\n",
      "            ['Wigan', 'Bristol, City of'],\n",
      "            ['Essex', 'Cambridgeshire'],\n",
      "            ['Lancashire', 'West Berkshire'],\n",
      "            ['Northamptonshire', 'Redcar and Cleveland'],\n",
      "            ['South Gloucestershire', 'Hounslow'],\n",
      "            ['Cheshire West and Chester', 'Norfolk'],\n",
      "            ['Peterborough', 'nan'],\n",
      "            ['Cumbria', 'Bromley'],\n",
      "            ['Gloucestershire', 'Hackney'],\n",
      "            ['Hampshire', 'Cheshire East'],\n",
      "            ['Barnsley', 'Powys'],\n",
      "            ['Warwickshire', 'Stockton-on-Tees'],\n",
      "            ['Slough', 'North Yorkshire'],\n",
      "            ['Devon', 'Milton Keynes'],\n",
      "            ['Birmingham', 'Wolverhampton'],\n",
      "            ['Surrey', 'Doncaster'],\n",
      "            ['Bexley', 'Denbighshire'],\n",
      "            ['Southampton', 'Northumberland'],\n",
      "            ['Rotherham', 'Tameside'],\n",
      "            ['Leicestershire', 'York'],\n",
      "            ['Oxfordshire', 'Bradford'],\n",
      "            ['Greenwich', 'Gateshead'],\n",
      "            ['Bridgend', 'Leeds'],\n",
      "            ['Kingston upon Hull, City of', 'Rochdale'],\n",
      "            ['Somerset', 'Blackpool'],\n",
      "            ['Wirral', 'Stockport'],\n",
      "            ['Salford', 'East Sussex'],\n",
      "            ['Kent', 'Cardiff'],\n",
      "            ['Isle of Anglesey', 'Derbyshire'],\n",
      "            ['Kensington and Chelsea', 'Swindon'],\n",
      "            ['St. Helens', 'Haringey'],\n",
      "            ['Nottinghamshire', 'Vale of Glamorgan'],\n",
      "            ['Poole', 'Waltham Forest'],\n",
      "            ['Thurrock', 'Bournemouth'],\n",
      "            ['Bolton', 'Staffordshire'],\n",
      "            ['Westminster', 'Lincolnshire'],\n",
      "            ['Lewisham', 'Kirklees'],\n",
      "            ['Dorset', 'Sheffield'],\n",
      "            ['Southwark', 'Gwynedd'],\n",
      "            ['Cornwall', 'Camden'],\n",
      "            ['Hartlepool', 'Richmond upon Thames'],\n",
      "            ['Sunderland', 'Shropshire'],\n",
      "            ['Calderdale', 'Hertfordshire'],\n",
      "            ['Walsall', 'Suffolk'],\n",
      "            ['Sefton', 'Dudley'],\n",
      "            ['Warrington', 'Conwy'],\n",
      "            ['Bedford', 'Sutton'],\n",
      "            ['Newport', 'North Tyneside'],\n",
      "            ['Coventry', 'Hillingdon'],\n",
      "            ['Bracknell Forest', 'Buckinghamshire'],\n",
      "            ['Plymouth', 'Croydon'],\n",
      "            ['Stoke-on-Trent', 'Trafford'],\n",
      "            ['Pembrokeshire', 'North East Lincolnshire'],\n",
      "            ['Central Bedfordshire', 'Swansea'],\n",
      "            ['Torfaen', 'Rhondda Cynon Taf'],\n",
      "            ['Lambeth', 'Isle of Wight'],\n",
      "            ['Harrow', 'Liverpool'],\n",
      "            ['Medway', 'Merton'],\n",
      "            ['Solihull', 'Herefordshire, County of'],\n",
      "            ['Bury', 'Wakefield'],\n",
      "            ['Darlington', 'Barking and Dagenham'],\n",
      "            ['Southend-on-Sea', 'Kingston upon Thames'],\n",
      "            ['North Somerset', 'Wandsworth'],\n",
      "            ['Knowsley', 'Portsmouth'],\n",
      "            ['South Tyneside', 'Islington'],\n",
      "            ['Caerphilly', 'Torbay'],\n",
      "            ['Nottingham', 'Ealing'],\n",
      "            ['Enfield', 'Flintshire'],\n",
      "            ['Hammersmith and Fulham', 'Blaenau Gwent'],\n",
      "            ['Havering', 'Newcastle upon Tyne'],\n",
      "            ['Brent', 'Oldham'],\n",
      "            ['Middlesbrough', 'City of London'],\n",
      "            ['Brighton and Hove', 'Monmouthshire'],\n",
      "            ['North Lincolnshire', 'Telford and Wrekin'],\n",
      "            ['Neath Port Talbot', 'Ceredigion'],\n",
      "            ['Wokingham', 'Bath and North East Somerset'],\n",
      "            ['Halton', 'Rutland'],\n",
      "            ['Derby', 'Reading']],\n",
      " 'DriveSurface': [('Y', 'Paved'),\n",
      "                  ('P', 'Partial Pavement'),\n",
      "                  ('N', 'Dirt/Gravel')],\n",
      " 'Electrical': [('SBrkr', 'Standard Circuit Breakers & Romex'),\n",
      "                ('FuseA',\n",
      "                 'Fuse Box over 60 AMP and all Romex wiring (Average)'),\n",
      "                ('FuseF', '60 AMP Fuse Box and mostly Romex wiring (Fair)'),\n",
      "                ('FuseP',\n",
      "                 '60 AMP Fuse Box and mostly knob & tube wiring (poor)'),\n",
      "                ('Mix', 'Mixed')],\n",
      " 'ExteriorCondition': [('Ex', 'Excellent'),\n",
      "                       ('Gd', 'Good'),\n",
      "                       ('TA', 'Average/Typical'),\n",
      "                       ('Fa', 'Fair'),\n",
      "                       ('Po', 'Poor')],\n",
      " 'ExteriorMat': [('AsbShng', 'Asbestos Shingles'),\n",
      "                 ('AsphShn', 'Asphalt Shingles'),\n",
      "                 ('BrkComm', 'Brick Common'),\n",
      "                 ('BrkFace', 'Brick Face'),\n",
      "                 ('CBlock', 'Cinder Block'),\n",
      "                 ('CemntBd', 'Cement Board'),\n",
      "                 ('HdBoard', 'Hard Board'),\n",
      "                 ('ImStucc', 'Imitation Stucco'),\n",
      "                 ('MetalSd', 'Metal Siding'),\n",
      "                 ('Other', 'Other'),\n",
      "                 ('Plywood', 'Plywood'),\n",
      "                 ('PreCast', 'PreCast'),\n",
      "                 ('Stone', 'Stone'),\n",
      "                 ('Stucco', 'Stucco'),\n",
      "                 ('VinylSd', 'Vinyl Siding'),\n",
      "                 ('Wd Sdng', 'Wood Siding'),\n",
      "                 ('WdShing', 'Wood Shingles')],\n",
      " 'Feature1': [('Artery', 'Adjacent to arterial street'),\n",
      "              ('Feedr', 'Adjacent to feeder street'),\n",
      "              ('Norm', 'Normal'),\n",
      "              ('RRNn', \"Within 200' of North-South Railroad\"),\n",
      "              ('RRAn', 'Adjacent to North-South Railroad'),\n",
      "              ('PosN', 'Near positive off-site feature--park, greenbelt, etc.'),\n",
      "              ('PosA', 'Adjacent to postive off-site feature'),\n",
      "              ('RRNe', \"Within 200' of East-West Railroad\"),\n",
      "              ('RRAe', 'Adjacent to East-West Railroad')],\n",
      " 'Feature2': [('Artery', 'Adjacent to arterial street'),\n",
      "              ('Feedr', 'Adjacent to feeder street'),\n",
      "              ('Norm', 'Normal'),\n",
      "              ('RRNn', \"Within 200' of North-South Railroad\"),\n",
      "              ('RRAn', 'Adjacent to North-South Railroad'),\n",
      "              ('PosN', 'Near positive off-site feature--park, greenbelt, etc.'),\n",
      "              ('PosA', 'Adjacent to postive off-site feature'),\n",
      "              ('RRNe', \"Within 200' of East-West Railroad\"),\n",
      "              ('RRAe', 'Adjacent to East-West Railroad')],\n",
      " 'FenceQuality': [('GdPrv', 'Good Privacy'),\n",
      "                  ('MnPrv', 'Minimum Privacy'),\n",
      "                  ('GdWo', 'Good Wood'),\n",
      "                  ('MnWw', 'Minimum Wood/Wire'),\n",
      "                  ('NA', 'No Fence')],\n",
      " 'FireplaceQuality': [('Ex', 'Excellent - Exceptional Masonry Fireplace'),\n",
      "                      ('Gd', 'Good - Masonry Fireplace in main level'),\n",
      "                      ('TA',\n",
      "                       'Average - Prefabricated Fireplace in main living area '\n",
      "                       'or Masonry Fireplace in basement'),\n",
      "                      ('Fa', 'Fair - Prefabricated Fireplace in basement'),\n",
      "                      ('Po', 'Poor - Ben Franklin Stove'),\n",
      "                      ('NA', 'No Fireplace')],\n",
      " 'Foundation': [('BrkTil', 'Brick & Tile'),\n",
      "                ('CBlock', 'Cinder Block'),\n",
      "                ('PConc', 'Poured Contrete'),\n",
      "                ('Slab', 'Slab'),\n",
      "                ('Stone', 'Stone'),\n",
      "                ('Wood', 'Wood')],\n",
      " 'Functionality': [('Typ', 'Typical Functionality'),\n",
      "                   ('Min1', 'Minor Deductions 1'),\n",
      "                   ('Min2', 'Minor Deductions 2'),\n",
      "                   ('Mod', 'Moderate Deductions'),\n",
      "                   ('Maj1', 'Major Deductions 1'),\n",
      "                   ('Maj2', 'Major Deductions 2'),\n",
      "                   ('Sev', 'Severely Damaged'),\n",
      "                   ('Sal', 'Salvage only')],\n",
      " 'GarageCondition': [('Ex', 'Excellent'),\n",
      "                     ('Gd', 'Good'),\n",
      "                     ('TA', 'Typical/Average'),\n",
      "                     ('Fa', 'Fair'),\n",
      "                     ('Po', 'Poor'),\n",
      "                     ('NA', 'No Garage')],\n",
      " 'GarageFinish': [('Fin', 'Finished'),\n",
      "                  ('RFn', 'Rough Finished'),\n",
      "                  ('Unf', 'Unfinished'),\n",
      "                  ('NA', 'No Garage')],\n",
      " 'GarageType': [('2Types', 'More than one type of garage'),\n",
      "                ('Attchd', 'Attached to home'),\n",
      "                ('Basment', 'Basement Garage'),\n",
      "                ('BuiltIn',\n",
      "                 'Built-In (Garage part of house - typically has room above '\n",
      "                 'garage)'),\n",
      "                ('CarPort', 'Car Port'),\n",
      "                ('Detchd', 'Detached from home'),\n",
      "                ('NA', 'No Garage')],\n",
      " 'HeatingQuality': [('Ex', 'Excellent'),\n",
      "                    ('Gd', 'Good'),\n",
      "                    ('TA', 'Average/Typical'),\n",
      "                    ('Fa', 'Fair'),\n",
      "                    ('Po', 'Poor')],\n",
      " 'HeatingType': [('Floor', 'Floor Furnace'),\n",
      "                 ('GasA', 'Gas forced warm air furnace'),\n",
      "                 ('GasW', 'Gas hot water or steam heat'),\n",
      "                 ('Grav', 'Gravity furnace'),\n",
      "                 ('OthW', 'Hot water or steam heat other than gas'),\n",
      "                 ('Wall', 'Wall furnace')],\n",
      " 'KitchenQuality': [('Ex', 'Excellent'),\n",
      "                    ('Gd', 'Good'),\n",
      "                    ('TA', 'Typical/Average'),\n",
      "                    ('Fa', 'Fair'),\n",
      "                    ('Po', 'Poor')],\n",
      " 'LandContour': [('Lvl', 'Near Flat/Level'),\n",
      "                 ('Bnk',\n",
      "                  'Banked - Quick and significant rise from street grade to '\n",
      "                  'building'),\n",
      "                 ('HLS', 'Hillside - Significant slope from side to side'),\n",
      "                 ('Low', 'Depression')],\n",
      " 'LandSlope': [('Gtl', 'Gentle slope'),\n",
      "               ('Mod', 'Moderate Slope'),\n",
      "               ('Sev', 'Severe Slope')],\n",
      " 'OtherFeature': [('Elev', 'Elevator'),\n",
      "                  ('Gar2', '2nd Garage (if not described in garage section)'),\n",
      "                  ('Othr', 'Other'),\n",
      "                  ('Shed', 'Shed (over 100 SF)'),\n",
      "                  ('TenC', 'Tennis Court'),\n",
      "                  ('NA', 'None')],\n",
      " 'PoolQuality': [('Ex', 'Excellent'),\n",
      "                 ('Gd', 'Good'),\n",
      "                 ('TA', 'Average/Typical'),\n",
      "                 ('Fa', 'Fair'),\n",
      "                 ('NA', 'No Pool')],\n",
      " 'RoadType': [('Grvl', 'Gravel'), ('Pave', 'Paved')],\n",
      " 'RoofMat': [('ClyTile', 'Clay or Tile'),\n",
      "             ('CompShg', 'Standard (Composite) Shingle'),\n",
      "             ('Membran', 'Membrane'),\n",
      "             ('Metal', 'Metal'),\n",
      "             ('Roll', 'Roll'),\n",
      "             ('Tar&Grv', 'Gravel & Tar'),\n",
      "             ('WdShake', 'Wood Shakes'),\n",
      "             ('WdShngl', 'Wood Shingles')],\n",
      " 'RoofType': [('Flat', 'Flat'),\n",
      "              ('Gable', 'Gable'),\n",
      "              ('Gambrel', 'Gabrel (Barn)'),\n",
      "              ('Hip', 'Hip'),\n",
      "              ('Mansard', 'Mansard'),\n",
      "              ('Shed', 'Shed')],\n",
      " 'SaleCondition': [('Normal', 'Normal Sale'),\n",
      "                   ('Abnorml',\n",
      "                    'Abnormal Sale -  trade, foreclosure, short sale'),\n",
      "                   ('AdjLand', 'Adjoining Land Purchase'),\n",
      "                   ('Alloca',\n",
      "                    'Allocation - two linked properties with separate deeds, '\n",
      "                    'typically condo with a garage unit'),\n",
      "                   ('Family', 'Sale between family members'),\n",
      "                   ('Partial',\n",
      "                    'Home was not completed when last assessed (associated '\n",
      "                    'with New Homes)')],\n",
      " 'SaleType': [('WD', 'Warranty Deed - Conventional'),\n",
      "              ('CWD', 'Warranty Deed - Cash'),\n",
      "              ('VWD', 'Warranty Deed - VA Loan'),\n",
      "              ('New', 'Home just constructed and sold'),\n",
      "              ('COD', 'Court Officer Deed/Estate'),\n",
      "              ('Con', 'Contract 15% Down payment regular terms'),\n",
      "              ('ConLw', 'Contract Low Down payment and low interest'),\n",
      "              ('ConLI', 'Contract Low Interest'),\n",
      "              ('ConLD', 'Contract Low Down'),\n",
      "              ('Oth', 'Other')],\n",
      " 'Shape': [('Reg', 'Regular'),\n",
      "           ('IR1', 'Slightly irregular'),\n",
      "           ('IR2', 'Moderately Irregular'),\n",
      "           ('IR3', 'Irregular')],\n",
      " 'Style': [('1Story', 'One story'),\n",
      "           ('1.5Fin', 'One and one-half story: 2nd level finished'),\n",
      "           ('1.5Unf', 'One and one-half story: 2nd level unfinished'),\n",
      "           ('2Story', 'Two story'),\n",
      "           ('2.5Fin', 'Two and one-half story: 2nd level finished'),\n",
      "           ('2.5Unf', 'Two and one-half story: 2nd level unfinished'),\n",
      "           ('SFoyer', 'Split Foyer'),\n",
      "           ('SLvl', 'Split Level')],\n",
      " 'Type': [('1Fam', 'Single-family Detached'),\n",
      "          ('2FmCon',\n",
      "           'Two-family Conversion; originally built as one-family dwelling'),\n",
      "          ('Duplx', 'Duplex'),\n",
      "          ('TwnhsE', 'Townhouse End Unit'),\n",
      "          ('TwnhsI', 'Townhouse Inside Unit')],\n",
      " 'Utilities': [('AllPub', 'All public Utilities (E,G,W,& S)'),\n",
      "               ('NoSewr', 'Electricity, Gas, and Water (Septic Tank)'),\n",
      "               ('NoSeWa', 'Electricity and Gas Only'),\n",
      "               ('ELO', 'Electricity only')],\n",
      " 'VeneerType': [('BrkCmn', 'Brick Common'),\n",
      "                ('BrkFace', 'Brick Face'),\n",
      "                ('CBlock', 'Cinder Block'),\n",
      "                ('None', 'None'),\n",
      "                ('Stone', 'Stone')],\n",
      " 'Zone': [('A', 'Agriculture'),\n",
      "          ('C', 'Commercial'),\n",
      "          ('FV', 'Floating Village Residential'),\n",
      "          ('I', 'Industrial'),\n",
      "          ('RH', 'Residential High Density'),\n",
      "          ('RL', 'Residential Low Density'),\n",
      "          ('RP', 'Residential Low Density Park'),\n",
      "          ('RM', 'Residential Medium Density')]}\n"
     ]
    }
   ],
   "source": [
    "pprint.pprint(values)"
   ]
  },
  {
   "cell_type": "code",
   "execution_count": 6,
   "id": "83aba7ad",
   "metadata": {},
   "outputs": [
    {
     "name": "stdout",
     "output_type": "stream",
     "text": [
      "30 ['3SeasonPorchArea', 'AGroundArea', 'AGroundBedroom', 'AGroundKitchens', 'AGroundRooms', 'Area', 'Area1', 'Area2', 'BaseArea', 'BaseBath', 'BaseHalfBath', 'BuildYear', 'EnclosedPorchArea', 'FeaturePrice', 'Fireplaces', 'FullBath', 'GarageArea', 'GarageBuildYear', 'GarageCars', 'HBath', 'LQArea', 'OpenPorchArea', 'PoolArea', 'RefurbishYear', 'SaleMonth', 'SaleYear', 'ScreenPorchArea', 'StreetLength', 'VeneerArea', 'WoodDeckArea']\n"
     ]
    }
   ],
   "source": [
    "numerical = keys.keys() - values.keys()\n",
    "print(len(numerical), sorted(numerical))"
   ]
  },
  {
   "cell_type": "code",
   "execution_count": 7,
   "id": "4f0e001b",
   "metadata": {},
   "outputs": [
    {
     "name": "stdout",
     "output_type": "stream",
     "text": [
      "df1_description\n",
      "    A categorical interpreted numerically:\n",
      "  Info values: True / Info key: True / BuildType\n",
      "  Info values: False / Info key: False / BaseHBath\n",
      "  Info values: False / Info key: False / Price\n",
      "df2_description\n",
      "  Info values: False / Info key: False / Id\n",
      "    A categorical interpreted numerically:\n",
      "  Info values: True / Info key: True / BuildType\n",
      "    A categorical interpreted numerically:\n",
      "  Info values: True / Info key: True / Condition\n"
     ]
    }
   ],
   "source": [
    "df1_description = df1.describe()  # statistical percentiles\n",
    "df2_description = df2.describe()  # filters for numerical columns\n",
    "print('df1_description')\n",
    "for c in df1_description.columns:\n",
    "    if c in values:\n",
    "        print('    A categorical interpreted numerically:')\n",
    "    if c not in numerical or c not in keys:\n",
    "        print('  Info values:', c in values, '/ Info key:', c in keys, '/', c)\n",
    "print('df2_description')\n",
    "for c in df2_description.columns:\n",
    "    if c in values:\n",
    "        print('    A categorical interpreted numerically:')\n",
    "    if c not in numerical or c not in keys:\n",
    "        print('  Info values:', c in values, '/ Info key:', c in keys, '/', c)"
   ]
  },
  {
   "cell_type": "code",
   "execution_count": 8,
   "id": "8aee67e9",
   "metadata": {},
   "outputs": [
    {
     "data": {
      "text/plain": [
       "0"
      ]
     },
     "execution_count": 8,
     "metadata": {},
     "output_type": "execute_result"
    }
   ],
   "source": [
    "\"\"\"\n",
    "    BaseHBath would have been BaseHalfBath (number of \"rooms\")\n",
    "    \n",
    "    Price is the dependent or predicted variable (not to be confused with FeaturePrice* see exploration later/below)\n",
    "    \n",
    "    ID is \"table\" specific and not generally in data_info.txt\n",
    "\"\"\"\n",
    "0"
   ]
  },
  {
   "cell_type": "code",
   "execution_count": 9,
   "id": "7712e057",
   "metadata": {},
   "outputs": [
    {
     "name": "stdout",
     "output_type": "stream",
     "text": [
      "False\n",
      "False\n",
      "False\n"
     ]
    }
   ],
   "source": [
    "print(df1['BuildType'].isna().any())\n",
    "print(df2['BuildType'].isna().any())\n",
    "print(df2['Condition'].isna().any())"
   ]
  },
  {
   "cell_type": "code",
   "execution_count": 10,
   "id": "61e6e5d6",
   "metadata": {},
   "outputs": [
    {
     "name": "stdout",
     "output_type": "stream",
     "text": [
      "[ 90  30 160  80  20  60  50  70 190 120  85  45  75  40 180]\n",
      "[ 20 190  80  50 120 160  70  30  60  75  45  90  40 180  85]\n",
      "[7 5 4 8 6 9 3 2 1]\n"
     ]
    }
   ],
   "source": [
    "print(df1['BuildType'].unique())\n",
    "print(df2['BuildType'].unique())\n",
    "print(df2['Condition'].unique())"
   ]
  },
  {
   "cell_type": "code",
   "execution_count": 11,
   "id": "9ff25893",
   "metadata": {},
   "outputs": [],
   "source": [
    "\"\"\"\n",
    "    Convert misinterpreted numerically to categorical!\n",
    "\n",
    "\"\"\"\n",
    "df1['BuildType'] = df1['BuildType'].astype(str)\n",
    "df2['BuildType'] = df2['BuildType'].astype(str)\n",
    "df2['Condition'] = df2['Condition'].astype(str)"
   ]
  },
  {
   "cell_type": "code",
   "execution_count": 12,
   "id": "b8a8c608",
   "metadata": {},
   "outputs": [
    {
     "name": "stdout",
     "output_type": "stream",
     "text": [
      "{dtype('O'), dtype('int64'), dtype('float64')}\n",
      "{dtype('O'), dtype('int64'), dtype('float64')}\n"
     ]
    }
   ],
   "source": [
    "print(set([df1[column].dtype for column in df1]))\n",
    "print(set([df2[column].dtype for column in df2]))"
   ]
  },
  {
   "cell_type": "code",
   "execution_count": 13,
   "id": "ececd361",
   "metadata": {},
   "outputs": [
    {
     "data": {
      "text/plain": [
       "(10,\n",
       " ['AlleyType',\n",
       "  'BaseHeight',\n",
       "  'BaseCondition',\n",
       "  'FireplaceQuality',\n",
       "  'GarageType',\n",
       "  'GarageFinish',\n",
       "  'GarageCondition',\n",
       "  'PoolQuality',\n",
       "  'FenceQuality',\n",
       "  'OtherFeature'])"
      ]
     },
     "execution_count": 13,
     "metadata": {},
     "output_type": "execute_result"
    }
   ],
   "source": [
    "\"\"\"\n",
    "    NA = not available; should be interpreted separately from nan\n",
    "    (So should None)\n",
    "\"\"\"\n",
    "NA_is_val = [k for k,v in values.items() if 'NA' in [vv[0] for vv in v]]\n",
    "len(NA_is_val), NA_is_val"
   ]
  },
  {
   "cell_type": "code",
   "execution_count": 14,
   "id": "b6abe883",
   "metadata": {},
   "outputs": [
    {
     "name": "stdout",
     "output_type": "stream",
     "text": [
      "BaseHBath False\n",
      "Price False\n",
      "\n",
      "Id False\n"
     ]
    }
   ],
   "source": [
    "numerics = ['int16', 'int32', 'int64', 'float16', 'float32', 'float64']\n",
    "newdf1 = df1.select_dtypes(include=numerics)\n",
    "newdf2 = df2.select_dtypes(include=numerics)\n",
    "odf1 = df1.select_dtypes(include=object)\n",
    "odf2 = df2.select_dtypes(include=object)\n",
    "\n",
    "\"\"\"\n",
    "    This we knew already:\n",
    "\"\"\"\n",
    "for s in set(newdf1.columns):\n",
    "    if s not in numerical:\n",
    "        print(s, s in numerical)\n",
    "print()\n",
    "for s in set(newdf2.columns):\n",
    "    if s not in numerical:\n",
    "        print(s, s in numerical)"
   ]
  },
  {
   "cell_type": "code",
   "execution_count": 15,
   "id": "7dda4c7c",
   "metadata": {},
   "outputs": [
    {
     "name": "stdout",
     "output_type": "stream",
     "text": [
      "9\n",
      "9\n",
      "10\n",
      "10\n"
     ]
    }
   ],
   "source": [
    "\"\"\"\n",
    "    Dealing with nan, None or \"null\"...\n",
    "\n",
    "\"\"\"\n",
    "print(df1.isna().any().sum())\n",
    "print(df1.isnull().any().sum())\n",
    "print(df2.isna().any().sum())\n",
    "print(df2.isnull().any().sum())"
   ]
  },
  {
   "cell_type": "code",
   "execution_count": 16,
   "id": "bf8abe11",
   "metadata": {},
   "outputs": [
    {
     "name": "stdout",
     "output_type": "stream",
     "text": [
      "T? \\ [Numeric] \\ [Categorical]:\n",
      "\n",
      "T1\n",
      " ['GarageBuildYear', 'StreetLength'] \n",
      " ['AlleyType', 'Electrical', 'FenceQuality', 'GarageType', 'PoolQuality', 'RoofMat', 'VeneerType']\n",
      "T2\n",
      " ['VeneerArea'] \n",
      " ['BaseCondition', 'BaseHeight', 'County', 'Electrical', 'FireplaceQuality', 'GarageCondition', 'GarageFinish', 'OtherFeature', 'RoofMat']\n",
      "\n",
      "in both (categorical)\n",
      "['Electrical', 'RoofMat']\n",
      "\n",
      "T1 ~ unknown\n",
      " ['Electrical', 'RoofMat', 'VeneerType']\n",
      "T1 ~ unknown | NA\n",
      " ['AlleyType', 'FenceQuality', 'GarageType', 'PoolQuality']\n",
      "T2 ~ unknown\n",
      " ['County', 'Electrical', 'RoofMat']\n",
      "T2 ~ unknown | NA\n",
      " ['BaseCondition', 'BaseHeight', 'FireplaceQuality', 'GarageCondition', 'GarageFinish', 'OtherFeature']\n"
     ]
    }
   ],
   "source": [
    "\"\"\"\n",
    "    Strategies:\n",
    "    -\n",
    "    If numerical, put median / put extrema (inf, 0, -inf) / drop whole column vs. row?\n",
    "    If categorical: put 'UNKNOWN' unless 'NA'\n",
    "\n",
    "\"\"\"\n",
    "na1 = df1.columns[df1.isna().any()]\n",
    "na2 = df2.columns[df2.isna().any()]\n",
    "NA_is_val = set(NA_is_val)\n",
    "num_na1 = set(na1) & numerical\n",
    "num_na2 = set(na2) & numerical\n",
    "cat_na1 = set(na1) - num_na1\n",
    "cat_na2 = set(na2) - num_na2\n",
    "print('T? \\ [Numeric] \\ [Categorical]:\\n')\n",
    "print('T1\\n', sorted(num_na1), '\\n', sorted(cat_na1))\n",
    "print('T2\\n', sorted(num_na2), '\\n', sorted(cat_na2))\n",
    "print('\\nin both (categorical)')\n",
    "print(sorted(cat_na1&cat_na2))\n",
    "print()\n",
    "in1 = cat_na1&NA_is_val\n",
    "in2 = cat_na2&NA_is_val\n",
    "print('T1 ~ unknown\\n', sorted(cat_na1-in1))\n",
    "print('T1 ~ unknown | NA\\n', sorted(in1))\n",
    "print('T2 ~ unknown\\n', sorted(cat_na2-in2))\n",
    "print('T2 ~ unknown | NA\\n', sorted(in2))"
   ]
  },
  {
   "cell_type": "code",
   "execution_count": 17,
   "id": "3efc0080",
   "metadata": {},
   "outputs": [
    {
     "name": "stderr",
     "output_type": "stream",
     "text": [
      "/var/folders/5l/9jlpm0zd27g5zv0ns0343ndr0000gn/T/ipykernel_96137/33447538.py:5: FutureWarning: Passing a set as an indexer is deprecated and will raise in a future version. Use a list instead.\n",
      "  df1[cat_na1 & NA_is_val].isna().sum()/df1.shape[0]*100\n"
     ]
    },
    {
     "data": {
      "text/plain": [
       "FenceQuality    80.753425\n",
       "AlleyType       93.767123\n",
       "PoolQuality     99.520548\n",
       "GarageType       5.547945\n",
       "dtype: float64"
      ]
     },
     "execution_count": 17,
     "metadata": {},
     "output_type": "execute_result"
    }
   ],
   "source": [
    "\"\"\"\n",
    "    Categories for which entity does not necessarily exist (for row/sales property)\n",
    "    % nan\n",
    "\"\"\"\n",
    "df1[cat_na1 & NA_is_val].isna().sum()/df1.shape[0]*100"
   ]
  },
  {
   "cell_type": "code",
   "execution_count": 18,
   "id": "72f5f12c",
   "metadata": {},
   "outputs": [
    {
     "name": "stderr",
     "output_type": "stream",
     "text": [
      "/var/folders/5l/9jlpm0zd27g5zv0ns0343ndr0000gn/T/ipykernel_96137/1675654334.py:8: FutureWarning: Passing a set as an indexer is deprecated and will raise in a future version. Use a list instead.\n",
      "  df2[cat_na2 & NA_is_val].isna().sum()/df2.shape[0]*100\n"
     ]
    },
    {
     "data": {
      "text/plain": [
       "OtherFeature        96.301370\n",
       "BaseHeight           2.534247\n",
       "GarageFinish         5.547945\n",
       "BaseCondition        2.534247\n",
       "FireplaceQuality    47.260274\n",
       "GarageCondition      5.547945\n",
       "dtype: float64"
      ]
     },
     "execution_count": 18,
     "metadata": {},
     "output_type": "execute_result"
    }
   ],
   "source": [
    "\"\"\"\n",
    "    Categories for which entity does not necessarily exist (ie has NA)\n",
    "    Notice: GarageType in df1 also has 5.547945%\n",
    "    Notice: BaseHeight == BaseCondition\n",
    "    \n",
    "    % nan\n",
    "\"\"\"\n",
    "df2[cat_na2 & NA_is_val].isna().sum()/df2.shape[0]*100"
   ]
  },
  {
   "cell_type": "code",
   "execution_count": 19,
   "id": "eec68bee",
   "metadata": {},
   "outputs": [
    {
     "data": {
      "text/plain": [
       "0"
      ]
     },
     "execution_count": 19,
     "metadata": {},
     "output_type": "execute_result"
    }
   ],
   "source": [
    "\"\"\"\n",
    "    DECISION (where NA_is_val): Replace nan with 'NA' category everywhere\n",
    "\"\"\"\n",
    "0"
   ]
  },
  {
   "cell_type": "code",
   "execution_count": 20,
   "id": "fa8847c7",
   "metadata": {},
   "outputs": [
    {
     "name": "stderr",
     "output_type": "stream",
     "text": [
      "/var/folders/5l/9jlpm0zd27g5zv0ns0343ndr0000gn/T/ipykernel_96137/1975405968.py:9: FutureWarning: Passing a set as an indexer is deprecated and will raise in a future version. Use a list instead.\n",
      "  df1[cat_na1-(cat_na1&NA_is_val)].isna().sum()/df1.shape[0]*100\n"
     ]
    },
    {
     "data": {
      "text/plain": [
       "Electrical    32.397260\n",
       "RoofMat       39.383562\n",
       "VeneerType     0.547945\n",
       "dtype: float64"
      ]
     },
     "execution_count": 20,
     "metadata": {},
     "output_type": "execute_result"
    }
   ],
   "source": [
    "\"\"\"\n",
    "    Categories for which entity is essential (therefore truly missing \"in data\" not in real life)\n",
    "    \n",
    "    Actually, VeneerType has None, should belong with NA\n",
    "    \n",
    "    % nan\n",
    "\"\"\"\n",
    "\n",
    "df1[cat_na1-(cat_na1&NA_is_val)].isna().sum()/df1.shape[0]*100\n"
   ]
  },
  {
   "cell_type": "code",
   "execution_count": 21,
   "id": "3b216936",
   "metadata": {},
   "outputs": [
    {
     "name": "stderr",
     "output_type": "stream",
     "text": [
      "/var/folders/5l/9jlpm0zd27g5zv0ns0343ndr0000gn/T/ipykernel_96137/2994047103.py:10: FutureWarning: Passing a set as an indexer is deprecated and will raise in a future version. Use a list instead.\n",
      "  df2[cat_na2-(cat_na2&NA_is_val)].isna().sum()/df2.shape[0]*100\n"
     ]
    },
    {
     "data": {
      "text/plain": [
       "Electrical    19.657534\n",
       "RoofMat       39.589041\n",
       "County         1.164384\n",
       "dtype: float64"
      ]
     },
     "execution_count": 21,
     "metadata": {},
     "output_type": "execute_result"
    }
   ],
   "source": [
    "\"\"\"\n",
    "    Categories for which entity is essential\n",
    "    \n",
    "    Veneer only in df1\n",
    "    Notice:  RoofMat in df1 and df2 not equal but very close\n",
    "    \n",
    "    % nan\n",
    "\"\"\"\n",
    "\n",
    "df2[cat_na2-(cat_na2&NA_is_val)].isna().sum()/df2.shape[0]*100"
   ]
  },
  {
   "cell_type": "code",
   "execution_count": 22,
   "id": "73e7a450",
   "metadata": {},
   "outputs": [
    {
     "data": {
      "text/plain": [
       "0"
      ]
     },
     "execution_count": 22,
     "metadata": {},
     "output_type": "execute_result"
    }
   ],
   "source": [
    "\"\"\"\n",
    "    DECISION: Either treat Veneer as \"optional\" category (has NA), or decide drop finally after further analysis.\n",
    "        Electrical has \"Mix\" mixed value which isn't necessarily indicative of quality, though might be :\\\n",
    "        RoofMat would be given additional 'UNKNOWN' category, as the others might be signal.\n",
    "\"\"\"\n",
    "0"
   ]
  },
  {
   "cell_type": "code",
   "execution_count": 23,
   "id": "42e4f668",
   "metadata": {},
   "outputs": [
    {
     "name": "stderr",
     "output_type": "stream",
     "text": [
      "/var/folders/5l/9jlpm0zd27g5zv0ns0343ndr0000gn/T/ipykernel_96137/1857865273.py:8: FutureWarning: Passing a set as an indexer is deprecated and will raise in a future version. Use a list instead.\n",
      "  df1[num_na1].isna().sum()/df1.shape[0]*100\n"
     ]
    },
    {
     "data": {
      "text/plain": [
       "StreetLength       17.739726\n",
       "GarageBuildYear     5.547945\n",
       "dtype: float64"
      ]
     },
     "execution_count": 23,
     "metadata": {},
     "output_type": "execute_result"
    }
   ],
   "source": [
    "\"\"\"\n",
    "    Neither necessarily exist /\n",
    "    \n",
    "    Notice: GarageType in df1 also has 5.547945%\n",
    "    Notice: GarageFinish in df2 also has 5.547945%\n",
    "    Notice: GarageCondition in df2 also has 5.547945%\n",
    "\"\"\"\n",
    "df1[num_na1].isna().sum()/df1.shape[0]*100"
   ]
  },
  {
   "cell_type": "code",
   "execution_count": 24,
   "id": "04e2c16c",
   "metadata": {},
   "outputs": [
    {
     "name": "stderr",
     "output_type": "stream",
     "text": [
      "/var/folders/5l/9jlpm0zd27g5zv0ns0343ndr0000gn/T/ipykernel_96137/1580559850.py:4: FutureWarning: Passing a set as an indexer is deprecated and will raise in a future version. Use a list instead.\n",
      "  df1[num_na1].isna().sum()\n"
     ]
    },
    {
     "data": {
      "text/plain": [
       "StreetLength       259\n",
       "GarageBuildYear     81\n",
       "dtype: int64"
      ]
     },
     "execution_count": 24,
     "metadata": {},
     "output_type": "execute_result"
    }
   ],
   "source": [
    "\"\"\"\n",
    "    Count? ( vs. percentage\n",
    "\"\"\"\n",
    "df1[num_na1].isna().sum()"
   ]
  },
  {
   "cell_type": "code",
   "execution_count": 25,
   "id": "4b50b4c8",
   "metadata": {},
   "outputs": [
    {
     "data": {
      "text/plain": [
       "2005.0    65\n",
       "2006.0    59\n",
       "2004.0    53\n",
       "2003.0    50\n",
       "2007.0    49\n",
       "          ..\n",
       "1933.0     1\n",
       "1906.0     1\n",
       "1908.0     1\n",
       "1927.0     1\n",
       "1900.0     1\n",
       "Name: GarageBuildYear, Length: 97, dtype: int64"
      ]
     },
     "execution_count": 25,
     "metadata": {},
     "output_type": "execute_result"
    }
   ],
   "source": [
    "df1['GarageBuildYear'].value_counts()  # PUT -INFINITY? since indicates \"vanishing\" value"
   ]
  },
  {
   "cell_type": "code",
   "execution_count": 26,
   "id": "c24ce8e4",
   "metadata": {},
   "outputs": [
    {
     "name": "stderr",
     "output_type": "stream",
     "text": [
      "/var/folders/5l/9jlpm0zd27g5zv0ns0343ndr0000gn/T/ipykernel_96137/3459525322.py:4: FutureWarning: Passing a set as an indexer is deprecated and will raise in a future version. Use a list instead.\n",
      "  df2[num_na2].isna().sum()/df2.shape[0]*100\n"
     ]
    },
    {
     "data": {
      "text/plain": [
       "VeneerArea    0.547945\n",
       "dtype: float64"
      ]
     },
     "execution_count": 26,
     "metadata": {},
     "output_type": "execute_result"
    }
   ],
   "source": [
    "\"\"\"\n",
    "    Missing Veneer area values implies no Veneer or 0 area (unless 0 is actually in data):\n",
    "\"\"\"\n",
    "df2[num_na2].isna().sum()/df2.shape[0]*100"
   ]
  },
  {
   "cell_type": "code",
   "execution_count": 27,
   "id": "c2b2939b",
   "metadata": {},
   "outputs": [
    {
     "data": {
      "text/plain": [
       "0.0      861\n",
       "108.0      8\n",
       "180.0      8\n",
       "72.0       8\n",
       "120.0      7\n",
       "        ... \n",
       "278.0      1\n",
       "123.0      1\n",
       "297.0      1\n",
       "296.0      1\n",
       "11.0       1\n",
       "Name: VeneerArea, Length: 327, dtype: int64"
      ]
     },
     "execution_count": 27,
     "metadata": {},
     "output_type": "execute_result"
    }
   ],
   "source": [
    "df2['VeneerArea'].value_counts()  # Implies missingness cannot be defined as 0:  DROP ROWS?"
   ]
  },
  {
   "cell_type": "code",
   "execution_count": 28,
   "id": "a6da0f32",
   "metadata": {},
   "outputs": [
    {
     "data": {
      "text/plain": [
       "0"
      ]
     },
     "execution_count": 28,
     "metadata": {},
     "output_type": "execute_result"
    }
   ],
   "source": [
    "\"\"\"\n",
    "    Notice: df2.VeneerArea.nan% == df1.VeneerType.nan% missingness!\n",
    "\n",
    "    What would this imply on df2 ~ df1: What would be VeneerType for 0 Area ?\n",
    "\n",
    "    Either missingness is intentional (meaning category and value UNKNOWN)\n",
    "        or value is also 0 but unspecified -\n",
    "\"\"\"\n",
    "0\n",
    "\"\"\"\n",
    "    Nearest neighbor (or manifold learning) might help to infer missing data!\n",
    "    \n",
    "    (out of scope)\n",
    "\"\"\"\n",
    "0"
   ]
  },
  {
   "cell_type": "code",
   "execution_count": 29,
   "id": "7673d09e",
   "metadata": {},
   "outputs": [
    {
     "name": "stdout",
     "output_type": "stream",
     "text": [
      "VeneerArea    8\n",
      "dtype: int64\n"
     ]
    },
    {
     "name": "stderr",
     "output_type": "stream",
     "text": [
      "/var/folders/5l/9jlpm0zd27g5zv0ns0343ndr0000gn/T/ipykernel_96137/1004680283.py:1: FutureWarning: Passing a set as an indexer is deprecated and will raise in a future version. Use a list instead.\n",
      "  print(df2[num_na2].isna().sum())  # HOW MANY ROWS WITH MISSING (NUMERICAL) ?\n"
     ]
    }
   ],
   "source": [
    "print(df2[num_na2].isna().sum())  # HOW MANY ROWS WITH MISSING (NUMERICAL) ?"
   ]
  },
  {
   "cell_type": "code",
   "execution_count": 30,
   "id": "0c3d628f",
   "metadata": {},
   "outputs": [
    {
     "data": {
      "text/plain": [
       "(8, False)"
      ]
     },
     "execution_count": 30,
     "metadata": {},
     "output_type": "execute_result"
    }
   ],
   "source": [
    "df1['VeneerType'].isna().sum(), 'VeneerArea' in df1.columns"
   ]
  },
  {
   "cell_type": "code",
   "execution_count": 31,
   "id": "4f08ae04",
   "metadata": {},
   "outputs": [
    {
     "data": {
      "text/plain": [
       "None       864\n",
       "BrkFace    445\n",
       "Stone      128\n",
       "BrkCmn      15\n",
       "Name: VeneerType, dtype: int64"
      ]
     },
     "execution_count": 31,
     "metadata": {},
     "output_type": "execute_result"
    }
   ],
   "source": [
    "df1['VeneerType'].value_counts()  # DOES NOT COUNT THE 8 NAN"
   ]
  },
  {
   "cell_type": "code",
   "execution_count": 32,
   "id": "c0bebf14",
   "metadata": {},
   "outputs": [
    {
     "data": {
      "text/plain": [
       "93      182000.0\n",
       "290     199900.0\n",
       "480     205950.0\n",
       "670     465000.0\n",
       "719     200624.0\n",
       "738     237000.0\n",
       "1366    216500.0\n",
       "1382    184900.0\n",
       "Name: Price, dtype: float64"
      ]
     },
     "execution_count": 32,
     "metadata": {},
     "output_type": "execute_result"
    }
   ],
   "source": [
    "df1['Price'][df1['VeneerType'].isna()]  # WHAT COULD THOSE BE? (are they in/out of distribution?)"
   ]
  },
  {
   "cell_type": "code",
   "execution_count": 33,
   "id": "eb1ac7e0",
   "metadata": {},
   "outputs": [
    {
     "data": {
      "text/plain": [
       "71      0\n",
       "159     0\n",
       "352     0\n",
       "379     0\n",
       "615     0\n",
       "709     0\n",
       "1014    0\n",
       "1021    0\n",
       "Name: FeaturePrice, dtype: int64"
      ]
     },
     "execution_count": 33,
     "metadata": {},
     "output_type": "execute_result"
    }
   ],
   "source": [
    "df2['FeaturePrice'][df2['VeneerArea'].isna()]"
   ]
  },
  {
   "cell_type": "code",
   "execution_count": 34,
   "id": "975d9c53",
   "metadata": {},
   "outputs": [
    {
     "name": "stdout",
     "output_type": "stream",
     "text": [
      "(1460, 41) (1460, 37)\n"
     ]
    }
   ],
   "source": [
    "\"\"\"\n",
    "    Reminder\n",
    "\"\"\"\n",
    "\n",
    "print(df1.shape, df2.shape)"
   ]
  },
  {
   "cell_type": "code",
   "execution_count": 35,
   "id": "797fa02b",
   "metadata": {},
   "outputs": [
    {
     "data": {
      "text/plain": [
       "{'BuildType': 'Identifies the type of sold building.',\n",
       " 'Zone': 'Identifies the general zoning classification of the sale.',\n",
       " 'StreetLength': 'Linear feet of street connected to property',\n",
       " 'Area': 'Area of property in square feet',\n",
       " 'RoadType': 'Type of road access to property',\n",
       " 'AlleyType': 'Type of alley access to property',\n",
       " 'Shape': 'General shape of property',\n",
       " 'LandContour': 'Flatness of the property',\n",
       " 'Utilities': 'Type of utilities available',\n",
       " 'Configuration': 'Property configuration',\n",
       " 'LandSlope': 'Slope of property',\n",
       " 'County': 'Physical locations within Ames city limits',\n",
       " 'Feature1': 'Proximity to various conditions',\n",
       " 'Feature2': 'Proximity to various conditions (if more than one is present)',\n",
       " 'Type': 'Type of property',\n",
       " 'Style': 'Style of property',\n",
       " 'Condition': 'Rates the overall condition of the house',\n",
       " 'BuildYear': 'Original construction date',\n",
       " 'RefurbishYear': 'Date of refurbishment (same as construction date if no remodeling or additions)',\n",
       " 'RoofType': 'Type of roof',\n",
       " 'RoofMat': 'Roof material',\n",
       " 'ExteriorMat': 'Exterior covering on house',\n",
       " 'VeneerType': 'Masonry veneer type',\n",
       " 'VeneerArea': 'Masonry veneer area in square feet',\n",
       " 'ExteriorCondition': 'Evaluates the present condition of the material on the exterior',\n",
       " 'Foundation': 'Type of foundation',\n",
       " 'BaseHeight': 'Evaluates the height of the basement',\n",
       " 'BaseCondition': 'Evaluates the general condition of the basement',\n",
       " 'BaseArea': 'Total square feet of basement area',\n",
       " 'HeatingType': 'Type of heating',\n",
       " 'HeatingQuality': 'Heating quality and condition',\n",
       " 'AC': 'Central air conditioning',\n",
       " 'Electrical': 'Electrical system',\n",
       " 'Area1': 'First Floor square feet',\n",
       " 'Area2': 'Second floor square feet',\n",
       " 'LQArea': 'Low quality finished square feet (all floors)',\n",
       " 'AGroundArea': 'Above grade (ground) living area square feet',\n",
       " 'BaseBath': 'Basement full bathrooms',\n",
       " 'BaseHalfBath': 'Basement half bathrooms',\n",
       " 'FullBath': 'Full bathrooms above grade',\n",
       " 'HBath': 'Half baths above grade',\n",
       " 'AGroundBedroom': 'Bedrooms above grade (does NOT include basement bedrooms)',\n",
       " 'AGroundKitchens': 'Kitchens above grade',\n",
       " 'KitchenQuality': 'Kitchen quality',\n",
       " 'AGroundRooms': 'Total rooms above grade (does not include bathrooms)',\n",
       " 'Functionality': 'Home functionality (Assume typical unless deductions are warranted)',\n",
       " 'Fireplaces': 'Number of fireplaces',\n",
       " 'FireplaceQuality': 'Fireplace quality',\n",
       " 'GarageType': 'Garage location',\n",
       " 'GarageBuildYear': 'Year garage was built',\n",
       " 'GarageFinish': 'Interior finish of the garage',\n",
       " 'GarageCars': 'Size of garage in car capacity',\n",
       " 'GarageArea': 'Size of garage in square feet',\n",
       " 'GarageCondition': 'Garage condition',\n",
       " 'DriveSurface': 'Paved driveway',\n",
       " 'WoodDeckArea': 'Wood deck area in square feet',\n",
       " 'OpenPorchArea': 'Open porch area in square feet',\n",
       " 'EnclosedPorchArea': 'Enclosed porch area in square feet',\n",
       " '3SeasonPorchArea': 'Three season porch area in square feet',\n",
       " 'ScreenPorchArea': 'Screen porch area in square feet',\n",
       " 'PoolArea': 'Pool area in square feet',\n",
       " 'PoolQuality': 'Pool quality',\n",
       " 'FenceQuality': 'Fence quality',\n",
       " 'OtherFeature': 'Miscellaneous feature not covered in other categories',\n",
       " 'FeaturePrice': '$Value of miscellaneous feature',\n",
       " 'SaleMonth': 'Month Sold (MM)',\n",
       " 'SaleYear': 'Year Sold (YYYY)',\n",
       " 'SaleType': 'Type of sale',\n",
       " 'SaleCondition': 'Condition of sale'}"
      ]
     },
     "execution_count": 35,
     "metadata": {},
     "output_type": "execute_result"
    }
   ],
   "source": [
    "keys"
   ]
  },
  {
   "cell_type": "code",
   "execution_count": 36,
   "id": "a83da869",
   "metadata": {},
   "outputs": [],
   "source": [
    "y_keys = { 'FeaturePrice': '$Value of miscellaneous feature',\n",
    " 'SaleMonth': 'Month Sold (MM)',\n",
    " 'SaleYear': 'Year Sold (YYYY)',\n",
    " 'SaleType': 'Type of sale',\n",
    " 'SaleCondition': 'Condition of sale'}\n",
    "\n",
    "common = set(df1.columns) & set(df2.columns)"
   ]
  },
  {
   "cell_type": "code",
   "execution_count": 37,
   "id": "5c1e7504",
   "metadata": {},
   "outputs": [
    {
     "name": "stdout",
     "output_type": "stream",
     "text": [
      "{ BaseHBath }\n",
      "{ Price }\n",
      "AC / AGroundArea / AGroundBedroom / AGroundKitchens / AlleyType / Area / Area1 / Area2 / BaseBath / BaseHBath / BuildType / BuildYear / DriveSurface / Electrical / ExteriorCondition / Feature1 / FenceQuality / Fireplaces / Foundation / Functionality / GarageArea / GarageBuildYear / GarageCars / GarageType / HBath / HeatingType / KitchenQuality / PoolArea / PoolQuality / Price / RefurbishYear / RoofMat / RoofType / SaleMonth / SaleType / SaleYear / Shape / StreetLength / Style / Type / VeneerType\n"
     ]
    }
   ],
   "source": [
    "for column in df1.columns:\n",
    "    if column not in keys:\n",
    "        print('{', column, '}')\n",
    "print(' / '.join(sorted(df1.columns)))"
   ]
  },
  {
   "cell_type": "code",
   "execution_count": 38,
   "id": "19376bef",
   "metadata": {},
   "outputs": [
    {
     "name": "stdout",
     "output_type": "stream",
     "text": [
      "{ Id }\n",
      "3SeasonPorchArea / AGroundRooms / Area / BaseArea / BaseCondition / BaseHeight / BuildType / Condition / Configuration / County / Electrical / EnclosedPorchArea / ExteriorMat / Feature2 / FeaturePrice / FireplaceQuality / FullBath / GarageCondition / GarageFinish / HeatingQuality / Id / LQArea / LandContour / LandSlope / OpenPorchArea / OtherFeature / PoolArea / RefurbishYear / RoadType / RoofMat / RoofType / SaleCondition / ScreenPorchArea / Utilities / VeneerArea / WoodDeckArea / Zone\n"
     ]
    }
   ],
   "source": [
    "for column in df2.columns:\n",
    "    if column not in keys:\n",
    "        print('{', column, '}')\n",
    "print(' / '.join(sorted(df2.columns)))"
   ]
  },
  {
   "cell_type": "code",
   "execution_count": 39,
   "id": "8d5e2c6c",
   "metadata": {},
   "outputs": [
    {
     "data": {
      "text/plain": [
       "{'Area',\n",
       " 'BuildType',\n",
       " 'Electrical',\n",
       " 'PoolArea',\n",
       " 'RefurbishYear',\n",
       " 'RoofMat',\n",
       " 'RoofType'}"
      ]
     },
     "execution_count": 39,
     "metadata": {},
     "output_type": "execute_result"
    }
   ],
   "source": [
    "common"
   ]
  },
  {
   "cell_type": "code",
   "execution_count": 40,
   "id": "8f6f5c9f",
   "metadata": {},
   "outputs": [
    {
     "name": "stdout",
     "output_type": "stream",
     "text": [
      "Condition of sale\n",
      "[('Normal', 'Normal Sale'), ('Abnorml', 'Abnormal Sale -  trade, foreclosure, short sale'), ('AdjLand', 'Adjoining Land Purchase'), ('Alloca', 'Allocation - two linked properties with separate deeds, typically condo with a garage unit'), ('Family', 'Sale between family members'), ('Partial', 'Home was not completed when last assessed (associated with New Homes)')]\n"
     ]
    }
   ],
   "source": [
    "\"\"\"\n",
    "    PREDICTIVE TASK (DATA EXPLORATION)\n",
    "    \n",
    "    \n",
    "    DF2 DOES NOT CONTAIN OTHER \"PRICE\"/Sales SPECIFIC DATA (except for FeaturePrice )\n",
    "\n",
    "\"\"\"\n",
    "print(keys['SaleCondition'])\n",
    "print(values['SaleCondition'])"
   ]
  },
  {
   "cell_type": "code",
   "execution_count": 41,
   "id": "1422d627",
   "metadata": {},
   "outputs": [
    {
     "name": "stdout",
     "output_type": "stream",
     "text": [
      "Proximity to various conditions\n",
      "[('Artery', 'Adjacent to arterial street'), ('Feedr', 'Adjacent to feeder street'), ('Norm', 'Normal'), ('RRNn', \"Within 200' of North-South Railroad\"), ('RRAn', 'Adjacent to North-South Railroad'), ('PosN', 'Near positive off-site feature--park, greenbelt, etc.'), ('PosA', 'Adjacent to postive off-site feature'), ('RRNe', \"Within 200' of East-West Railroad\"), ('RRAe', 'Adjacent to East-West Railroad')]\n"
     ]
    }
   ],
   "source": [
    "\"\"\"\n",
    "    Is Feature1 price specific?\n",
    "\"\"\"\n",
    "print(keys['Feature1'])\n",
    "print(values['Feature1'])"
   ]
  },
  {
   "cell_type": "code",
   "execution_count": 42,
   "id": "fcd51f22",
   "metadata": {},
   "outputs": [
    {
     "name": "stdout",
     "output_type": "stream",
     "text": [
      "Proximity to various conditions (if more than one is present)\n",
      "[('Artery', 'Adjacent to arterial street'), ('Feedr', 'Adjacent to feeder street'), ('Norm', 'Normal'), ('RRNn', \"Within 200' of North-South Railroad\"), ('RRAn', 'Adjacent to North-South Railroad'), ('PosN', 'Near positive off-site feature--park, greenbelt, etc.'), ('PosA', 'Adjacent to postive off-site feature'), ('RRNe', \"Within 200' of East-West Railroad\"), ('RRAe', 'Adjacent to East-West Railroad')]\n"
     ]
    }
   ],
   "source": [
    "\"\"\"\n",
    "    Is Feature2 price specific?\n",
    "\"\"\"\n",
    "print(keys['Feature2'])\n",
    "print(values['Feature2'])"
   ]
  },
  {
   "cell_type": "code",
   "execution_count": 43,
   "id": "84856d21",
   "metadata": {},
   "outputs": [
    {
     "data": {
      "text/plain": [
       "count     1460.000000\n",
       "mean        43.489041\n",
       "std        496.123024\n",
       "min          0.000000\n",
       "25%          0.000000\n",
       "50%          0.000000\n",
       "75%          0.000000\n",
       "max      15500.000000\n",
       "Name: FeaturePrice, dtype: float64"
      ]
     },
     "execution_count": 43,
     "metadata": {},
     "output_type": "execute_result"
    }
   ],
   "source": [
    "df2_description['FeaturePrice']"
   ]
  },
  {
   "cell_type": "code",
   "execution_count": 44,
   "id": "d3441172",
   "metadata": {},
   "outputs": [
    {
     "data": {
      "text/plain": [
       "0        1408\n",
       "400        11\n",
       "500         8\n",
       "700         5\n",
       "2000        4\n",
       "450         4\n",
       "600         4\n",
       "480         2\n",
       "1200        2\n",
       "560         1\n",
       "15500       1\n",
       "800         1\n",
       "350         1\n",
       "1400        1\n",
       "1300        1\n",
       "8300        1\n",
       "1150        1\n",
       "2500        1\n",
       "54          1\n",
       "3500        1\n",
       "620         1\n",
       "Name: FeaturePrice, dtype: int64"
      ]
     },
     "execution_count": 44,
     "metadata": {},
     "output_type": "execute_result"
    }
   ],
   "source": [
    "\"\"\"\n",
    "    Shows why 75% is also at 0.000000\n",
    "\"\"\"\n",
    "df2['FeaturePrice'].value_counts()"
   ]
  },
  {
   "cell_type": "code",
   "execution_count": 45,
   "id": "fab29c63",
   "metadata": {},
   "outputs": [
    {
     "data": {
      "text/plain": [
       "(52,\n",
       " Shed    49\n",
       " Gar2     2\n",
       " Othr     2\n",
       " TenC     1\n",
       " Name: OtherFeature, dtype: int64)"
      ]
     },
     "execution_count": 45,
     "metadata": {},
     "output_type": "execute_result"
    }
   ],
   "source": [
    "\"\"\"\n",
    "    DISCOVERY:   FEATURE PRICE & OTHER FEATURE\n",
    "\n",
    "\"\"\"\n",
    "num_FeaturePrice_is_zero = 1408\n",
    "df2.shape[0] - num_FeaturePrice_is_zero, df2['OtherFeature'].value_counts()  # EQUALS excluding \"Othr\""
   ]
  },
  {
   "cell_type": "code",
   "execution_count": 46,
   "id": "d34fa3c5",
   "metadata": {},
   "outputs": [
    {
     "data": {
      "image/png": "[encoded data removed]",
      "text/plain": [
       "<Figure size 432x288 with 1 Axes>"
      ]
     },
     "metadata": {
      "needs_background": "light"
     },
     "output_type": "display_data"
    }
   ],
   "source": [
    "from matplotlib import pyplot as plt\n",
    "plt.hist(df2['FeaturePrice'][df2['FeaturePrice'] > 0], bins=30)\n",
    "plt.show()"
   ]
  },
  {
   "cell_type": "code",
   "execution_count": 47,
   "id": "d9855fcc",
   "metadata": {},
   "outputs": [
    {
     "data": {
      "text/plain": [
       "0        195\n",
       "1       1268\n",
       "2       1145\n",
       "3        794\n",
       "4        246\n",
       "        ... \n",
       "1455    1255\n",
       "1456     803\n",
       "1457    1459\n",
       "1458     140\n",
       "1459    1195\n",
       "Name: Id, Length: 1460, dtype: int64"
      ]
     },
     "execution_count": 47,
     "metadata": {},
     "output_type": "execute_result"
    }
   ],
   "source": [
    "\"\"\"\n",
    "    PREDICTIVE TASK (DATA EXPLORATION)\n",
    "    \n",
    "    COULD WE RELATE DF2 TO DF1 ? MERGE ?\n",
    "    \n",
    "\"\"\"\n",
    "df2['Id']"
   ]
  },
  {
   "cell_type": "code",
   "execution_count": 48,
   "id": "3e85f314",
   "metadata": {},
   "outputs": [
    {
     "data": {
      "text/plain": [
       "True"
      ]
     },
     "execution_count": 48,
     "metadata": {},
     "output_type": "execute_result"
    }
   ],
   "source": [
    "# is not sorted, yet :\n",
    "\n",
    "list(sorted(df2['Id'])) == list(range(1, 1 + df2.shape[0]))"
   ]
  },
  {
   "cell_type": "code",
   "execution_count": 49,
   "id": "64723560",
   "metadata": {},
   "outputs": [],
   "source": [
    "\"\"\"\n",
    "    Check if re-sort Id makes common columns correspond in df2 to df1\n",
    "    \n",
    "\"\"\"\n",
    "h = list(sorted(list(zip(df2['Id'].values-1, range(df2.shape[0])))))\n",
    "z = [hh[1] for hh in h]"
   ]
  },
  {
   "cell_type": "code",
   "execution_count": 50,
   "id": "bd19ef2b",
   "metadata": {},
   "outputs": [],
   "source": [
    "df2 = df2.reindex(z).set_index('Id')"
   ]
  },
  {
   "cell_type": "code",
   "execution_count": 51,
   "id": "6b408dbc",
   "metadata": {},
   "outputs": [
    {
     "name": "stdout",
     "output_type": "stream",
     "text": [
      "     RoofType  RefurbishYear  PoolArea Electrical BuildType   Area  RoofMat\n",
      "1384        0           1950         0      SBrkr       190   5600  CompShg\n",
      "1173    Gable           1950         0      SBrkr       190   7420      NaN\n",
      "645         0           1950         0        NaN       190   7800  CompShg\n",
      "603         0           1950         0      FuseP       190   9142  CompShg\n",
      "173       Hip           1950         0      FuseF       190  10120  CompShg\n",
      "283         0           1950         0      SBrkr       190  10880  CompShg\n",
      "926         0           1950         0      SBrkr       190  11340      NaN\n",
      "371         0           1950         0        NaN       190  12180      NaN\n",
      "135     Gable           1950         0        NaN       190  13600  CompShg\n",
      "1132    Gable           1950         0      FuseF        20   5000  CompShg\n",
      "58          0           1950         0        NaN        20   6000  CompShg\n",
      "484       Hip           1950         0      SBrkr        20   6627      NaN\n",
      "634     Gable           1950         0      FuseA        20   7200  CompShg\n",
      "496         0           1950         0      FuseF        20   7200      NaN\n",
      "1078        0           1950         0      SBrkr        20   7200  CompShg\n",
      "1007    Gable           1950         0        NaN        20   7200      NaN\n",
      "1199    Gable           1950         0      FuseA        20   8280      NaN\n",
      "23          0           1950         0      SBrkr        20   8400  CompShg\n",
      "1137        0           1950         0      FuseA        20   9000  CompShg\n",
      "351     Gable           1950         0        NaN        20  11664  CompShg\n",
      "808     Gable           1950         0        NaN        20  57200  CompShg\n",
      "32          0           1950         0      SBrkr        30   3636      NaN\n",
      "741     Gable           1950         0      SBrkr        30   4060  CompShg\n",
      "113     Gable           1950         0      FuseA        30   4118  CompShg\n",
      "1408    Gable           1950         0        NaN        30   4608  CompShg\n",
      "1161        0           1950         0      SBrkr        30   5330  CompShg\n",
      "965         0           1950         0        NaN        30   5400      NaN\n",
      "366     Gable           1950         0      FuseA        30   5604  CompShg\n",
      "248     Gable           1950         0      SBrkr        30   6000  CompShg\n",
      "14          0           1950         0        NaN        30   6000  CompShg\n",
      "318         0           1950         0        NaN        30   6120  CompShg\n",
      "1234    Gable           1950         0        NaN        30   6120      NaN\n",
      "1416        0           1950         0      SBrkr        30   6180      NaN\n",
      "843     Gable           1950         0      FuseA        30   6240      NaN\n",
      "616         0           1950         0      SBrkr        30   6292  CompShg\n",
      "967     Gable           1950         0      SBrkr        30   6305  CompShg\n",
      "375         0           1950         0        NaN        30   6324      NaN\n",
      "762         0           1950         0        NaN        30   6911  CompShg\n",
      "620         0           1950         0      FuseA        30   7446  CompShg\n",
      "1164    Gable           1950         0        NaN        30   7879      NaN\n",
      "759     Gable           1950         0      FuseF        30   8212  CompShg\n",
      "559     Gable           1950         0      FuseF        30   8248  CompShg\n",
      "1318        0           1950         0      FuseA        30   8263  CompShg\n",
      "1178    Gable           1950         0      FuseF        30   8400      NaN\n",
      "740     Gable           1950         0        NaN        30   8731      NaN\n",
      "285         0           1950         0        NaN        30   8765  CompShg\n",
      "903     Gable           1950         0        NaN        30   8777      NaN\n",
      "404     Gable           1950         0      FuseF        30   8854  CompShg\n",
      "1081        0           1950         0      FuseA        30   8960  CompShg\n",
      "152     Gable           1950         0        Mix        30   8967      NaN\n",
      "     RoofType  RefurbishYear  PoolArea Electrical BuildType   Area  RoofMat\n",
      "Id                                                                         \n",
      "706       Hip           1950         0      SBrkr       190   5600  CompShg\n",
      "10      Gable           1950         0      SBrkr       190   7420  CompShg\n",
      "313     Gable           1950         0      SBrkr       190   7800      NaN\n",
      "247     Gable           1950         0        NaN       190   9142      NaN\n",
      "1267      Hip           1950         0      FuseF       190  10120  CompShg\n",
      "986     Gable           1950         0      SBrkr       190  10880  CompShg\n",
      "1417    Gable           1950         0      SBrkr       190  11340  CompShg\n",
      "1145    Gable           1950         0      FuseA       190  12180      NaN\n",
      "1063    Gable           1950         0        NaN       190  13600      NaN\n",
      "534     Gable           1950         0      FuseF        20   5000  CompShg\n",
      "108     Gable           1950         0      SBrkr        20   6000  CompShg\n",
      "1322      Hip           1950         0        NaN        20   6627      NaN\n",
      "91      Gable           1950         0      FuseA        20   7200      NaN\n",
      "1250    Gable           1950         0      SBrkr        20   7200      NaN\n",
      "157       Hip           1950         0        NaN        20   7200  CompShg\n",
      "647       Hip           1950         0        NaN        20   7200      NaN\n",
      "1151    Gable           1950         0        NaN        20   8280      NaN\n",
      "342     Gable           1950         0      SBrkr        20   8400  CompShg\n",
      "917     Gable           1950         0        NaN        20   9000  CompShg\n",
      "1015    Gable           1950         0      SBrkr        20  11664  CompShg\n",
      "1397    Gable           1950         0        NaN        20  57200  CompShg\n",
      "1326    Gable           1950         0      SBrkr        30   3636  CompShg\n",
      "1258    Gable           1950         0      SBrkr        30   4060      NaN\n",
      "1338    Gable           1950         0      FuseA        30   4118      NaN\n",
      "69      Gable           1950         0      SBrkr        30   4608  CompShg\n",
      "1324      Hip           1950         0      SBrkr        30   5330  CompShg\n",
      "1002    Gable           1950         0      FuseA        30   5400      NaN\n",
      "211     Gable           1950         0        NaN        30   5604  CompShg\n",
      "1346      Hip           1950         0      FuseA        30   6000      NaN\n",
      "697     Gable           1950         0        NaN        30   6000  CompShg\n",
      "637     Gable           1950         0      FuseA        30   6120  CompShg\n",
      "913     Gable           1950         0      SBrkr        30   6120      NaN\n",
      "1136    Gable           1950         0        NaN        30   6180      NaN\n",
      "730     Gable           1950         0      FuseA        30   6240      NaN\n",
      "1377    Gable           1950         0        NaN        30   6292      NaN\n",
      "1035    Gable           1950         0      SBrkr        30   6305  CompShg\n",
      "30      Gable           1950         0        NaN        30   6324  CompShg\n",
      "762     Gable           1950         0      SBrkr        30   6911      NaN\n",
      "394     Gable           1950         0      FuseA        30   7446  CompShg\n",
      "496     Gable           1950         0      FuseA        30   7879  CompShg\n",
      "1381    Gable           1950         0      FuseF        30   8212  CompShg\n",
      "621     Gable           1950         0      FuseF        30   8248  CompShg\n",
      "1121    Gable           1950         0      FuseA        30   8263      NaN\n",
      "1101    Gable           1950         0      FuseF        30   8400  CompShg\n",
      "1140    Gable           1950         0      SBrkr        30   8731  CompShg\n",
      "897     Gable           1950         0        NaN        30   8765  CompShg\n",
      "639     Gable           1950         0      FuseA        30   8777  CompShg\n",
      "1444    Gable           1950         0      FuseF        30   8854      NaN\n",
      "414     Gable           1950         0      FuseA        30   8960      NaN\n",
      "399     Gable           1950         0        Mix        30   8967      NaN\n"
     ]
    },
    {
     "name": "stderr",
     "output_type": "stream",
     "text": [
      "/var/folders/5l/9jlpm0zd27g5zv0ns0343ndr0000gn/T/ipykernel_96137/977905378.py:1: FutureWarning: Passing a set as an indexer is deprecated and will raise in a future version. Use a list instead.\n",
      "  print(df1[common].sort_values(['RefurbishYear', 'BuildType', 'Area', 'PoolArea', 'Electrical', 'RoofType', 'RoofMat']).head(50))\n",
      "/var/folders/5l/9jlpm0zd27g5zv0ns0343ndr0000gn/T/ipykernel_96137/977905378.py:2: FutureWarning: Passing a set as an indexer is deprecated and will raise in a future version. Use a list instead.\n",
      "  print(df2[common].sort_values(['RefurbishYear', 'BuildType', 'Area', 'PoolArea', 'Electrical', 'RoofType', 'RoofMat']).head(50))\n"
     ]
    }
   ],
   "source": [
    "print(df1[common].sort_values(['RefurbishYear', 'BuildType', 'Area', 'PoolArea', 'Electrical', 'RoofType', 'RoofMat']).head(50))\n",
    "print(df2[common].sort_values(['RefurbishYear', 'BuildType', 'Area', 'PoolArea', 'Electrical', 'RoofType', 'RoofMat']).head(50))"
   ]
  },
  {
   "cell_type": "code",
   "execution_count": 52,
   "id": "be84aa35",
   "metadata": {},
   "outputs": [
    {
     "data": {
      "text/plain": [
       "0    440\n",
       "Name: RoofType, dtype: int64"
      ]
     },
     "execution_count": 52,
     "metadata": {},
     "output_type": "execute_result"
    }
   ],
   "source": [
    "# Why is there a 0 RoofType ?\n",
    "df1['RoofType'][df1['RoofType']=='0'].value_counts()"
   ]
  },
  {
   "cell_type": "code",
   "execution_count": 53,
   "id": "017881ec",
   "metadata": {},
   "outputs": [
    {
     "data": {
      "text/plain": [
       "0"
      ]
     },
     "execution_count": 53,
     "metadata": {},
     "output_type": "execute_result"
    }
   ],
   "source": [
    "df1['RoofType'].isna().sum()"
   ]
  },
  {
   "cell_type": "code",
   "execution_count": 54,
   "id": "fb578465",
   "metadata": {},
   "outputs": [
    {
     "data": {
      "text/plain": [
       "Series([], Name: RoofType, dtype: object)"
      ]
     },
     "execution_count": 54,
     "metadata": {},
     "output_type": "execute_result"
    }
   ],
   "source": [
    "# ?\n",
    "df2['RoofType'][df2['RoofType']=='0']"
   ]
  },
  {
   "cell_type": "code",
   "execution_count": 55,
   "id": "6153db0b",
   "metadata": {},
   "outputs": [
    {
     "data": {
      "text/plain": [
       "0"
      ]
     },
     "execution_count": 55,
     "metadata": {},
     "output_type": "execute_result"
    }
   ],
   "source": [
    "\"\"\"\n",
    "    Indexes do not seem to correspond =/> TRY hash or \"neirest neighbors\" / de-duplication  strategies...)\n",
    "\n",
    "\"\"\"\n",
    "0"
   ]
  },
  {
   "cell_type": "code",
   "execution_count": 56,
   "id": "0dc2fa4e",
   "metadata": {},
   "outputs": [
    {
     "data": {
      "text/plain": [
       "(21,\n",
       " Index(['BuildType', 'Electrical', 'ExteriorCondition', 'AlleyType', 'RoofType',\n",
       "        'RoofMat', 'Style', 'DriveSurface', 'Foundation', 'SaleType',\n",
       "        'HeatingType', 'PoolQuality', 'AC', 'GarageType', 'VeneerType',\n",
       "        'FenceQuality', 'Feature1', 'Functionality', 'KitchenQuality', 'Shape',\n",
       "        'Type'],\n",
       "       dtype='object'))"
      ]
     },
     "execution_count": 56,
     "metadata": {},
     "output_type": "execute_result"
    }
   ],
   "source": [
    "len(odf1.columns), odf1.columns"
   ]
  },
  {
   "cell_type": "code",
   "execution_count": 57,
   "id": "168be820",
   "metadata": {},
   "outputs": [
    {
     "data": {
      "text/plain": [
       "(22,\n",
       " Index(['BuildType', 'Zone', 'RoadType', 'LandContour', 'Utilities',\n",
       "        'Configuration', 'LandSlope', 'County', 'Feature2', 'Condition',\n",
       "        'RoofType', 'RoofMat', 'ExteriorMat', 'BaseHeight', 'BaseCondition',\n",
       "        'HeatingQuality', 'Electrical', 'FireplaceQuality', 'GarageFinish',\n",
       "        'GarageCondition', 'OtherFeature', 'SaleCondition'],\n",
       "       dtype='object'))"
      ]
     },
     "execution_count": 57,
     "metadata": {},
     "output_type": "execute_result"
    }
   ],
   "source": [
    "len(odf2.columns), odf2.columns"
   ]
  },
  {
   "cell_type": "code",
   "execution_count": 58,
   "id": "bc53eca8",
   "metadata": {},
   "outputs": [
    {
     "data": {
      "text/plain": [
       "(20,\n",
       " Index(['Area', 'RefurbishYear', 'PoolArea', 'Area1', 'GarageCars', 'SaleYear',\n",
       "        'Fireplaces', 'StreetLength', 'AGroundKitchens', 'BuildYear',\n",
       "        'AGroundBedroom', 'HBath', 'Area2', 'GarageArea', 'SaleMonth',\n",
       "        'BaseBath', 'GarageBuildYear', 'AGroundArea', 'BaseHBath', 'Price'],\n",
       "       dtype='object'))"
      ]
     },
     "execution_count": 58,
     "metadata": {},
     "output_type": "execute_result"
    }
   ],
   "source": [
    "len(newdf1.columns), newdf1.columns"
   ]
  },
  {
   "cell_type": "code",
   "execution_count": 59,
   "id": "7d474d2a",
   "metadata": {},
   "outputs": [
    {
     "data": {
      "text/plain": [
       "(15,\n",
       " Index(['Id', 'Area', 'RefurbishYear', 'VeneerArea', 'BaseArea', 'LQArea',\n",
       "        'FullBath', 'AGroundRooms', 'WoodDeckArea', 'OpenPorchArea',\n",
       "        'EnclosedPorchArea', '3SeasonPorchArea', 'ScreenPorchArea', 'PoolArea',\n",
       "        'FeaturePrice'],\n",
       "       dtype='object'))"
      ]
     },
     "execution_count": 59,
     "metadata": {},
     "output_type": "execute_result"
    }
   ],
   "source": [
    "len(newdf2.columns), newdf2.columns"
   ]
  },
  {
   "cell_type": "code",
   "execution_count": 60,
   "id": "6e18ad8d",
   "metadata": {},
   "outputs": [
    {
     "data": {
      "text/plain": [
       "{'BuildType': 'Identifies the type of sold building.',\n",
       " 'Zone': 'Identifies the general zoning classification of the sale.',\n",
       " 'StreetLength': 'Linear feet of street connected to property',\n",
       " 'Area': 'Area of property in square feet',\n",
       " 'RoadType': 'Type of road access to property',\n",
       " 'AlleyType': 'Type of alley access to property',\n",
       " 'Shape': 'General shape of property',\n",
       " 'LandContour': 'Flatness of the property',\n",
       " 'Utilities': 'Type of utilities available',\n",
       " 'Configuration': 'Property configuration',\n",
       " 'LandSlope': 'Slope of property',\n",
       " 'County': 'Physical locations within Ames city limits',\n",
       " 'Feature1': 'Proximity to various conditions',\n",
       " 'Feature2': 'Proximity to various conditions (if more than one is present)',\n",
       " 'Type': 'Type of property',\n",
       " 'Style': 'Style of property',\n",
       " 'Condition': 'Rates the overall condition of the house',\n",
       " 'BuildYear': 'Original construction date',\n",
       " 'RefurbishYear': 'Date of refurbishment (same as construction date if no remodeling or additions)',\n",
       " 'RoofType': 'Type of roof',\n",
       " 'RoofMat': 'Roof material',\n",
       " 'ExteriorMat': 'Exterior covering on house',\n",
       " 'VeneerType': 'Masonry veneer type',\n",
       " 'VeneerArea': 'Masonry veneer area in square feet',\n",
       " 'ExteriorCondition': 'Evaluates the present condition of the material on the exterior',\n",
       " 'Foundation': 'Type of foundation',\n",
       " 'BaseHeight': 'Evaluates the height of the basement',\n",
       " 'BaseCondition': 'Evaluates the general condition of the basement',\n",
       " 'BaseArea': 'Total square feet of basement area',\n",
       " 'HeatingType': 'Type of heating',\n",
       " 'HeatingQuality': 'Heating quality and condition',\n",
       " 'AC': 'Central air conditioning',\n",
       " 'Electrical': 'Electrical system',\n",
       " 'Area1': 'First Floor square feet',\n",
       " 'Area2': 'Second floor square feet',\n",
       " 'LQArea': 'Low quality finished square feet (all floors)',\n",
       " 'AGroundArea': 'Above grade (ground) living area square feet',\n",
       " 'BaseBath': 'Basement full bathrooms',\n",
       " 'BaseHalfBath': 'Basement half bathrooms',\n",
       " 'FullBath': 'Full bathrooms above grade',\n",
       " 'HBath': 'Half baths above grade',\n",
       " 'AGroundBedroom': 'Bedrooms above grade (does NOT include basement bedrooms)',\n",
       " 'AGroundKitchens': 'Kitchens above grade',\n",
       " 'KitchenQuality': 'Kitchen quality',\n",
       " 'AGroundRooms': 'Total rooms above grade (does not include bathrooms)',\n",
       " 'Functionality': 'Home functionality (Assume typical unless deductions are warranted)',\n",
       " 'Fireplaces': 'Number of fireplaces',\n",
       " 'FireplaceQuality': 'Fireplace quality',\n",
       " 'GarageType': 'Garage location',\n",
       " 'GarageBuildYear': 'Year garage was built',\n",
       " 'GarageFinish': 'Interior finish of the garage',\n",
       " 'GarageCars': 'Size of garage in car capacity',\n",
       " 'GarageArea': 'Size of garage in square feet',\n",
       " 'GarageCondition': 'Garage condition',\n",
       " 'DriveSurface': 'Paved driveway',\n",
       " 'WoodDeckArea': 'Wood deck area in square feet',\n",
       " 'OpenPorchArea': 'Open porch area in square feet',\n",
       " 'EnclosedPorchArea': 'Enclosed porch area in square feet',\n",
       " '3SeasonPorchArea': 'Three season porch area in square feet',\n",
       " 'ScreenPorchArea': 'Screen porch area in square feet',\n",
       " 'PoolArea': 'Pool area in square feet',\n",
       " 'PoolQuality': 'Pool quality',\n",
       " 'FenceQuality': 'Fence quality',\n",
       " 'OtherFeature': 'Miscellaneous feature not covered in other categories',\n",
       " 'FeaturePrice': '$Value of miscellaneous feature',\n",
       " 'SaleMonth': 'Month Sold (MM)',\n",
       " 'SaleYear': 'Year Sold (YYYY)',\n",
       " 'SaleType': 'Type of sale',\n",
       " 'SaleCondition': 'Condition of sale'}"
      ]
     },
     "execution_count": 60,
     "metadata": {},
     "output_type": "execute_result"
    }
   ],
   "source": [
    "keys"
   ]
  },
  {
   "cell_type": "code",
   "execution_count": 61,
   "id": "c510db53",
   "metadata": {},
   "outputs": [],
   "source": [
    "keys_area = set([k for k in keys if 'area' in k.lower()])\n",
    "keys_type = set([k for k in keys if 'type' in k.lower()])\n",
    "keys_year = set([k for k in keys if 'year' in k.lower()])\n",
    "keys_condition = set([k for k in keys if 'condition' in k.lower()])\n",
    "keys_sale = set([k for k in keys if 'sale' in k.lower()])\n",
    "keys_price = set([k for k in keys if 'price' in k.lower()])\n",
    "keys_quality = set([k for k in keys if 'quality' in k.lower()])"
   ]
  },
  {
   "cell_type": "code",
   "execution_count": 62,
   "id": "78880fcb",
   "metadata": {},
   "outputs": [
    {
     "data": {
      "text/plain": [
       "{'3SeasonPorchArea',\n",
       " 'AGroundArea',\n",
       " 'Area',\n",
       " 'Area1',\n",
       " 'Area2',\n",
       " 'BaseArea',\n",
       " 'EnclosedPorchArea',\n",
       " 'GarageArea',\n",
       " 'LQArea',\n",
       " 'OpenPorchArea',\n",
       " 'PoolArea',\n",
       " 'ScreenPorchArea',\n",
       " 'VeneerArea',\n",
       " 'WoodDeckArea'}"
      ]
     },
     "execution_count": 62,
     "metadata": {},
     "output_type": "execute_result"
    }
   ],
   "source": [
    "keys_area"
   ]
  },
  {
   "cell_type": "code",
   "execution_count": 63,
   "id": "041c9ee4",
   "metadata": {},
   "outputs": [
    {
     "data": {
      "text/plain": [
       "{'AlleyType',\n",
       " 'BuildType',\n",
       " 'GarageType',\n",
       " 'HeatingType',\n",
       " 'RoadType',\n",
       " 'RoofType',\n",
       " 'SaleType',\n",
       " 'Type',\n",
       " 'VeneerType'}"
      ]
     },
     "execution_count": 63,
     "metadata": {},
     "output_type": "execute_result"
    }
   ],
   "source": [
    "keys_type"
   ]
  },
  {
   "cell_type": "code",
   "execution_count": 64,
   "id": "ba8fac23",
   "metadata": {},
   "outputs": [
    {
     "data": {
      "text/plain": [
       "{'BuildYear', 'GarageBuildYear', 'RefurbishYear', 'SaleYear'}"
      ]
     },
     "execution_count": 64,
     "metadata": {},
     "output_type": "execute_result"
    }
   ],
   "source": [
    "keys_year"
   ]
  },
  {
   "cell_type": "code",
   "execution_count": 65,
   "id": "526b672f",
   "metadata": {},
   "outputs": [
    {
     "data": {
      "text/plain": [
       "{'BaseCondition',\n",
       " 'Condition',\n",
       " 'ExteriorCondition',\n",
       " 'GarageCondition',\n",
       " 'SaleCondition'}"
      ]
     },
     "execution_count": 65,
     "metadata": {},
     "output_type": "execute_result"
    }
   ],
   "source": [
    "keys_condition"
   ]
  },
  {
   "cell_type": "code",
   "execution_count": 66,
   "id": "3f0e513f",
   "metadata": {},
   "outputs": [
    {
     "data": {
      "text/plain": [
       "{'SaleCondition', 'SaleMonth', 'SaleType', 'SaleYear'}"
      ]
     },
     "execution_count": 66,
     "metadata": {},
     "output_type": "execute_result"
    }
   ],
   "source": [
    "keys_sale"
   ]
  },
  {
   "cell_type": "code",
   "execution_count": 67,
   "id": "24a14a06",
   "metadata": {},
   "outputs": [
    {
     "data": {
      "text/plain": [
       "{'FeaturePrice'}"
      ]
     },
     "execution_count": 67,
     "metadata": {},
     "output_type": "execute_result"
    }
   ],
   "source": [
    "keys_price"
   ]
  },
  {
   "cell_type": "code",
   "execution_count": 68,
   "id": "76f440e3",
   "metadata": {},
   "outputs": [
    {
     "data": {
      "text/plain": [
       "{'FenceQuality',\n",
       " 'FireplaceQuality',\n",
       " 'HeatingQuality',\n",
       " 'KitchenQuality',\n",
       " 'PoolQuality'}"
      ]
     },
     "execution_count": 68,
     "metadata": {},
     "output_type": "execute_result"
    }
   ],
   "source": [
    "keys_quality"
   ]
  },
  {
   "cell_type": "code",
   "execution_count": 69,
   "id": "6210c2f0",
   "metadata": {},
   "outputs": [],
   "source": [
    "rem = keys.keys()-keys_area-keys_type-keys_year-keys_condition-keys_sale-keys_price-keys_quality"
   ]
  },
  {
   "cell_type": "code",
   "execution_count": 70,
   "id": "47380cda",
   "metadata": {},
   "outputs": [
    {
     "data": {
      "text/plain": [
       "3"
      ]
     },
     "execution_count": 70,
     "metadata": {},
     "output_type": "execute_result"
    }
   ],
   "source": [
    "\"\"\" BY INSPECTION :  STILL NEED TO CHECK VALUES (e.g., value_counts summaries)\n",
    "\n",
    "{'AC', type\n",
    " 'AGroundBedroom', number\n",
    " 'AGroundKitchens', number\n",
    " 'AGroundRooms', number\n",
    " 'BaseBath', number\n",
    " 'BaseHalfBath', number\n",
    " 'BaseHeight', QUALITY\n",
    " 'Configuration', type\n",
    " 'County', &\n",
    " 'DriveSurface', &\n",
    " 'Electrical', type\n",
    " 'ExteriorMat', type\n",
    " 'Feature1', &\n",
    " 'Feature2', &\n",
    " 'Fireplaces', number\n",
    " 'Foundation', type\n",
    " 'FullBath', number\n",
    " 'Functionality', condition\n",
    " 'GarageCars', number\n",
    " 'GarageFinish', quality\n",
    " 'HBath', number\n",
    " 'LandContour', &\n",
    " 'LandSlope', &\n",
    " 'OtherFeature', type\n",
    " 'RoofMat', type\n",
    " 'Shape', type\n",
    " 'StreetLength', &\n",
    " 'Style', number\n",
    " 'Utilities', type\n",
    " 'Zone'} &\n",
    "\"\"\"\n",
    "3"
   ]
  },
  {
   "cell_type": "code",
   "execution_count": 71,
   "id": "b8eeda57",
   "metadata": {},
   "outputs": [
    {
     "data": {
      "text/plain": [
       "{'AGroundBedroom',\n",
       " 'AGroundKitchens',\n",
       " 'BaseBath',\n",
       " 'Fireplaces',\n",
       " 'GarageCars',\n",
       " 'HBath',\n",
       " 'StreetLength'}"
      ]
     },
     "execution_count": 71,
     "metadata": {},
     "output_type": "execute_result"
    }
   ],
   "source": [
    "rem & set(newdf1.columns)"
   ]
  },
  {
   "cell_type": "code",
   "execution_count": 72,
   "id": "abd61343",
   "metadata": {},
   "outputs": [
    {
     "data": {
      "text/plain": [
       "{'AGroundRooms', 'FullBath'}"
      ]
     },
     "execution_count": 72,
     "metadata": {},
     "output_type": "execute_result"
    }
   ],
   "source": [
    "rem & set(newdf2.columns)"
   ]
  },
  {
   "cell_type": "code",
   "execution_count": 73,
   "id": "41a4e447",
   "metadata": {},
   "outputs": [
    {
     "data": {
      "text/plain": [
       "{'AC',\n",
       " 'DriveSurface',\n",
       " 'Electrical',\n",
       " 'Feature1',\n",
       " 'Foundation',\n",
       " 'Functionality',\n",
       " 'RoofMat',\n",
       " 'Shape',\n",
       " 'Style'}"
      ]
     },
     "execution_count": 73,
     "metadata": {},
     "output_type": "execute_result"
    }
   ],
   "source": [
    "rem & set(odf1.columns)"
   ]
  },
  {
   "cell_type": "code",
   "execution_count": 74,
   "id": "a7bb2bc0",
   "metadata": {},
   "outputs": [
    {
     "data": {
      "text/plain": [
       "{'BaseHeight',\n",
       " 'Configuration',\n",
       " 'County',\n",
       " 'Electrical',\n",
       " 'ExteriorMat',\n",
       " 'Feature2',\n",
       " 'GarageFinish',\n",
       " 'LandContour',\n",
       " 'LandSlope',\n",
       " 'OtherFeature',\n",
       " 'RoofMat',\n",
       " 'Utilities',\n",
       " 'Zone'}"
      ]
     },
     "execution_count": 74,
     "metadata": {},
     "output_type": "execute_result"
    }
   ],
   "source": [
    "rem & set(odf2.columns)"
   ]
  },
  {
   "cell_type": "code",
   "execution_count": 75,
   "id": "e98f21a5",
   "metadata": {},
   "outputs": [
    {
     "data": {
      "text/plain": [
       "Index(['BuildType', 'Area', 'RefurbishYear', 'Electrical', 'PoolArea',\n",
       "       'ExteriorCondition', 'Area1', 'GarageCars', 'AlleyType', 'SaleYear',\n",
       "       'Fireplaces', 'RoofType', 'RoofMat', 'StreetLength', 'Style',\n",
       "       'DriveSurface', 'Foundation', 'AGroundKitchens', 'SaleType',\n",
       "       'BuildYear', 'HeatingType', 'PoolQuality', 'AC', 'AGroundBedroom',\n",
       "       'GarageType', 'VeneerType', 'HBath', 'Area2', 'FenceQuality',\n",
       "       'Feature1', 'GarageArea', 'SaleMonth', 'Functionality', 'BaseBath',\n",
       "       'GarageBuildYear', 'KitchenQuality', 'AGroundArea', 'BaseHBath',\n",
       "       'Shape', 'Type', 'Price'],\n",
       "      dtype='object')"
      ]
     },
     "execution_count": 75,
     "metadata": {},
     "output_type": "execute_result"
    }
   ],
   "source": [
    "df1.columns"
   ]
  },
  {
   "cell_type": "code",
   "execution_count": 76,
   "id": "e79e04cb",
   "metadata": {},
   "outputs": [
    {
     "data": {
      "text/plain": [
       "Index(['BuildType', 'Area', 'RefurbishYear', 'Zone', 'RoadType', 'LandContour',\n",
       "       'Utilities', 'Configuration', 'LandSlope', 'County', 'Feature2',\n",
       "       'Condition', 'RoofType', 'RoofMat', 'ExteriorMat', 'VeneerArea',\n",
       "       'BaseHeight', 'BaseCondition', 'BaseArea', 'HeatingQuality',\n",
       "       'Electrical', 'LQArea', 'FullBath', 'AGroundRooms', 'FireplaceQuality',\n",
       "       'GarageFinish', 'GarageCondition', 'WoodDeckArea', 'OpenPorchArea',\n",
       "       'EnclosedPorchArea', '3SeasonPorchArea', 'ScreenPorchArea', 'PoolArea',\n",
       "       'OtherFeature', 'FeaturePrice', 'SaleCondition'],\n",
       "      dtype='object')"
      ]
     },
     "execution_count": 76,
     "metadata": {},
     "output_type": "execute_result"
    }
   ],
   "source": [
    "df2.columns"
   ]
  },
  {
   "cell_type": "code",
   "execution_count": 77,
   "id": "addcbaff",
   "metadata": {},
   "outputs": [
    {
     "name": "stdout",
     "output_type": "stream",
     "text": [
      "Electrical with nan...\n",
      "987\n",
      "1173\n",
      "Electrical without nan...\n",
      "1460\n",
      "1460\n"
     ]
    }
   ],
   "source": [
    "\"\"\"\n",
    "    Electrical nan <- \"Mix\"\n",
    "    RoofMat nan <- \"UNKNOWN\"\n",
    "    Veneer nan <- DROP ROW\n",
    "    (County nan <- DROP COL)\n",
    "    else CATEGORICAL nan <- 'NAN'\n",
    "    \n",
    "    StreetLength nan <- median\n",
    "    GarageBuildYear nan <- 0\n",
    "\"\"\"\n",
    "print('Electrical with nan...')\n",
    "print(df1['Electrical'].value_counts().sum())\n",
    "print(df2['Electrical'].value_counts().sum())\n",
    "df1['Electrical'].fillna(\"Mix\", inplace=True)\n",
    "df2['Electrical'].fillna(\"Mix\", inplace=True)\n",
    "print('Electrical without nan...')\n",
    "print(df1['Electrical'].value_counts().sum())\n",
    "print(df2['Electrical'].value_counts().sum())"
   ]
  },
  {
   "cell_type": "code",
   "execution_count": 78,
   "id": "aec1714e",
   "metadata": {},
   "outputs": [
    {
     "name": "stdout",
     "output_type": "stream",
     "text": [
      "RoofMat with nan...\n",
      "885\n",
      "882\n",
      "RoofMat without nan...\n",
      "1460\n",
      "1460\n"
     ]
    }
   ],
   "source": [
    "print('RoofMat with nan...')\n",
    "print(df1['RoofMat'].value_counts().sum())\n",
    "print(df2['RoofMat'].value_counts().sum())\n",
    "df1['RoofMat'].fillna(\"UNKNOWN\", inplace=True)\n",
    "df2['RoofMat'].fillna(\"UNKNOWN\", inplace=True)\n",
    "print('RoofMat without nan...')\n",
    "print(df1['RoofMat'].value_counts().sum())\n",
    "print(df2['RoofMat'].value_counts().sum())"
   ]
  },
  {
   "cell_type": "code",
   "execution_count": 79,
   "id": "d1546bf8",
   "metadata": {},
   "outputs": [],
   "source": [
    "df2.drop('County', axis='columns', inplace=True)  # ONLY DF2"
   ]
  },
  {
   "cell_type": "code",
   "execution_count": 80,
   "id": "032fe9dc",
   "metadata": {},
   "outputs": [
    {
     "name": "stdout",
     "output_type": "stream",
     "text": [
      "1452\n",
      "(1452, 41) dropped rows with missing\n"
     ]
    }
   ],
   "source": [
    "print(df1['VeneerType'].value_counts().sum())  # ONLY DF1\n",
    "df1.dropna(axis=0, subset=['VeneerType'], inplace=True)\n",
    "print(df1.shape, 'dropped rows with missing')"
   ]
  },
  {
   "cell_type": "code",
   "execution_count": 81,
   "id": "6115c1b7",
   "metadata": {},
   "outputs": [],
   "source": [
    "med = df1['StreetLength'].dropna().median()"
   ]
  },
  {
   "cell_type": "code",
   "execution_count": 82,
   "id": "1d93c185",
   "metadata": {},
   "outputs": [],
   "source": [
    "df1['StreetLength'].fillna(med, inplace=True)"
   ]
  },
  {
   "cell_type": "code",
   "execution_count": 83,
   "id": "aa5ae832",
   "metadata": {},
   "outputs": [
    {
     "data": {
      "text/plain": [
       "(2005.0    65\n",
       " 2006.0    58\n",
       " 2004.0    53\n",
       " 2003.0    49\n",
       " 2007.0    46\n",
       "           ..\n",
       " 1906.0     1\n",
       " 1908.0     1\n",
       " 1933.0     1\n",
       " 1927.0     1\n",
       " 1900.0     1\n",
       " Name: GarageBuildYear, Length: 97, dtype: int64,\n",
       " 1900.0,\n",
       " 2010.0)"
      ]
     },
     "execution_count": 83,
     "metadata": {},
     "output_type": "execute_result"
    }
   ],
   "source": [
    "df1['GarageBuildYear'].value_counts(), df1['GarageBuildYear'].min(), df1['GarageBuildYear'].max()"
   ]
  },
  {
   "cell_type": "code",
   "execution_count": 84,
   "id": "4c51a30b",
   "metadata": {},
   "outputs": [],
   "source": [
    "df1['GarageBuildYear'].fillna(1800, inplace=True)  # 1800 TAKEN AS BASE CENTURY OVER ALL YEAR DATES (ROUND'DOWN)"
   ]
  },
  {
   "cell_type": "code",
   "execution_count": 85,
   "id": "54b5e5b5",
   "metadata": {},
   "outputs": [
    {
     "data": {
      "text/plain": [
       "BuildType            False\n",
       "Area                 False\n",
       "RefurbishYear        False\n",
       "Electrical           False\n",
       "PoolArea             False\n",
       "ExteriorCondition    False\n",
       "Area1                False\n",
       "GarageCars           False\n",
       "AlleyType             True\n",
       "SaleYear             False\n",
       "Fireplaces           False\n",
       "RoofType             False\n",
       "RoofMat              False\n",
       "StreetLength         False\n",
       "Style                False\n",
       "DriveSurface         False\n",
       "Foundation           False\n",
       "AGroundKitchens      False\n",
       "SaleType             False\n",
       "BuildYear            False\n",
       "HeatingType          False\n",
       "PoolQuality           True\n",
       "AC                   False\n",
       "AGroundBedroom       False\n",
       "GarageType            True\n",
       "VeneerType           False\n",
       "HBath                False\n",
       "Area2                False\n",
       "FenceQuality          True\n",
       "Feature1             False\n",
       "GarageArea           False\n",
       "SaleMonth            False\n",
       "Functionality        False\n",
       "BaseBath             False\n",
       "GarageBuildYear      False\n",
       "KitchenQuality       False\n",
       "AGroundArea          False\n",
       "BaseHBath            False\n",
       "Shape                False\n",
       "Type                 False\n",
       "Price                False\n",
       "dtype: bool"
      ]
     },
     "execution_count": 85,
     "metadata": {},
     "output_type": "execute_result"
    }
   ],
   "source": [
    "df1.isna().any()"
   ]
  },
  {
   "cell_type": "code",
   "execution_count": 86,
   "id": "dbb311e5",
   "metadata": {},
   "outputs": [
    {
     "data": {
      "text/plain": [
       "BuildType            False\n",
       "Area                 False\n",
       "RefurbishYear        False\n",
       "Zone                 False\n",
       "RoadType             False\n",
       "LandContour          False\n",
       "Utilities            False\n",
       "Configuration        False\n",
       "LandSlope            False\n",
       "Feature2             False\n",
       "Condition            False\n",
       "RoofType             False\n",
       "RoofMat              False\n",
       "ExteriorMat          False\n",
       "VeneerArea            True\n",
       "BaseHeight            True\n",
       "BaseCondition         True\n",
       "BaseArea             False\n",
       "HeatingQuality       False\n",
       "Electrical           False\n",
       "LQArea               False\n",
       "FullBath             False\n",
       "AGroundRooms         False\n",
       "FireplaceQuality      True\n",
       "GarageFinish          True\n",
       "GarageCondition       True\n",
       "WoodDeckArea         False\n",
       "OpenPorchArea        False\n",
       "EnclosedPorchArea    False\n",
       "3SeasonPorchArea     False\n",
       "ScreenPorchArea      False\n",
       "PoolArea             False\n",
       "OtherFeature          True\n",
       "FeaturePrice         False\n",
       "SaleCondition        False\n",
       "dtype: bool"
      ]
     },
     "execution_count": 86,
     "metadata": {},
     "output_type": "execute_result"
    }
   ],
   "source": [
    "df2.isna().any()"
   ]
  },
  {
   "cell_type": "code",
   "execution_count": 87,
   "id": "eeaaa42e",
   "metadata": {},
   "outputs": [
    {
     "name": "stdout",
     "output_type": "stream",
     "text": [
      "1452\n",
      "(1452, 35)\n"
     ]
    }
   ],
   "source": [
    "print(df2['VeneerArea'].value_counts().sum()) # TYPE WAS ONLY DF1; AREA IS DF2\n",
    "df2.dropna(axis=0, subset=['VeneerArea'], inplace=True)\n",
    "print(df2.shape)"
   ]
  },
  {
   "cell_type": "code",
   "execution_count": 88,
   "id": "4e35c4cf",
   "metadata": {},
   "outputs": [
    {
     "data": {
      "text/plain": [
       "BuildType            False\n",
       "Area                 False\n",
       "RefurbishYear        False\n",
       "Zone                 False\n",
       "RoadType             False\n",
       "LandContour          False\n",
       "Utilities            False\n",
       "Configuration        False\n",
       "LandSlope            False\n",
       "Feature2             False\n",
       "Condition            False\n",
       "RoofType             False\n",
       "RoofMat              False\n",
       "ExteriorMat          False\n",
       "VeneerArea           False\n",
       "BaseHeight            True\n",
       "BaseCondition         True\n",
       "BaseArea             False\n",
       "HeatingQuality       False\n",
       "Electrical           False\n",
       "LQArea               False\n",
       "FullBath             False\n",
       "AGroundRooms         False\n",
       "FireplaceQuality      True\n",
       "GarageFinish          True\n",
       "GarageCondition       True\n",
       "WoodDeckArea         False\n",
       "OpenPorchArea        False\n",
       "EnclosedPorchArea    False\n",
       "3SeasonPorchArea     False\n",
       "ScreenPorchArea      False\n",
       "PoolArea             False\n",
       "OtherFeature          True\n",
       "FeaturePrice         False\n",
       "SaleCondition        False\n",
       "dtype: bool"
      ]
     },
     "execution_count": 88,
     "metadata": {},
     "output_type": "execute_result"
    }
   ],
   "source": [
    "df2.isna().any()"
   ]
  },
  {
   "cell_type": "code",
   "execution_count": 89,
   "id": "dc86f5a7",
   "metadata": {},
   "outputs": [
    {
     "data": {
      "text/plain": [
       "TA    648\n",
       "Gd    612\n",
       "Ex    120\n",
       "Fa     35\n",
       "Name: BaseHeight, dtype: int64"
      ]
     },
     "execution_count": 89,
     "metadata": {},
     "output_type": "execute_result"
    }
   ],
   "source": [
    "df2['BaseHeight'].value_counts()  # thought it was numeric"
   ]
  },
  {
   "cell_type": "code",
   "execution_count": 90,
   "id": "76ac0674",
   "metadata": {},
   "outputs": [
    {
     "data": {
      "text/plain": [
       "TA    1304\n",
       "Gd      64\n",
       "Fa      45\n",
       "Po       2\n",
       "Name: BaseCondition, dtype: int64"
      ]
     },
     "execution_count": 90,
     "metadata": {},
     "output_type": "execute_result"
    }
   ],
   "source": [
    "df2['BaseCondition'].value_counts()"
   ]
  },
  {
   "cell_type": "code",
   "execution_count": 91,
   "id": "32555ca3",
   "metadata": {},
   "outputs": [
    {
     "name": "stdout",
     "output_type": "stream",
     "text": [
      "0\n",
      "0\n"
     ]
    }
   ],
   "source": [
    "df1.fillna('NA', inplace=True)\n",
    "df2.fillna('NA', inplace=True)\n",
    "print(df1.isna().any().sum())\n",
    "print(df2.isna().any().sum())"
   ]
  },
  {
   "cell_type": "code",
   "execution_count": 92,
   "id": "8587b213",
   "metadata": {},
   "outputs": [
    {
     "name": "stderr",
     "output_type": "stream",
     "text": [
      "/var/folders/5l/9jlpm0zd27g5zv0ns0343ndr0000gn/T/ipykernel_96137/3497430746.py:5: FutureWarning: Passing a set as an indexer is deprecated and will raise in a future version. Use a list instead.\n",
      "  df1[keys_year].min()\n"
     ]
    },
    {
     "data": {
      "text/plain": [
       "BuildYear          1872.0\n",
       "GarageBuildYear    1800.0\n",
       "SaleYear           2006.0\n",
       "RefurbishYear      1950.0\n",
       "dtype: float64"
      ]
     },
     "execution_count": 92,
     "metadata": {},
     "output_type": "execute_result"
    }
   ],
   "source": [
    "\"\"\"\n",
    "    Date - time  \"conversions\"\n",
    "\n",
    "\"\"\"\n",
    "df1[keys_year].min()"
   ]
  },
  {
   "cell_type": "code",
   "execution_count": 93,
   "id": "3f27788e",
   "metadata": {},
   "outputs": [
    {
     "data": {
      "text/plain": [
       "{'SaleMonth', 'SaleType', 'SaleYear'}"
      ]
     },
     "execution_count": 93,
     "metadata": {},
     "output_type": "execute_result"
    }
   ],
   "source": [
    "set(df1.columns) & keys_sale"
   ]
  },
  {
   "cell_type": "code",
   "execution_count": 94,
   "id": "2677609e",
   "metadata": {},
   "outputs": [
    {
     "data": {
      "text/plain": [
       "array([ 6,  3, 10,  7,  9,  8, 11,  5,  1,  2,  4, 12])"
      ]
     },
     "execution_count": 94,
     "metadata": {},
     "output_type": "execute_result"
    }
   ],
   "source": [
    "df1['SaleMonth'].unique()"
   ]
  },
  {
   "cell_type": "code",
   "execution_count": 95,
   "id": "edf365c4",
   "metadata": {},
   "outputs": [
    {
     "data": {
      "text/plain": [
       "{'BuildYear', 'GarageBuildYear', 'RefurbishYear', 'SaleYear'}"
      ]
     },
     "execution_count": 95,
     "metadata": {},
     "output_type": "execute_result"
    }
   ],
   "source": [
    "set(df1.columns) & keys_year"
   ]
  },
  {
   "cell_type": "code",
   "execution_count": 96,
   "id": "3317d3e6",
   "metadata": {},
   "outputs": [
    {
     "name": "stdout",
     "output_type": "stream",
     "text": [
      "0.0      81\n",
      "205.0    65\n",
      "206.0    58\n",
      "204.0    53\n",
      "203.0    49\n",
      "         ..\n",
      "106.0     1\n",
      "108.0     1\n",
      "133.0     1\n",
      "127.0     1\n",
      "100.0     1\n",
      "Name: GarageBuildYear, Length: 98, dtype: int64\n"
     ]
    }
   ],
   "source": [
    "df1['BuildYear'] = df1['BuildYear'] - 1800\n",
    "df1['GarageBuildYear'] = df1['GarageBuildYear'] - 1800\n",
    "df1['RefurbishYear'] = df1['RefurbishYear'] - 1800\n",
    "df1['SaleYear'] = df1['SaleYear'] - 1800\n",
    "df1['SaleYear'] = df1['SaleYear'] + ((df1['SaleMonth']-1)/12)\n",
    "print(df1['GarageBuildYear'].value_counts())"
   ]
  },
  {
   "cell_type": "code",
   "execution_count": 97,
   "id": "423eb892",
   "metadata": {},
   "outputs": [
    {
     "data": {
      "text/plain": [
       "{'RefurbishYear'}"
      ]
     },
     "execution_count": 97,
     "metadata": {},
     "output_type": "execute_result"
    }
   ],
   "source": [
    "set(df2.columns) & keys_year"
   ]
  },
  {
   "cell_type": "code",
   "execution_count": 98,
   "id": "68c5599e",
   "metadata": {},
   "outputs": [
    {
     "data": {
      "text/plain": [
       "1950"
      ]
     },
     "execution_count": 98,
     "metadata": {},
     "output_type": "execute_result"
    }
   ],
   "source": [
    "df2['RefurbishYear'].min()"
   ]
  },
  {
   "cell_type": "code",
   "execution_count": 99,
   "id": "d4a57233",
   "metadata": {},
   "outputs": [],
   "source": [
    "df2['RefurbishYear'] = df2['RefurbishYear'] - 1800"
   ]
  },
  {
   "cell_type": "code",
   "execution_count": 100,
   "id": "44d5395f",
   "metadata": {},
   "outputs": [
    {
     "data": {
      "text/plain": [
       "{'SaleCondition'}"
      ]
     },
     "execution_count": 100,
     "metadata": {},
     "output_type": "execute_result"
    }
   ],
   "source": [
    "set(df2.columns) & keys_sale  # is type"
   ]
  },
  {
   "cell_type": "code",
   "execution_count": 101,
   "id": "dbfa7670",
   "metadata": {},
   "outputs": [
    {
     "data": {
      "text/plain": [
       "Normal     1194\n",
       "Partial     122\n",
       "Abnorml     101\n",
       "Family       20\n",
       "Alloca       11\n",
       "AdjLand       4\n",
       "Name: SaleCondition, dtype: int64"
      ]
     },
     "execution_count": 101,
     "metadata": {},
     "output_type": "execute_result"
    }
   ],
   "source": [
    "df2['SaleCondition'].value_counts()"
   ]
  },
  {
   "cell_type": "code",
   "execution_count": 102,
   "id": "df1e0ca2",
   "metadata": {},
   "outputs": [
    {
     "data": {
      "text/html": [
       "<div>\n",
       "<style scoped>\n",
       "    .dataframe tbody tr th:only-of-type {\n",
       "        vertical-align: middle;\n",
       "    }\n",
       "\n",
       "    .dataframe tbody tr th {\n",
       "        vertical-align: top;\n",
       "    }\n",
       "\n",
       "    .dataframe thead th {\n",
       "        text-align: right;\n",
       "    }\n",
       "</style>\n",
       "<table border=\"1\" class=\"dataframe\">\n",
       "  <thead>\n",
       "    <tr style=\"text-align: right;\">\n",
       "      <th></th>\n",
       "      <th>count</th>\n",
       "      <th>mean</th>\n",
       "      <th>std</th>\n",
       "      <th>min</th>\n",
       "      <th>25%</th>\n",
       "      <th>50%</th>\n",
       "      <th>75%</th>\n",
       "      <th>max</th>\n",
       "    </tr>\n",
       "  </thead>\n",
       "  <tbody>\n",
       "    <tr>\n",
       "      <th>Area</th>\n",
       "      <td>1460.0</td>\n",
       "      <td>10516.828082</td>\n",
       "      <td>9981.264932</td>\n",
       "      <td>1300.0</td>\n",
       "      <td>7553.5</td>\n",
       "      <td>9478.5</td>\n",
       "      <td>11601.50</td>\n",
       "      <td>215245.0</td>\n",
       "    </tr>\n",
       "    <tr>\n",
       "      <th>RefurbishYear</th>\n",
       "      <td>1460.0</td>\n",
       "      <td>1984.865753</td>\n",
       "      <td>20.645407</td>\n",
       "      <td>1950.0</td>\n",
       "      <td>1967.0</td>\n",
       "      <td>1994.0</td>\n",
       "      <td>2004.00</td>\n",
       "      <td>2010.0</td>\n",
       "    </tr>\n",
       "    <tr>\n",
       "      <th>PoolArea</th>\n",
       "      <td>1460.0</td>\n",
       "      <td>2.758904</td>\n",
       "      <td>40.177307</td>\n",
       "      <td>0.0</td>\n",
       "      <td>0.0</td>\n",
       "      <td>0.0</td>\n",
       "      <td>0.00</td>\n",
       "      <td>738.0</td>\n",
       "    </tr>\n",
       "    <tr>\n",
       "      <th>Area1</th>\n",
       "      <td>1460.0</td>\n",
       "      <td>1162.626712</td>\n",
       "      <td>386.587738</td>\n",
       "      <td>334.0</td>\n",
       "      <td>882.0</td>\n",
       "      <td>1087.0</td>\n",
       "      <td>1391.25</td>\n",
       "      <td>4692.0</td>\n",
       "    </tr>\n",
       "    <tr>\n",
       "      <th>GarageCars</th>\n",
       "      <td>1460.0</td>\n",
       "      <td>1.816438</td>\n",
       "      <td>1.211326</td>\n",
       "      <td>0.0</td>\n",
       "      <td>1.0</td>\n",
       "      <td>2.0</td>\n",
       "      <td>2.00</td>\n",
       "      <td>20.0</td>\n",
       "    </tr>\n",
       "    <tr>\n",
       "      <th>SaleYear</th>\n",
       "      <td>1460.0</td>\n",
       "      <td>2007.815753</td>\n",
       "      <td>1.328095</td>\n",
       "      <td>2006.0</td>\n",
       "      <td>2007.0</td>\n",
       "      <td>2008.0</td>\n",
       "      <td>2009.00</td>\n",
       "      <td>2010.0</td>\n",
       "    </tr>\n",
       "    <tr>\n",
       "      <th>Fireplaces</th>\n",
       "      <td>1460.0</td>\n",
       "      <td>0.613014</td>\n",
       "      <td>0.644666</td>\n",
       "      <td>0.0</td>\n",
       "      <td>0.0</td>\n",
       "      <td>1.0</td>\n",
       "      <td>1.00</td>\n",
       "      <td>3.0</td>\n",
       "    </tr>\n",
       "    <tr>\n",
       "      <th>StreetLength</th>\n",
       "      <td>1201.0</td>\n",
       "      <td>70.049958</td>\n",
       "      <td>24.284752</td>\n",
       "      <td>21.0</td>\n",
       "      <td>59.0</td>\n",
       "      <td>69.0</td>\n",
       "      <td>80.00</td>\n",
       "      <td>313.0</td>\n",
       "    </tr>\n",
       "    <tr>\n",
       "      <th>AGroundKitchens</th>\n",
       "      <td>1460.0</td>\n",
       "      <td>1.046575</td>\n",
       "      <td>0.220338</td>\n",
       "      <td>0.0</td>\n",
       "      <td>1.0</td>\n",
       "      <td>1.0</td>\n",
       "      <td>1.00</td>\n",
       "      <td>3.0</td>\n",
       "    </tr>\n",
       "    <tr>\n",
       "      <th>BuildYear</th>\n",
       "      <td>1460.0</td>\n",
       "      <td>1971.267808</td>\n",
       "      <td>30.202904</td>\n",
       "      <td>1872.0</td>\n",
       "      <td>1954.0</td>\n",
       "      <td>1973.0</td>\n",
       "      <td>2000.00</td>\n",
       "      <td>2010.0</td>\n",
       "    </tr>\n",
       "    <tr>\n",
       "      <th>AGroundBedroom</th>\n",
       "      <td>1460.0</td>\n",
       "      <td>2.866438</td>\n",
       "      <td>0.815778</td>\n",
       "      <td>0.0</td>\n",
       "      <td>2.0</td>\n",
       "      <td>3.0</td>\n",
       "      <td>3.00</td>\n",
       "      <td>8.0</td>\n",
       "    </tr>\n",
       "    <tr>\n",
       "      <th>HBath</th>\n",
       "      <td>1460.0</td>\n",
       "      <td>0.382877</td>\n",
       "      <td>0.502885</td>\n",
       "      <td>0.0</td>\n",
       "      <td>0.0</td>\n",
       "      <td>0.0</td>\n",
       "      <td>1.00</td>\n",
       "      <td>2.0</td>\n",
       "    </tr>\n",
       "    <tr>\n",
       "      <th>Area2</th>\n",
       "      <td>1460.0</td>\n",
       "      <td>346.992466</td>\n",
       "      <td>436.528436</td>\n",
       "      <td>0.0</td>\n",
       "      <td>0.0</td>\n",
       "      <td>0.0</td>\n",
       "      <td>728.00</td>\n",
       "      <td>2065.0</td>\n",
       "    </tr>\n",
       "    <tr>\n",
       "      <th>GarageArea</th>\n",
       "      <td>1460.0</td>\n",
       "      <td>472.980137</td>\n",
       "      <td>213.804841</td>\n",
       "      <td>0.0</td>\n",
       "      <td>334.5</td>\n",
       "      <td>480.0</td>\n",
       "      <td>576.00</td>\n",
       "      <td>1418.0</td>\n",
       "    </tr>\n",
       "    <tr>\n",
       "      <th>SaleMonth</th>\n",
       "      <td>1460.0</td>\n",
       "      <td>6.321918</td>\n",
       "      <td>2.703626</td>\n",
       "      <td>1.0</td>\n",
       "      <td>5.0</td>\n",
       "      <td>6.0</td>\n",
       "      <td>8.00</td>\n",
       "      <td>12.0</td>\n",
       "    </tr>\n",
       "    <tr>\n",
       "      <th>BaseBath</th>\n",
       "      <td>1460.0</td>\n",
       "      <td>0.425342</td>\n",
       "      <td>0.518911</td>\n",
       "      <td>0.0</td>\n",
       "      <td>0.0</td>\n",
       "      <td>0.0</td>\n",
       "      <td>1.00</td>\n",
       "      <td>3.0</td>\n",
       "    </tr>\n",
       "    <tr>\n",
       "      <th>GarageBuildYear</th>\n",
       "      <td>1379.0</td>\n",
       "      <td>1978.506164</td>\n",
       "      <td>24.689725</td>\n",
       "      <td>1900.0</td>\n",
       "      <td>1961.0</td>\n",
       "      <td>1980.0</td>\n",
       "      <td>2002.00</td>\n",
       "      <td>2010.0</td>\n",
       "    </tr>\n",
       "    <tr>\n",
       "      <th>AGroundArea</th>\n",
       "      <td>1460.0</td>\n",
       "      <td>1515.463699</td>\n",
       "      <td>525.480383</td>\n",
       "      <td>334.0</td>\n",
       "      <td>1129.5</td>\n",
       "      <td>1464.0</td>\n",
       "      <td>1776.75</td>\n",
       "      <td>5642.0</td>\n",
       "    </tr>\n",
       "    <tr>\n",
       "      <th>BaseHBath</th>\n",
       "      <td>1460.0</td>\n",
       "      <td>0.057534</td>\n",
       "      <td>0.238753</td>\n",
       "      <td>0.0</td>\n",
       "      <td>0.0</td>\n",
       "      <td>0.0</td>\n",
       "      <td>0.00</td>\n",
       "      <td>2.0</td>\n",
       "    </tr>\n",
       "    <tr>\n",
       "      <th>Price</th>\n",
       "      <td>1460.0</td>\n",
       "      <td>241223.140137</td>\n",
       "      <td>899667.222873</td>\n",
       "      <td>1000.0</td>\n",
       "      <td>129800.0</td>\n",
       "      <td>163000.0</td>\n",
       "      <td>214925.00</td>\n",
       "      <td>15900000.0</td>\n",
       "    </tr>\n",
       "  </tbody>\n",
       "</table>\n",
       "</div>"
      ],
      "text/plain": [
       "                  count           mean            std     min       25%  \\\n",
       "Area             1460.0   10516.828082    9981.264932  1300.0    7553.5   \n",
       "RefurbishYear    1460.0    1984.865753      20.645407  1950.0    1967.0   \n",
       "PoolArea         1460.0       2.758904      40.177307     0.0       0.0   \n",
       "Area1            1460.0    1162.626712     386.587738   334.0     882.0   \n",
       "GarageCars       1460.0       1.816438       1.211326     0.0       1.0   \n",
       "SaleYear         1460.0    2007.815753       1.328095  2006.0    2007.0   \n",
       "Fireplaces       1460.0       0.613014       0.644666     0.0       0.0   \n",
       "StreetLength     1201.0      70.049958      24.284752    21.0      59.0   \n",
       "AGroundKitchens  1460.0       1.046575       0.220338     0.0       1.0   \n",
       "BuildYear        1460.0    1971.267808      30.202904  1872.0    1954.0   \n",
       "AGroundBedroom   1460.0       2.866438       0.815778     0.0       2.0   \n",
       "HBath            1460.0       0.382877       0.502885     0.0       0.0   \n",
       "Area2            1460.0     346.992466     436.528436     0.0       0.0   \n",
       "GarageArea       1460.0     472.980137     213.804841     0.0     334.5   \n",
       "SaleMonth        1460.0       6.321918       2.703626     1.0       5.0   \n",
       "BaseBath         1460.0       0.425342       0.518911     0.0       0.0   \n",
       "GarageBuildYear  1379.0    1978.506164      24.689725  1900.0    1961.0   \n",
       "AGroundArea      1460.0    1515.463699     525.480383   334.0    1129.5   \n",
       "BaseHBath        1460.0       0.057534       0.238753     0.0       0.0   \n",
       "Price            1460.0  241223.140137  899667.222873  1000.0  129800.0   \n",
       "\n",
       "                      50%        75%         max  \n",
       "Area               9478.5   11601.50    215245.0  \n",
       "RefurbishYear      1994.0    2004.00      2010.0  \n",
       "PoolArea              0.0       0.00       738.0  \n",
       "Area1              1087.0    1391.25      4692.0  \n",
       "GarageCars            2.0       2.00        20.0  \n",
       "SaleYear           2008.0    2009.00      2010.0  \n",
       "Fireplaces            1.0       1.00         3.0  \n",
       "StreetLength         69.0      80.00       313.0  \n",
       "AGroundKitchens       1.0       1.00         3.0  \n",
       "BuildYear          1973.0    2000.00      2010.0  \n",
       "AGroundBedroom        3.0       3.00         8.0  \n",
       "HBath                 0.0       1.00         2.0  \n",
       "Area2                 0.0     728.00      2065.0  \n",
       "GarageArea          480.0     576.00      1418.0  \n",
       "SaleMonth             6.0       8.00        12.0  \n",
       "BaseBath              0.0       1.00         3.0  \n",
       "GarageBuildYear    1980.0    2002.00      2010.0  \n",
       "AGroundArea        1464.0    1776.75      5642.0  \n",
       "BaseHBath             0.0       0.00         2.0  \n",
       "Price            163000.0  214925.00  15900000.0  "
      ]
     },
     "execution_count": 102,
     "metadata": {},
     "output_type": "execute_result"
    }
   ],
   "source": [
    "newdf1.describe().T.head(newdf1.shape[1])  # NUMERICS"
   ]
  },
  {
   "cell_type": "code",
   "execution_count": 103,
   "id": "0b5cb937",
   "metadata": {},
   "outputs": [
    {
     "data": {
      "text/html": [
       "<div>\n",
       "<style scoped>\n",
       "    .dataframe tbody tr th:only-of-type {\n",
       "        vertical-align: middle;\n",
       "    }\n",
       "\n",
       "    .dataframe tbody tr th {\n",
       "        vertical-align: top;\n",
       "    }\n",
       "\n",
       "    .dataframe thead th {\n",
       "        text-align: right;\n",
       "    }\n",
       "</style>\n",
       "<table border=\"1\" class=\"dataframe\">\n",
       "  <thead>\n",
       "    <tr style=\"text-align: right;\">\n",
       "      <th></th>\n",
       "      <th>count</th>\n",
       "      <th>mean</th>\n",
       "      <th>std</th>\n",
       "      <th>min</th>\n",
       "      <th>25%</th>\n",
       "      <th>50%</th>\n",
       "      <th>75%</th>\n",
       "      <th>max</th>\n",
       "    </tr>\n",
       "  </thead>\n",
       "  <tbody>\n",
       "    <tr>\n",
       "      <th>Id</th>\n",
       "      <td>1460.0</td>\n",
       "      <td>730.500000</td>\n",
       "      <td>421.610009</td>\n",
       "      <td>1.0</td>\n",
       "      <td>365.75</td>\n",
       "      <td>730.5</td>\n",
       "      <td>1095.25</td>\n",
       "      <td>1460.0</td>\n",
       "    </tr>\n",
       "    <tr>\n",
       "      <th>Area</th>\n",
       "      <td>1460.0</td>\n",
       "      <td>10516.828082</td>\n",
       "      <td>9981.264932</td>\n",
       "      <td>1300.0</td>\n",
       "      <td>7553.50</td>\n",
       "      <td>9478.5</td>\n",
       "      <td>11601.50</td>\n",
       "      <td>215245.0</td>\n",
       "    </tr>\n",
       "    <tr>\n",
       "      <th>RefurbishYear</th>\n",
       "      <td>1460.0</td>\n",
       "      <td>1984.865753</td>\n",
       "      <td>20.645407</td>\n",
       "      <td>1950.0</td>\n",
       "      <td>1967.00</td>\n",
       "      <td>1994.0</td>\n",
       "      <td>2004.00</td>\n",
       "      <td>2010.0</td>\n",
       "    </tr>\n",
       "    <tr>\n",
       "      <th>VeneerArea</th>\n",
       "      <td>1452.0</td>\n",
       "      <td>103.685262</td>\n",
       "      <td>181.066207</td>\n",
       "      <td>0.0</td>\n",
       "      <td>0.00</td>\n",
       "      <td>0.0</td>\n",
       "      <td>166.00</td>\n",
       "      <td>1600.0</td>\n",
       "    </tr>\n",
       "    <tr>\n",
       "      <th>BaseArea</th>\n",
       "      <td>1460.0</td>\n",
       "      <td>1057.429452</td>\n",
       "      <td>438.705324</td>\n",
       "      <td>0.0</td>\n",
       "      <td>795.75</td>\n",
       "      <td>991.5</td>\n",
       "      <td>1298.25</td>\n",
       "      <td>6110.0</td>\n",
       "    </tr>\n",
       "    <tr>\n",
       "      <th>LQArea</th>\n",
       "      <td>1460.0</td>\n",
       "      <td>5.844521</td>\n",
       "      <td>48.623081</td>\n",
       "      <td>0.0</td>\n",
       "      <td>0.00</td>\n",
       "      <td>0.0</td>\n",
       "      <td>0.00</td>\n",
       "      <td>572.0</td>\n",
       "    </tr>\n",
       "    <tr>\n",
       "      <th>FullBath</th>\n",
       "      <td>1460.0</td>\n",
       "      <td>1.565068</td>\n",
       "      <td>0.550916</td>\n",
       "      <td>0.0</td>\n",
       "      <td>1.00</td>\n",
       "      <td>2.0</td>\n",
       "      <td>2.00</td>\n",
       "      <td>3.0</td>\n",
       "    </tr>\n",
       "    <tr>\n",
       "      <th>AGroundRooms</th>\n",
       "      <td>1460.0</td>\n",
       "      <td>6.517808</td>\n",
       "      <td>1.625393</td>\n",
       "      <td>2.0</td>\n",
       "      <td>5.00</td>\n",
       "      <td>6.0</td>\n",
       "      <td>7.00</td>\n",
       "      <td>14.0</td>\n",
       "    </tr>\n",
       "    <tr>\n",
       "      <th>WoodDeckArea</th>\n",
       "      <td>1460.0</td>\n",
       "      <td>94.244521</td>\n",
       "      <td>125.338794</td>\n",
       "      <td>0.0</td>\n",
       "      <td>0.00</td>\n",
       "      <td>0.0</td>\n",
       "      <td>168.00</td>\n",
       "      <td>857.0</td>\n",
       "    </tr>\n",
       "    <tr>\n",
       "      <th>OpenPorchArea</th>\n",
       "      <td>1460.0</td>\n",
       "      <td>46.660274</td>\n",
       "      <td>66.256028</td>\n",
       "      <td>0.0</td>\n",
       "      <td>0.00</td>\n",
       "      <td>25.0</td>\n",
       "      <td>68.00</td>\n",
       "      <td>547.0</td>\n",
       "    </tr>\n",
       "    <tr>\n",
       "      <th>EnclosedPorchArea</th>\n",
       "      <td>1460.0</td>\n",
       "      <td>21.954110</td>\n",
       "      <td>61.119149</td>\n",
       "      <td>0.0</td>\n",
       "      <td>0.00</td>\n",
       "      <td>0.0</td>\n",
       "      <td>0.00</td>\n",
       "      <td>552.0</td>\n",
       "    </tr>\n",
       "    <tr>\n",
       "      <th>3SeasonPorchArea</th>\n",
       "      <td>1460.0</td>\n",
       "      <td>3.409589</td>\n",
       "      <td>29.317331</td>\n",
       "      <td>0.0</td>\n",
       "      <td>0.00</td>\n",
       "      <td>0.0</td>\n",
       "      <td>0.00</td>\n",
       "      <td>508.0</td>\n",
       "    </tr>\n",
       "    <tr>\n",
       "      <th>ScreenPorchArea</th>\n",
       "      <td>1460.0</td>\n",
       "      <td>15.060959</td>\n",
       "      <td>55.757415</td>\n",
       "      <td>0.0</td>\n",
       "      <td>0.00</td>\n",
       "      <td>0.0</td>\n",
       "      <td>0.00</td>\n",
       "      <td>480.0</td>\n",
       "    </tr>\n",
       "    <tr>\n",
       "      <th>PoolArea</th>\n",
       "      <td>1460.0</td>\n",
       "      <td>2.758904</td>\n",
       "      <td>40.177307</td>\n",
       "      <td>0.0</td>\n",
       "      <td>0.00</td>\n",
       "      <td>0.0</td>\n",
       "      <td>0.00</td>\n",
       "      <td>738.0</td>\n",
       "    </tr>\n",
       "    <tr>\n",
       "      <th>FeaturePrice</th>\n",
       "      <td>1460.0</td>\n",
       "      <td>43.489041</td>\n",
       "      <td>496.123024</td>\n",
       "      <td>0.0</td>\n",
       "      <td>0.00</td>\n",
       "      <td>0.0</td>\n",
       "      <td>0.00</td>\n",
       "      <td>15500.0</td>\n",
       "    </tr>\n",
       "  </tbody>\n",
       "</table>\n",
       "</div>"
      ],
      "text/plain": [
       "                    count          mean          std     min      25%     50%  \\\n",
       "Id                 1460.0    730.500000   421.610009     1.0   365.75   730.5   \n",
       "Area               1460.0  10516.828082  9981.264932  1300.0  7553.50  9478.5   \n",
       "RefurbishYear      1460.0   1984.865753    20.645407  1950.0  1967.00  1994.0   \n",
       "VeneerArea         1452.0    103.685262   181.066207     0.0     0.00     0.0   \n",
       "BaseArea           1460.0   1057.429452   438.705324     0.0   795.75   991.5   \n",
       "LQArea             1460.0      5.844521    48.623081     0.0     0.00     0.0   \n",
       "FullBath           1460.0      1.565068     0.550916     0.0     1.00     2.0   \n",
       "AGroundRooms       1460.0      6.517808     1.625393     2.0     5.00     6.0   \n",
       "WoodDeckArea       1460.0     94.244521   125.338794     0.0     0.00     0.0   \n",
       "OpenPorchArea      1460.0     46.660274    66.256028     0.0     0.00    25.0   \n",
       "EnclosedPorchArea  1460.0     21.954110    61.119149     0.0     0.00     0.0   \n",
       "3SeasonPorchArea   1460.0      3.409589    29.317331     0.0     0.00     0.0   \n",
       "ScreenPorchArea    1460.0     15.060959    55.757415     0.0     0.00     0.0   \n",
       "PoolArea           1460.0      2.758904    40.177307     0.0     0.00     0.0   \n",
       "FeaturePrice       1460.0     43.489041   496.123024     0.0     0.00     0.0   \n",
       "\n",
       "                        75%       max  \n",
       "Id                  1095.25    1460.0  \n",
       "Area               11601.50  215245.0  \n",
       "RefurbishYear       2004.00    2010.0  \n",
       "VeneerArea           166.00    1600.0  \n",
       "BaseArea            1298.25    6110.0  \n",
       "LQArea                 0.00     572.0  \n",
       "FullBath               2.00       3.0  \n",
       "AGroundRooms           7.00      14.0  \n",
       "WoodDeckArea         168.00     857.0  \n",
       "OpenPorchArea         68.00     547.0  \n",
       "EnclosedPorchArea      0.00     552.0  \n",
       "3SeasonPorchArea       0.00     508.0  \n",
       "ScreenPorchArea        0.00     480.0  \n",
       "PoolArea               0.00     738.0  \n",
       "FeaturePrice           0.00   15500.0  "
      ]
     },
     "execution_count": 103,
     "metadata": {},
     "output_type": "execute_result"
    }
   ],
   "source": [
    "newdf2.describe().T.head(newdf2.shape[1])  # NUMERICS"
   ]
  },
  {
   "cell_type": "code",
   "execution_count": 104,
   "id": "e62dfe68",
   "metadata": {},
   "outputs": [
    {
     "data": {
      "text/html": [
       "<div>\n",
       "<style scoped>\n",
       "    .dataframe tbody tr th:only-of-type {\n",
       "        vertical-align: middle;\n",
       "    }\n",
       "\n",
       "    .dataframe tbody tr th {\n",
       "        vertical-align: top;\n",
       "    }\n",
       "\n",
       "    .dataframe thead th {\n",
       "        text-align: right;\n",
       "    }\n",
       "</style>\n",
       "<table border=\"1\" class=\"dataframe\">\n",
       "  <thead>\n",
       "    <tr style=\"text-align: right;\">\n",
       "      <th></th>\n",
       "      <th>count</th>\n",
       "      <th>unique</th>\n",
       "      <th>top</th>\n",
       "      <th>freq</th>\n",
       "    </tr>\n",
       "  </thead>\n",
       "  <tbody>\n",
       "    <tr>\n",
       "      <th>BuildType</th>\n",
       "      <td>1460</td>\n",
       "      <td>15</td>\n",
       "      <td>20</td>\n",
       "      <td>536</td>\n",
       "    </tr>\n",
       "    <tr>\n",
       "      <th>Electrical</th>\n",
       "      <td>987</td>\n",
       "      <td>5</td>\n",
       "      <td>SBrkr</td>\n",
       "      <td>894</td>\n",
       "    </tr>\n",
       "    <tr>\n",
       "      <th>ExteriorCondition</th>\n",
       "      <td>1460</td>\n",
       "      <td>5</td>\n",
       "      <td>TA</td>\n",
       "      <td>1282</td>\n",
       "    </tr>\n",
       "    <tr>\n",
       "      <th>AlleyType</th>\n",
       "      <td>91</td>\n",
       "      <td>2</td>\n",
       "      <td>Grvl</td>\n",
       "      <td>50</td>\n",
       "    </tr>\n",
       "    <tr>\n",
       "      <th>RoofType</th>\n",
       "      <td>1460</td>\n",
       "      <td>7</td>\n",
       "      <td>Gable</td>\n",
       "      <td>788</td>\n",
       "    </tr>\n",
       "    <tr>\n",
       "      <th>RoofMat</th>\n",
       "      <td>885</td>\n",
       "      <td>5</td>\n",
       "      <td>CompShg</td>\n",
       "      <td>869</td>\n",
       "    </tr>\n",
       "    <tr>\n",
       "      <th>Style</th>\n",
       "      <td>1460</td>\n",
       "      <td>10</td>\n",
       "      <td>1Story</td>\n",
       "      <td>689</td>\n",
       "    </tr>\n",
       "    <tr>\n",
       "      <th>DriveSurface</th>\n",
       "      <td>1460</td>\n",
       "      <td>3</td>\n",
       "      <td>Y</td>\n",
       "      <td>1340</td>\n",
       "    </tr>\n",
       "    <tr>\n",
       "      <th>Foundation</th>\n",
       "      <td>1460</td>\n",
       "      <td>6</td>\n",
       "      <td>PConc</td>\n",
       "      <td>647</td>\n",
       "    </tr>\n",
       "    <tr>\n",
       "      <th>SaleType</th>\n",
       "      <td>1460</td>\n",
       "      <td>9</td>\n",
       "      <td>WD</td>\n",
       "      <td>1267</td>\n",
       "    </tr>\n",
       "    <tr>\n",
       "      <th>HeatingType</th>\n",
       "      <td>1460</td>\n",
       "      <td>6</td>\n",
       "      <td>GasA</td>\n",
       "      <td>1428</td>\n",
       "    </tr>\n",
       "    <tr>\n",
       "      <th>PoolQuality</th>\n",
       "      <td>7</td>\n",
       "      <td>3</td>\n",
       "      <td>Gd</td>\n",
       "      <td>3</td>\n",
       "    </tr>\n",
       "    <tr>\n",
       "      <th>AC</th>\n",
       "      <td>1460</td>\n",
       "      <td>2</td>\n",
       "      <td>Y</td>\n",
       "      <td>1365</td>\n",
       "    </tr>\n",
       "    <tr>\n",
       "      <th>GarageType</th>\n",
       "      <td>1379</td>\n",
       "      <td>6</td>\n",
       "      <td>Attchd</td>\n",
       "      <td>870</td>\n",
       "    </tr>\n",
       "    <tr>\n",
       "      <th>VeneerType</th>\n",
       "      <td>1452</td>\n",
       "      <td>4</td>\n",
       "      <td>None</td>\n",
       "      <td>864</td>\n",
       "    </tr>\n",
       "    <tr>\n",
       "      <th>FenceQuality</th>\n",
       "      <td>281</td>\n",
       "      <td>4</td>\n",
       "      <td>MnPrv</td>\n",
       "      <td>157</td>\n",
       "    </tr>\n",
       "    <tr>\n",
       "      <th>Feature1</th>\n",
       "      <td>1460</td>\n",
       "      <td>9</td>\n",
       "      <td>Norm</td>\n",
       "      <td>1260</td>\n",
       "    </tr>\n",
       "    <tr>\n",
       "      <th>Functionality</th>\n",
       "      <td>1460</td>\n",
       "      <td>7</td>\n",
       "      <td>Typ</td>\n",
       "      <td>1360</td>\n",
       "    </tr>\n",
       "    <tr>\n",
       "      <th>KitchenQuality</th>\n",
       "      <td>1460</td>\n",
       "      <td>4</td>\n",
       "      <td>TA</td>\n",
       "      <td>735</td>\n",
       "    </tr>\n",
       "    <tr>\n",
       "      <th>Shape</th>\n",
       "      <td>1460</td>\n",
       "      <td>4</td>\n",
       "      <td>Reg</td>\n",
       "      <td>925</td>\n",
       "    </tr>\n",
       "    <tr>\n",
       "      <th>Type</th>\n",
       "      <td>1460</td>\n",
       "      <td>5</td>\n",
       "      <td>1Fam</td>\n",
       "      <td>1220</td>\n",
       "    </tr>\n",
       "  </tbody>\n",
       "</table>\n",
       "</div>"
      ],
      "text/plain": [
       "                  count unique      top  freq\n",
       "BuildType          1460     15       20   536\n",
       "Electrical          987      5    SBrkr   894\n",
       "ExteriorCondition  1460      5       TA  1282\n",
       "AlleyType            91      2     Grvl    50\n",
       "RoofType           1460      7    Gable   788\n",
       "RoofMat             885      5  CompShg   869\n",
       "Style              1460     10   1Story   689\n",
       "DriveSurface       1460      3        Y  1340\n",
       "Foundation         1460      6    PConc   647\n",
       "SaleType           1460      9       WD  1267\n",
       "HeatingType        1460      6     GasA  1428\n",
       "PoolQuality           7      3       Gd     3\n",
       "AC                 1460      2        Y  1365\n",
       "GarageType         1379      6   Attchd   870\n",
       "VeneerType         1452      4     None   864\n",
       "FenceQuality        281      4    MnPrv   157\n",
       "Feature1           1460      9     Norm  1260\n",
       "Functionality      1460      7      Typ  1360\n",
       "KitchenQuality     1460      4       TA   735\n",
       "Shape              1460      4      Reg   925\n",
       "Type               1460      5     1Fam  1220"
      ]
     },
     "execution_count": 104,
     "metadata": {},
     "output_type": "execute_result"
    }
   ],
   "source": [
    "odf1.describe().T.head(odf1.shape[1])"
   ]
  },
  {
   "cell_type": "code",
   "execution_count": 105,
   "id": "5b7e3328",
   "metadata": {},
   "outputs": [
    {
     "data": {
      "text/html": [
       "<div>\n",
       "<style scoped>\n",
       "    .dataframe tbody tr th:only-of-type {\n",
       "        vertical-align: middle;\n",
       "    }\n",
       "\n",
       "    .dataframe tbody tr th {\n",
       "        vertical-align: top;\n",
       "    }\n",
       "\n",
       "    .dataframe thead th {\n",
       "        text-align: right;\n",
       "    }\n",
       "</style>\n",
       "<table border=\"1\" class=\"dataframe\">\n",
       "  <thead>\n",
       "    <tr style=\"text-align: right;\">\n",
       "      <th></th>\n",
       "      <th>count</th>\n",
       "      <th>unique</th>\n",
       "      <th>top</th>\n",
       "      <th>freq</th>\n",
       "    </tr>\n",
       "  </thead>\n",
       "  <tbody>\n",
       "    <tr>\n",
       "      <th>BuildType</th>\n",
       "      <td>1460</td>\n",
       "      <td>15</td>\n",
       "      <td>20</td>\n",
       "      <td>536</td>\n",
       "    </tr>\n",
       "    <tr>\n",
       "      <th>Zone</th>\n",
       "      <td>1460</td>\n",
       "      <td>5</td>\n",
       "      <td>RL</td>\n",
       "      <td>1151</td>\n",
       "    </tr>\n",
       "    <tr>\n",
       "      <th>RoadType</th>\n",
       "      <td>1460</td>\n",
       "      <td>2</td>\n",
       "      <td>Pave</td>\n",
       "      <td>1454</td>\n",
       "    </tr>\n",
       "    <tr>\n",
       "      <th>LandContour</th>\n",
       "      <td>1460</td>\n",
       "      <td>4</td>\n",
       "      <td>Lvl</td>\n",
       "      <td>1311</td>\n",
       "    </tr>\n",
       "    <tr>\n",
       "      <th>Utilities</th>\n",
       "      <td>1460</td>\n",
       "      <td>2</td>\n",
       "      <td>AllPub</td>\n",
       "      <td>1459</td>\n",
       "    </tr>\n",
       "    <tr>\n",
       "      <th>Configuration</th>\n",
       "      <td>1460</td>\n",
       "      <td>5</td>\n",
       "      <td>Inside</td>\n",
       "      <td>1052</td>\n",
       "    </tr>\n",
       "    <tr>\n",
       "      <th>LandSlope</th>\n",
       "      <td>1460</td>\n",
       "      <td>3</td>\n",
       "      <td>Gtl</td>\n",
       "      <td>1382</td>\n",
       "    </tr>\n",
       "    <tr>\n",
       "      <th>County</th>\n",
       "      <td>1443</td>\n",
       "      <td>165</td>\n",
       "      <td>Kent</td>\n",
       "      <td>50</td>\n",
       "    </tr>\n",
       "    <tr>\n",
       "      <th>Feature2</th>\n",
       "      <td>1460</td>\n",
       "      <td>8</td>\n",
       "      <td>Norm</td>\n",
       "      <td>1445</td>\n",
       "    </tr>\n",
       "    <tr>\n",
       "      <th>Condition</th>\n",
       "      <td>1460</td>\n",
       "      <td>9</td>\n",
       "      <td>5</td>\n",
       "      <td>821</td>\n",
       "    </tr>\n",
       "    <tr>\n",
       "      <th>RoofType</th>\n",
       "      <td>1460</td>\n",
       "      <td>6</td>\n",
       "      <td>Gable</td>\n",
       "      <td>1141</td>\n",
       "    </tr>\n",
       "    <tr>\n",
       "      <th>RoofMat</th>\n",
       "      <td>882</td>\n",
       "      <td>8</td>\n",
       "      <td>CompShg</td>\n",
       "      <td>862</td>\n",
       "    </tr>\n",
       "    <tr>\n",
       "      <th>ExteriorMat</th>\n",
       "      <td>1460</td>\n",
       "      <td>15</td>\n",
       "      <td>VinylSd</td>\n",
       "      <td>515</td>\n",
       "    </tr>\n",
       "    <tr>\n",
       "      <th>BaseHeight</th>\n",
       "      <td>1423</td>\n",
       "      <td>4</td>\n",
       "      <td>TA</td>\n",
       "      <td>649</td>\n",
       "    </tr>\n",
       "    <tr>\n",
       "      <th>BaseCondition</th>\n",
       "      <td>1423</td>\n",
       "      <td>4</td>\n",
       "      <td>TA</td>\n",
       "      <td>1311</td>\n",
       "    </tr>\n",
       "    <tr>\n",
       "      <th>HeatingQuality</th>\n",
       "      <td>1460</td>\n",
       "      <td>5</td>\n",
       "      <td>Ex</td>\n",
       "      <td>741</td>\n",
       "    </tr>\n",
       "    <tr>\n",
       "      <th>Electrical</th>\n",
       "      <td>1173</td>\n",
       "      <td>5</td>\n",
       "      <td>SBrkr</td>\n",
       "      <td>1075</td>\n",
       "    </tr>\n",
       "    <tr>\n",
       "      <th>FireplaceQuality</th>\n",
       "      <td>770</td>\n",
       "      <td>5</td>\n",
       "      <td>Gd</td>\n",
       "      <td>380</td>\n",
       "    </tr>\n",
       "    <tr>\n",
       "      <th>GarageFinish</th>\n",
       "      <td>1379</td>\n",
       "      <td>3</td>\n",
       "      <td>Unf</td>\n",
       "      <td>605</td>\n",
       "    </tr>\n",
       "    <tr>\n",
       "      <th>GarageCondition</th>\n",
       "      <td>1379</td>\n",
       "      <td>5</td>\n",
       "      <td>TA</td>\n",
       "      <td>1326</td>\n",
       "    </tr>\n",
       "    <tr>\n",
       "      <th>OtherFeature</th>\n",
       "      <td>54</td>\n",
       "      <td>4</td>\n",
       "      <td>Shed</td>\n",
       "      <td>49</td>\n",
       "    </tr>\n",
       "    <tr>\n",
       "      <th>SaleCondition</th>\n",
       "      <td>1460</td>\n",
       "      <td>6</td>\n",
       "      <td>Normal</td>\n",
       "      <td>1198</td>\n",
       "    </tr>\n",
       "  </tbody>\n",
       "</table>\n",
       "</div>"
      ],
      "text/plain": [
       "                 count unique      top  freq\n",
       "BuildType         1460     15       20   536\n",
       "Zone              1460      5       RL  1151\n",
       "RoadType          1460      2     Pave  1454\n",
       "LandContour       1460      4      Lvl  1311\n",
       "Utilities         1460      2   AllPub  1459\n",
       "Configuration     1460      5   Inside  1052\n",
       "LandSlope         1460      3      Gtl  1382\n",
       "County            1443    165     Kent    50\n",
       "Feature2          1460      8     Norm  1445\n",
       "Condition         1460      9        5   821\n",
       "RoofType          1460      6    Gable  1141\n",
       "RoofMat            882      8  CompShg   862\n",
       "ExteriorMat       1460     15  VinylSd   515\n",
       "BaseHeight        1423      4       TA   649\n",
       "BaseCondition     1423      4       TA  1311\n",
       "HeatingQuality    1460      5       Ex   741\n",
       "Electrical        1173      5    SBrkr  1075\n",
       "FireplaceQuality   770      5       Gd   380\n",
       "GarageFinish      1379      3      Unf   605\n",
       "GarageCondition   1379      5       TA  1326\n",
       "OtherFeature        54      4     Shed    49\n",
       "SaleCondition     1460      6   Normal  1198"
      ]
     },
     "execution_count": 105,
     "metadata": {},
     "output_type": "execute_result"
    }
   ],
   "source": [
    "odf2.describe().T.head(odf2.shape[1])"
   ]
  },
  {
   "cell_type": "code",
   "execution_count": 106,
   "id": "779c871b",
   "metadata": {},
   "outputs": [
    {
     "data": {
      "text/plain": [
       "4"
      ]
     },
     "execution_count": 106,
     "metadata": {},
     "output_type": "execute_result"
    }
   ],
   "source": [
    "\"\"\"\n",
    "\n",
    "\n",
    "\"\"\"\n",
    "4"
   ]
  },
  {
   "cell_type": "code",
   "execution_count": 107,
   "id": "49ac9da0",
   "metadata": {},
   "outputs": [
    {
     "data": {
      "text/plain": [
       "BuildType            False\n",
       "Area                 False\n",
       "RefurbishYear        False\n",
       "Electrical           False\n",
       "PoolArea             False\n",
       "ExteriorCondition    False\n",
       "Area1                False\n",
       "GarageCars           False\n",
       "AlleyType            False\n",
       "SaleYear             False\n",
       "Fireplaces           False\n",
       "RoofType             False\n",
       "RoofMat              False\n",
       "StreetLength         False\n",
       "Style                False\n",
       "DriveSurface         False\n",
       "Foundation           False\n",
       "AGroundKitchens      False\n",
       "SaleType             False\n",
       "BuildYear            False\n",
       "HeatingType          False\n",
       "PoolQuality          False\n",
       "AC                   False\n",
       "AGroundBedroom       False\n",
       "GarageType           False\n",
       "VeneerType            True\n",
       "HBath                False\n",
       "Area2                False\n",
       "FenceQuality         False\n",
       "Feature1             False\n",
       "GarageArea           False\n",
       "SaleMonth            False\n",
       "Functionality        False\n",
       "BaseBath             False\n",
       "GarageBuildYear      False\n",
       "KitchenQuality       False\n",
       "AGroundArea          False\n",
       "BaseHBath            False\n",
       "Shape                False\n",
       "Type                 False\n",
       "Price                False\n",
       "dtype: bool"
      ]
     },
     "execution_count": 107,
     "metadata": {},
     "output_type": "execute_result"
    }
   ],
   "source": [
    "df1[df1=='None'].any()  # REPLACE ALSO?"
   ]
  },
  {
   "cell_type": "code",
   "execution_count": 108,
   "id": "e24743c3",
   "metadata": {},
   "outputs": [
    {
     "data": {
      "text/plain": [
       "None       864\n",
       "BrkFace    445\n",
       "Stone      128\n",
       "BrkCmn      15\n",
       "Name: VeneerType, dtype: int64"
      ]
     },
     "execution_count": 108,
     "metadata": {},
     "output_type": "execute_result"
    }
   ],
   "source": [
    "df1['VeneerType'].value_counts()"
   ]
  },
  {
   "cell_type": "code",
   "execution_count": 109,
   "id": "36e00535",
   "metadata": {},
   "outputs": [
    {
     "data": {
      "text/plain": [
       "BuildType            False\n",
       "Area                 False\n",
       "RefurbishYear        False\n",
       "Zone                 False\n",
       "RoadType             False\n",
       "LandContour          False\n",
       "Utilities            False\n",
       "Configuration        False\n",
       "LandSlope            False\n",
       "Feature2             False\n",
       "Condition            False\n",
       "RoofType             False\n",
       "RoofMat              False\n",
       "ExteriorMat          False\n",
       "VeneerArea           False\n",
       "BaseHeight           False\n",
       "BaseCondition        False\n",
       "BaseArea             False\n",
       "HeatingQuality       False\n",
       "Electrical           False\n",
       "LQArea               False\n",
       "FullBath             False\n",
       "AGroundRooms         False\n",
       "FireplaceQuality     False\n",
       "GarageFinish         False\n",
       "GarageCondition      False\n",
       "WoodDeckArea         False\n",
       "OpenPorchArea        False\n",
       "EnclosedPorchArea    False\n",
       "3SeasonPorchArea     False\n",
       "ScreenPorchArea      False\n",
       "PoolArea             False\n",
       "OtherFeature         False\n",
       "FeaturePrice         False\n",
       "SaleCondition        False\n",
       "dtype: bool"
      ]
     },
     "execution_count": 109,
     "metadata": {},
     "output_type": "execute_result"
    }
   ],
   "source": [
    "df2[df2=='None'].any()"
   ]
  },
  {
   "cell_type": "code",
   "execution_count": 110,
   "id": "5f7958e3",
   "metadata": {},
   "outputs": [
    {
     "data": {
      "text/plain": [
       "(0, 0)"
      ]
     },
     "execution_count": 110,
     "metadata": {},
     "output_type": "execute_result"
    }
   ],
   "source": [
    "df1.isna().any().sum(), df2.isna().any().sum()"
   ]
  },
  {
   "cell_type": "code",
   "execution_count": 111,
   "id": "df426a3a",
   "metadata": {},
   "outputs": [
    {
     "data": {
      "text/plain": [
       "(4, 6)"
      ]
     },
     "execution_count": 111,
     "metadata": {},
     "output_type": "execute_result"
    }
   ],
   "source": [
    "df1[df1=='NA'].any().sum(), df2[df2=='NA'].any().sum()  # allOf { NaN, NAN, null, Null, nan, Nan, none } yield (0,0)"
   ]
  },
  {
   "cell_type": "code",
   "execution_count": 112,
   "id": "74c48e89",
   "metadata": {},
   "outputs": [],
   "source": [
    "df1.replace({'None': 'NA'}, inplace=True)"
   ]
  },
  {
   "cell_type": "code",
   "execution_count": 113,
   "id": "8167274b",
   "metadata": {},
   "outputs": [
    {
     "data": {
      "image/png": "[encoded data removed]",
      "text/plain": [
       "<Figure size 432x288 with 1 Axes>"
      ]
     },
     "metadata": {
      "needs_background": "light"
     },
     "output_type": "display_data"
    }
   ],
   "source": [
    "plt.hist(df1['Price'][df1['Price'] < 10**6], bins=300)\n",
    "plt.show()"
   ]
  },
  {
   "cell_type": "code",
   "execution_count": 114,
   "id": "2a2600dd",
   "metadata": {},
   "outputs": [
    {
     "data": {
      "text/plain": [
       "BaseHBath         -0.017661\n",
       "BaseBath          -0.015135\n",
       "SaleYear          -0.011036\n",
       "Fireplaces        -0.005580\n",
       "HBath             -0.003664\n",
       "BuildYear         -0.002989\n",
       "RefurbishYear      0.000521\n",
       "GarageBuildYear    0.003510\n",
       "PoolArea           0.003552\n",
       "Area               0.009381\n",
       "AGroundBedroom     0.009959\n",
       "SaleMonth          0.014917\n",
       "Area2              0.021472\n",
       "AGroundKitchens    0.023745\n",
       "GarageCars         0.026587\n",
       "StreetLength       0.026706\n",
       "Area1              0.031158\n",
       "AGroundArea        0.039691\n",
       "GarageArea         0.049112\n",
       "Price              1.000000\n",
       "Name: Price, dtype: float64"
      ]
     },
     "execution_count": 114,
     "metadata": {},
     "output_type": "execute_result"
    }
   ],
   "source": [
    "d1 = abs( df1.corr(method='pearson')['Price'] ) > 0.3\n",
    "df1.corr(method='pearson')['Price'].sort_values()"
   ]
  },
  {
   "cell_type": "code",
   "execution_count": 115,
   "id": "eb05aa77",
   "metadata": {},
   "outputs": [
    {
     "data": {
      "text/plain": [
       "AGroundKitchens   -0.132863\n",
       "BaseHBath         -0.013094\n",
       "SaleYear          -0.010351\n",
       "SaleMonth          0.045404\n",
       "PoolArea           0.092706\n",
       "AGroundBedroom     0.165552\n",
       "BaseBath           0.224463\n",
       "Area               0.261678\n",
       "HBath              0.272923\n",
       "Area2              0.312541\n",
       "StreetLength       0.327523\n",
       "GarageCars         0.378830\n",
       "GarageBuildYear    0.431854\n",
       "Fireplaces         0.458206\n",
       "RefurbishYear      0.497906\n",
       "BuildYear          0.513741\n",
       "Area1              0.601932\n",
       "GarageArea         0.613481\n",
       "AGroundArea        0.698660\n",
       "Price              1.000000\n",
       "Name: Price, dtype: float64"
      ]
     },
     "execution_count": 115,
     "metadata": {},
     "output_type": "execute_result"
    }
   ],
   "source": [
    "d2 = abs( df1[df1['Price'] < 10**6].corr(method='pearson')['Price'] ) > 0.3\n",
    "df1[df1['Price'] < 10**6].corr(method='pearson')['Price'].sort_values()"
   ]
  },
  {
   "cell_type": "code",
   "execution_count": 116,
   "id": "03b4b82f",
   "metadata": {},
   "outputs": [
    {
     "data": {
      "text/plain": [
       "AGroundKitchens   -0.129906\n",
       "BaseHBath         -0.008699\n",
       "SaleYear          -0.005258\n",
       "PoolArea           0.047614\n",
       "SaleMonth          0.049560\n",
       "BaseBath           0.175718\n",
       "AGroundBedroom     0.178136\n",
       "Area2              0.223429\n",
       "StreetLength       0.259694\n",
       "HBath              0.265319\n",
       "Area               0.305793\n",
       "Fireplaces         0.399103\n",
       "RefurbishYear      0.401110\n",
       "Area1              0.406192\n",
       "GarageBuildYear    0.441548\n",
       "BuildYear          0.456160\n",
       "GarageArea         0.466626\n",
       "AGroundArea        0.528775\n",
       "GarageCars         0.555017\n",
       "Price              1.000000\n",
       "Name: Price, dtype: float64"
      ]
     },
     "execution_count": 116,
     "metadata": {},
     "output_type": "execute_result"
    }
   ],
   "source": [
    "d3 = ( df1.corr(method='kendall')['Price'] ) > 0.3\n",
    "df1.corr(method='kendall')['Price'].sort_values()"
   ]
  },
  {
   "cell_type": "code",
   "execution_count": 117,
   "id": "b55234af",
   "metadata": {},
   "outputs": [
    {
     "data": {
      "text/plain": [
       "AGroundKitchens   -0.135047\n",
       "BaseHBath         -0.007082\n",
       "SaleYear          -0.004446\n",
       "PoolArea           0.048440\n",
       "SaleMonth          0.049257\n",
       "BaseBath           0.181085\n",
       "AGroundBedroom     0.181434\n",
       "Area2              0.226215\n",
       "StreetLength       0.262101\n",
       "HBath              0.270997\n",
       "Area               0.310559\n",
       "Fireplaces         0.407951\n",
       "RefurbishYear      0.408134\n",
       "Area1              0.411924\n",
       "GarageBuildYear    0.449920\n",
       "BuildYear          0.465722\n",
       "GarageArea         0.472175\n",
       "AGroundArea        0.536252\n",
       "GarageCars         0.562114\n",
       "Price              1.000000\n",
       "Name: Price, dtype: float64"
      ]
     },
     "execution_count": 117,
     "metadata": {},
     "output_type": "execute_result"
    }
   ],
   "source": [
    "d4 = ( df1[df1['Price'] < 10**6].corr(method='kendall')['Price'] ) > 0.3\n",
    "df1[df1['Price'] < 10**6].corr(method='kendall')['Price'].sort_values()"
   ]
  },
  {
   "cell_type": "code",
   "execution_count": 118,
   "id": "a5de4a47",
   "metadata": {},
   "outputs": [
    {
     "data": {
      "text/plain": [
       "AGroundKitchens   -0.158949\n",
       "BaseHBath         -0.010644\n",
       "SaleYear          -0.008373\n",
       "PoolArea           0.058226\n",
       "SaleMonth          0.069764\n",
       "BaseBath           0.215964\n",
       "AGroundBedroom     0.225480\n",
       "Area2              0.283055\n",
       "HBath              0.326611\n",
       "StreetLength       0.365186\n",
       "Area               0.444238\n",
       "Fireplaces         0.501645\n",
       "RefurbishYear      0.553233\n",
       "Area1              0.567763\n",
       "GarageBuildYear    0.612672\n",
       "BuildYear          0.630757\n",
       "GarageArea         0.634437\n",
       "GarageCars         0.671391\n",
       "AGroundArea        0.710846\n",
       "Price              1.000000\n",
       "Name: Price, dtype: float64"
      ]
     },
     "execution_count": 118,
     "metadata": {},
     "output_type": "execute_result"
    }
   ],
   "source": [
    "d5 = ( df1.corr(method='spearman')['Price'] ) > 0.3\n",
    "df1.corr(method='spearman')['Price'].sort_values()"
   ]
  },
  {
   "cell_type": "code",
   "execution_count": 119,
   "id": "c1876f28",
   "metadata": {},
   "outputs": [
    {
     "data": {
      "text/plain": [
       "AGroundKitchens   -0.165232\n",
       "BaseHBath         -0.008665\n",
       "SaleYear          -0.007233\n",
       "PoolArea           0.059236\n",
       "SaleMonth          0.069282\n",
       "BaseBath           0.222565\n",
       "AGroundBedroom     0.229716\n",
       "Area2              0.286713\n",
       "HBath              0.333577\n",
       "StreetLength       0.368496\n",
       "Area               0.451254\n",
       "Fireplaces         0.512834\n",
       "RefurbishYear      0.563532\n",
       "Area1              0.575364\n",
       "GarageBuildYear    0.624936\n",
       "GarageArea         0.642495\n",
       "BuildYear          0.644684\n",
       "GarageCars         0.680356\n",
       "AGroundArea        0.721458\n",
       "Price              1.000000\n",
       "Name: Price, dtype: float64"
      ]
     },
     "execution_count": 119,
     "metadata": {},
     "output_type": "execute_result"
    }
   ],
   "source": [
    "d6 = ( df1[df1['Price'] < 10**6].corr(method='spearman')['Price'] ) > 0.3\n",
    "df1[df1['Price'] < 10**6].corr(method='spearman')['Price'].sort_values()"
   ]
  },
  {
   "cell_type": "code",
   "execution_count": 120,
   "id": "8046067a",
   "metadata": {},
   "outputs": [
    {
     "data": {
      "image/png": "[encoded data removed]",
      "text/plain": [
       "<Figure size 432x288 with 1 Axes>"
      ]
     },
     "metadata": {
      "needs_background": "light"
     },
     "output_type": "display_data"
    }
   ],
   "source": [
    "\"\"\"\n",
    "    is property slightly cheaper with time ? what is the appearance of the relationship ?\n",
    "    \n",
    "        is financial crisis of 2008 a factor ?  / What if time series were longer?\n",
    "\"\"\"\n",
    "import numpy as np\n",
    "\n",
    "plt.scatter(df1['SaleYear'], np.log(df1['Price']))\n",
    "plt.grid()"
   ]
  },
  {
   "cell_type": "code",
   "execution_count": 121,
   "id": "1aa43b1b",
   "metadata": {},
   "outputs": [
    {
     "data": {
      "text/plain": [
       "{'AGroundArea',\n",
       " 'Area1',\n",
       " 'BuildYear',\n",
       " 'Fireplaces',\n",
       " 'GarageArea',\n",
       " 'GarageBuildYear',\n",
       " 'GarageCars',\n",
       " 'Price',\n",
       " 'RefurbishYear'}"
      ]
     },
     "execution_count": 121,
     "metadata": {},
     "output_type": "execute_result"
    }
   ],
   "source": [
    "set(d2.index[d2 == True]) & \\\n",
    "set(d3.index[d3 == True]) & \\\n",
    "set(d4.index[d4 == True]) & \\\n",
    "set(d5.index[d5 == True]) & \\\n",
    "set(d6.index[d6 == True])"
   ]
  },
  {
   "cell_type": "code",
   "execution_count": 122,
   "id": "ff0ea035",
   "metadata": {},
   "outputs": [
    {
     "data": {
      "text/plain": [
       "{'AGroundArea',\n",
       " 'Area1',\n",
       " 'BuildYear',\n",
       " 'Fireplaces',\n",
       " 'GarageArea',\n",
       " 'GarageBuildYear',\n",
       " 'GarageCars',\n",
       " 'Price',\n",
       " 'RefurbishYear'}"
      ]
     },
     "execution_count": 122,
     "metadata": {},
     "output_type": "execute_result"
    }
   ],
   "source": [
    "set(d2.index[d2 == True]) & \\\n",
    "set(d4.index[d4 == True]) & \\\n",
    "set(d6.index[d6 == True])"
   ]
  },
  {
   "cell_type": "code",
   "execution_count": 123,
   "id": "1ab84bdf",
   "metadata": {},
   "outputs": [
    {
     "data": {
      "text/plain": [
       "{'AGroundArea',\n",
       " 'Area',\n",
       " 'Area1',\n",
       " 'BuildYear',\n",
       " 'Fireplaces',\n",
       " 'GarageArea',\n",
       " 'GarageBuildYear',\n",
       " 'GarageCars',\n",
       " 'Price',\n",
       " 'RefurbishYear'}"
      ]
     },
     "execution_count": 123,
     "metadata": {},
     "output_type": "execute_result"
    }
   ],
   "source": [
    "set(d4.index[d4 == True]) & \\\n",
    "set(d6.index[d6 == True])"
   ]
  },
  {
   "cell_type": "code",
   "execution_count": 124,
   "id": "c764402d",
   "metadata": {},
   "outputs": [
    {
     "data": {
      "text/plain": [
       "Index(['BuildType', 'Electrical', 'ExteriorCondition', 'AlleyType', 'RoofType',\n",
       "       'RoofMat', 'Style', 'DriveSurface', 'Foundation', 'SaleType',\n",
       "       'HeatingType', 'PoolQuality', 'AC', 'GarageType', 'VeneerType',\n",
       "       'FenceQuality', 'Feature1', 'Functionality', 'KitchenQuality', 'Shape',\n",
       "       'Type'],\n",
       "      dtype='object')"
      ]
     },
     "execution_count": 124,
     "metadata": {},
     "output_type": "execute_result"
    }
   ],
   "source": [
    "# Above:  Shows the top correlations\n",
    "\n",
    "\"\"\" REVISITING FOR FEATURE SELECTION\n",
    "\n",
    "    % nan (from initial processing)\n",
    "\n",
    "-( NA df1 )\n",
    "\n",
    "AlleyType       93.767123\n",
    "GarageType       5.547945\n",
    "PoolQuality     99.520548\n",
    "FenceQuality    80.753425\n",
    "\n",
    "-( NA df2 )\n",
    "\n",
    "BaseCondition        2.534247\n",
    "GarageFinish         5.547945\n",
    "FireplaceQuality    47.260274\n",
    "BaseHeight           2.534247\n",
    "GarageCondition      5.547945\n",
    "OtherFeature        96.301370\n",
    "\n",
    "-( not NA df1 )\n",
    "\n",
    "VeneerType     0.547945 (None)\n",
    "Electrical    32.397260\n",
    "RoofMat       39.383562\n",
    "\n",
    "-( not NA df2 )\n",
    "\n",
    "Electrical    19.657534\n",
    "County         1.164384\n",
    "RoofMat       39.589041\n",
    "\n",
    "-( df1 num )\n",
    "\n",
    "StreetLength       17.739726\n",
    "GarageBuildYear     5.547945\n",
    "\n",
    "\n",
    "    - Do: remove low var columns: AlleyType, PoolQuality, FenceQuality, (confirming)\n",
    "        \n",
    "        But: FireplaceQuality? ( thresholds: what is too many 'NA' / high original nan % )\n",
    "    \n",
    "    - OtherFeature is connected to FeaturePrice which might be a dependent variable ,\n",
    "    \n",
    "        i.e., must be selective with data.\n",
    "\n",
    "\n",
    "    SUMMARY (so far)\n",
    "\n",
    "    - Keep: GarageType, GarageFinish, BaseHeight, GarageCondition (has 'NA' and replaced nan)\n",
    "    -  : Electrical (has \"Mix\" for mixed), RoofMat (new category for 'UNKNOWN')\n",
    "    -  : County (small % missing)\n",
    "    -  : StreetLength (imputed with Median) , GarageBuildYear (0) OK\n",
    "\n",
    "\n",
    "    PREDICTIVE corr > 0.3 both Rank and Linear (numerical)\n",
    "    {'AGroundArea',\n",
    "     'Area1',\n",
    "     'BuildYear',\n",
    "     'Fireplaces',\n",
    "     'GarageArea',\n",
    "     'GarageBuildYear',\n",
    "     'GarageCars',\n",
    "     'Price',\n",
    "     'RefurbishYear'}\n",
    "     \n",
    "    Investigate categorical...  UNIVARIATE FEATURE SELECTION TECHNIQUES\n",
    "    \n",
    "    FYI, nan is automatically \"ignored\" in many Scikit Learn methods\n",
    "\n",
    "\"\"\"\n",
    "odf1.columns  # RECALL (also gauging length)"
   ]
  },
  {
   "cell_type": "code",
   "execution_count": 125,
   "id": "3258f0fd",
   "metadata": {},
   "outputs": [
    {
     "data": {
      "text/plain": [
       "(1000.0, 15900000.0)"
      ]
     },
     "execution_count": 125,
     "metadata": {},
     "output_type": "execute_result"
    }
   ],
   "source": [
    "df1['Price'].min(), df1['Price'].max()"
   ]
  },
  {
   "cell_type": "code",
   "execution_count": 126,
   "id": "bbdd62b1",
   "metadata": {},
   "outputs": [],
   "source": [
    "df1['LogPrice'] = np.log(df1['Price'])"
   ]
  },
  {
   "cell_type": "code",
   "execution_count": 127,
   "id": "c9aa5e39",
   "metadata": {},
   "outputs": [
    {
     "name": "stdout",
     "output_type": "stream",
     "text": [
      "Index(['180', '30', '45', '160', '190', '70', '50', '90', '40', '85', '80',\n",
      "       '20', '75', '120', '60'],\n",
      "      dtype='object', name='BuildType')\n",
      "BuildType\n",
      "[11.50174966 11.56729214 11.57903298 11.73409255 11.73485314 11.8105391\n",
      " 11.84651692 11.86948103 11.87042235 11.89586646 12.02182468 12.05036827\n",
      " 12.06477991 12.17115882 12.29371743]\n",
      "LogPrice\n"
     ]
    }
   ],
   "source": [
    "odf1_stats = []\n",
    "for c in odf1.columns:\n",
    "    odf1_stats.append(df1.groupby(c)['LogPrice'].mean().sort_values())\n",
    "    odf1_stats.append(df1.groupby(c)['LogPrice'].min())\n",
    "    odf1_stats.append(df1.groupby(c)['LogPrice'].max())\n",
    "    \n",
    "print(odf1_stats[0].index)\n",
    "print(odf1_stats[0].index.name)\n",
    "print(odf1_stats[0].values)\n",
    "print(odf1_stats[0].name)"
   ]
  },
  {
   "cell_type": "code",
   "execution_count": 128,
   "id": "a81dc0f1",
   "metadata": {},
   "outputs": [
    {
     "name": "stdout",
     "output_type": "stream",
     "text": [
      "180 11.501749658839918\n"
     ]
    }
   ],
   "source": [
    "print(odf1_stats[0].index[0], odf1_stats[0][0])"
   ]
  },
  {
   "cell_type": "code",
   "execution_count": 129,
   "id": "90c35747",
   "metadata": {},
   "outputs": [
    {
     "data": {
      "image/png": "[encoded data removed]",
      "text/plain": [
       "<Figure size 432x288 with 1 Axes>"
      ]
     },
     "metadata": {
      "needs_background": "light"
     },
     "output_type": "display_data"
    }
   ],
   "source": [
    "L0 = len(odf1_stats[0])\n",
    "N0 = odf1_stats[0].index.name\n",
    "S0 = df1[[N0, 'LogPrice']].set_index(N0).loc[odf1_stats[0].index]\n",
    "plt.plot(S0.index, S0.values, '.',\n",
    "         range(L0), odf1_stats[0].values, 'o',\n",
    "         range(L0), odf1_stats[1].reindex(odf1_stats[0].index).values, 'x',\n",
    "         range(L0), odf1_stats[2].reindex(odf1_stats[0].index).values, 'x')\n",
    "plt.grid()\n",
    "plt.title(odf1_stats[0].index.name + ':' + '/'.join(odf1_stats[0].index))\n",
    "plt.show()"
   ]
  },
  {
   "cell_type": "code",
   "execution_count": 130,
   "id": "5fb99094",
   "metadata": {},
   "outputs": [
    {
     "data": {
      "image/png": "[encoded data removed]",
      "text/plain": [
       "<Figure size 432x288 with 1 Axes>"
      ]
     },
     "metadata": {
      "needs_background": "light"
     },
     "output_type": "display_data"
    }
   ],
   "source": [
    "L1 = len(odf1_stats[3])\n",
    "N1 = odf1_stats[3].index.name\n",
    "S1 = df1[[N1, 'LogPrice']].set_index(N1).loc[odf1_stats[3].index]\n",
    "plt.plot(S1.index, S1.values, '.',\n",
    "         range(L1), odf1_stats[3].values, 'o',\n",
    "         range(L1), odf1_stats[4].reindex(odf1_stats[3].index).values, 'x',\n",
    "         range(L1), odf1_stats[5].reindex(odf1_stats[3].index).values, 'x')\n",
    "plt.grid()\n",
    "plt.title(odf1_stats[3].index.name + ':' + '/'.join(odf1_stats[3].index))\n",
    "plt.show()"
   ]
  },
  {
   "cell_type": "code",
   "execution_count": 131,
   "id": "92f1e4b0",
   "metadata": {},
   "outputs": [
    {
     "data": {
      "image/png": "[encoded data removed]",
      "text/plain": [
       "<Figure size 432x288 with 1 Axes>"
      ]
     },
     "metadata": {
      "needs_background": "light"
     },
     "output_type": "display_data"
    }
   ],
   "source": [
    "L2 = len(odf1_stats[6])\n",
    "N2 = odf1_stats[6].index.name\n",
    "S2 = df1[[N2, 'LogPrice']].set_index(N2).loc[odf1_stats[6].index]\n",
    "plt.plot(S2.index, S2.values, '.',\n",
    "         range(L2), odf1_stats[6].values, 'o',\n",
    "         range(L2), odf1_stats[7].reindex(odf1_stats[6].index).values, 'x',\n",
    "         range(L2), odf1_stats[8].reindex(odf1_stats[6].index).values, 'x')\n",
    "plt.grid()\n",
    "plt.title(odf1_stats[6].index.name + ':' + '/'.join(odf1_stats[6].index))\n",
    "plt.show()"
   ]
  },
  {
   "cell_type": "code",
   "execution_count": 132,
   "id": "33317269",
   "metadata": {},
   "outputs": [
    {
     "data": {
      "text/plain": [
       "63"
      ]
     },
     "execution_count": 132,
     "metadata": {},
     "output_type": "execute_result"
    }
   ],
   "source": [
    "len(odf1_stats)"
   ]
  },
  {
   "cell_type": "code",
   "execution_count": 133,
   "id": "eb5185c7",
   "metadata": {},
   "outputs": [
    {
     "data": {
      "text/plain": [
       "AGroundKitchens   -0.071457\n",
       "BaseHBath         -0.000208\n",
       "SaleYear           0.002542\n",
       "SaleMonth          0.045602\n",
       "PoolArea           0.046375\n",
       "AGroundBedroom     0.123384\n",
       "BaseBath           0.150502\n",
       "Area               0.165507\n",
       "HBath              0.169506\n",
       "Area2              0.182087\n",
       "StreetLength       0.216698\n",
       "GarageCars         0.264394\n",
       "Fireplaces         0.288723\n",
       "GarageBuildYear    0.310176\n",
       "RefurbishYear      0.339964\n",
       "BuildYear          0.356596\n",
       "Area1              0.396613\n",
       "GarageArea         0.414520\n",
       "AGroundArea        0.439534\n",
       "Price              0.548781\n",
       "LogPrice           1.000000\n",
       "Name: LogPrice, dtype: float64"
      ]
     },
     "execution_count": 133,
     "metadata": {},
     "output_type": "execute_result"
    }
   ],
   "source": [
    "\"\"\"\n",
    "    Plots, etc.\n",
    "\"\"\"\n",
    "\n",
    "\"\"\"\n",
    "    (APPENDIX SECTION) REDO CORR WITH LOG (EVEN THOUGH LOG(X) is MONOTONIC INCREASING) -\n",
    "    \n",
    "        Min. Price is 1000 > 0, so no worries that -inf. (otherwise do log(1+ x)).\n",
    "\"\"\"\n",
    "\n",
    "d11 = ( df1.corr(method='pearson')['LogPrice'] ) > 0.3\n",
    "df1.corr(method='pearson')['LogPrice'].sort_values()"
   ]
  },
  {
   "cell_type": "code",
   "execution_count": 134,
   "id": "656b0c53",
   "metadata": {},
   "outputs": [
    {
     "data": {
      "text/plain": [
       "AGroundKitchens   -0.100866\n",
       "BaseHBath          0.009271\n",
       "SaleYear           0.009329\n",
       "SaleMonth          0.048082\n",
       "PoolArea           0.055988\n",
       "AGroundBedroom     0.148290\n",
       "BaseBath           0.194270\n",
       "Area               0.198733\n",
       "HBath              0.213214\n",
       "Area2              0.214845\n",
       "StreetLength       0.253422\n",
       "GarageCars         0.311185\n",
       "Fireplaces         0.360681\n",
       "GarageBuildYear    0.380056\n",
       "RefurbishYear      0.416717\n",
       "BuildYear          0.440403\n",
       "Area1              0.470286\n",
       "GarageArea         0.485607\n",
       "AGroundArea        0.521181\n",
       "Price              0.811026\n",
       "LogPrice           1.000000\n",
       "Name: LogPrice, dtype: float64"
      ]
     },
     "execution_count": 134,
     "metadata": {},
     "output_type": "execute_result"
    }
   ],
   "source": [
    "d12 = abs( df1[df1['Price'] < 10**6].corr(method='pearson')['LogPrice'] ) > 0.3\n",
    "df1[df1['Price'] < 10**6].corr(method='pearson')['LogPrice'].sort_values()"
   ]
  },
  {
   "cell_type": "code",
   "execution_count": 135,
   "id": "5d7c1c4e",
   "metadata": {},
   "outputs": [
    {
     "data": {
      "text/plain": [
       "AGroundKitchens   -0.129906\n",
       "BaseHBath         -0.008699\n",
       "SaleYear          -0.005258\n",
       "PoolArea           0.047614\n",
       "SaleMonth          0.049560\n",
       "BaseBath           0.175718\n",
       "AGroundBedroom     0.178136\n",
       "Area2              0.223429\n",
       "StreetLength       0.259694\n",
       "HBath              0.265319\n",
       "Area               0.305793\n",
       "Fireplaces         0.399103\n",
       "RefurbishYear      0.401110\n",
       "Area1              0.406192\n",
       "GarageBuildYear    0.441548\n",
       "BuildYear          0.456160\n",
       "GarageArea         0.466626\n",
       "AGroundArea        0.528775\n",
       "GarageCars         0.555017\n",
       "Price              1.000000\n",
       "LogPrice           1.000000\n",
       "Name: LogPrice, dtype: float64"
      ]
     },
     "execution_count": 135,
     "metadata": {},
     "output_type": "execute_result"
    }
   ],
   "source": [
    "d13 = ( df1.corr(method='kendall')['LogPrice'] ) > 0.3\n",
    "df1.corr(method='kendall')['LogPrice'].sort_values()"
   ]
  },
  {
   "cell_type": "code",
   "execution_count": 136,
   "id": "5e133263",
   "metadata": {},
   "outputs": [
    {
     "data": {
      "text/plain": [
       "AGroundKitchens   -0.135047\n",
       "BaseHBath         -0.007082\n",
       "SaleYear          -0.004446\n",
       "PoolArea           0.048440\n",
       "SaleMonth          0.049257\n",
       "BaseBath           0.181085\n",
       "AGroundBedroom     0.181434\n",
       "Area2              0.226215\n",
       "StreetLength       0.262101\n",
       "HBath              0.270997\n",
       "Area               0.310559\n",
       "Fireplaces         0.407951\n",
       "RefurbishYear      0.408134\n",
       "Area1              0.411924\n",
       "GarageBuildYear    0.449920\n",
       "BuildYear          0.465722\n",
       "GarageArea         0.472175\n",
       "AGroundArea        0.536252\n",
       "GarageCars         0.562114\n",
       "Price              1.000000\n",
       "LogPrice           1.000000\n",
       "Name: LogPrice, dtype: float64"
      ]
     },
     "execution_count": 136,
     "metadata": {},
     "output_type": "execute_result"
    }
   ],
   "source": [
    "d14 = ( df1[df1['Price'] < 10**6].corr(method='kendall')['LogPrice'] ) > 0.3\n",
    "df1[df1['Price'] < 10**6].corr(method='kendall')['LogPrice'].sort_values()"
   ]
  },
  {
   "cell_type": "code",
   "execution_count": 137,
   "id": "45bfd39a",
   "metadata": {},
   "outputs": [
    {
     "data": {
      "text/plain": [
       "AGroundKitchens   -0.158949\n",
       "BaseHBath         -0.010644\n",
       "SaleYear          -0.008373\n",
       "PoolArea           0.058226\n",
       "SaleMonth          0.069764\n",
       "BaseBath           0.215964\n",
       "AGroundBedroom     0.225480\n",
       "Area2              0.283055\n",
       "HBath              0.326611\n",
       "StreetLength       0.365186\n",
       "Area               0.444238\n",
       "Fireplaces         0.501645\n",
       "RefurbishYear      0.553233\n",
       "Area1              0.567763\n",
       "GarageBuildYear    0.612672\n",
       "BuildYear          0.630757\n",
       "GarageArea         0.634437\n",
       "GarageCars         0.671391\n",
       "AGroundArea        0.710846\n",
       "Price              1.000000\n",
       "LogPrice           1.000000\n",
       "Name: LogPrice, dtype: float64"
      ]
     },
     "execution_count": 137,
     "metadata": {},
     "output_type": "execute_result"
    }
   ],
   "source": [
    "d15 = ( df1.corr(method='spearman')['LogPrice'] ) > 0.3\n",
    "df1.corr(method='spearman')['LogPrice'].sort_values()"
   ]
  },
  {
   "cell_type": "code",
   "execution_count": 138,
   "id": "3221581c",
   "metadata": {},
   "outputs": [
    {
     "data": {
      "text/plain": [
       "AGroundKitchens   -0.165232\n",
       "BaseHBath         -0.008665\n",
       "SaleYear          -0.007233\n",
       "PoolArea           0.059236\n",
       "SaleMonth          0.069282\n",
       "BaseBath           0.222565\n",
       "AGroundBedroom     0.229716\n",
       "Area2              0.286713\n",
       "HBath              0.333577\n",
       "StreetLength       0.368496\n",
       "Area               0.451254\n",
       "Fireplaces         0.512834\n",
       "RefurbishYear      0.563532\n",
       "Area1              0.575364\n",
       "GarageBuildYear    0.624936\n",
       "GarageArea         0.642495\n",
       "BuildYear          0.644684\n",
       "GarageCars         0.680356\n",
       "AGroundArea        0.721458\n",
       "Price              1.000000\n",
       "LogPrice           1.000000\n",
       "Name: LogPrice, dtype: float64"
      ]
     },
     "execution_count": 138,
     "metadata": {},
     "output_type": "execute_result"
    }
   ],
   "source": [
    "d16 = ( df1[df1['Price'] < 10**6].corr(method='spearman')['LogPrice'] ) > 0.3\n",
    "df1[df1['Price'] < 10**6].corr(method='spearman')['LogPrice'].sort_values()"
   ]
  },
  {
   "cell_type": "code",
   "execution_count": 139,
   "id": "4fc4c70d",
   "metadata": {},
   "outputs": [
    {
     "data": {
      "text/plain": [
       "{'AGroundArea',\n",
       " 'Area1',\n",
       " 'BuildYear',\n",
       " 'Fireplaces',\n",
       " 'GarageArea',\n",
       " 'GarageBuildYear',\n",
       " 'GarageCars',\n",
       " 'LogPrice',\n",
       " 'Price',\n",
       " 'RefurbishYear'}"
      ]
     },
     "execution_count": 139,
     "metadata": {},
     "output_type": "execute_result"
    }
   ],
   "source": [
    "\"\"\"  In normal (non log) scale\n",
    "\n",
    "{'AGroundArea',\n",
    "  ( only in rank correlation highly is 'Area', )\n",
    " 'Area1',\n",
    " 'BuildYear',\n",
    " 'Fireplaces',\n",
    " 'GarageArea',\n",
    " 'GarageBuildYear',\n",
    " 'GarageCars',\n",
    " 'Price',\n",
    " 'RefurbishYear'}\n",
    "\n",
    "\"\"\"\n",
    "\n",
    "set(d12.index[d12 == True]) & \\\n",
    "set(d13.index[d13 == True]) & \\\n",
    "set(d14.index[d14 == True]) & \\\n",
    "set(d15.index[d15 == True]) & \\\n",
    "set(d16.index[d16 == True])"
   ]
  },
  {
   "cell_type": "code",
   "execution_count": 140,
   "id": "d2d0c41f",
   "metadata": {},
   "outputs": [
    {
     "data": {
      "text/plain": [
       "{'AGroundArea',\n",
       " 'Area1',\n",
       " 'BuildYear',\n",
       " 'Fireplaces',\n",
       " 'GarageArea',\n",
       " 'GarageBuildYear',\n",
       " 'GarageCars',\n",
       " 'LogPrice',\n",
       " 'Price',\n",
       " 'RefurbishYear'}"
      ]
     },
     "execution_count": 140,
     "metadata": {},
     "output_type": "execute_result"
    }
   ],
   "source": [
    "set(d12.index[d12 == True]) & \\\n",
    "set(d14.index[d14 == True]) & \\\n",
    "set(d16.index[d16 == True])"
   ]
  },
  {
   "cell_type": "code",
   "execution_count": 141,
   "id": "e08609cb",
   "metadata": {},
   "outputs": [
    {
     "data": {
      "text/plain": [
       "{'AGroundArea',\n",
       " 'Area',\n",
       " 'Area1',\n",
       " 'BuildYear',\n",
       " 'Fireplaces',\n",
       " 'GarageArea',\n",
       " 'GarageBuildYear',\n",
       " 'GarageCars',\n",
       " 'LogPrice',\n",
       " 'Price',\n",
       " 'RefurbishYear'}"
      ]
     },
     "execution_count": 141,
     "metadata": {},
     "output_type": "execute_result"
    }
   ],
   "source": [
    "set(d14.index[d14 == True]) & \\\n",
    "set(d16.index[d16 == True])"
   ]
  },
  {
   "cell_type": "code",
   "execution_count": 142,
   "id": "b2f4bd78",
   "metadata": {},
   "outputs": [
    {
     "data": {
      "text/plain": [
       "{'SaleMonth', 'SaleType', 'SaleYear'}"
      ]
     },
     "execution_count": 142,
     "metadata": {},
     "output_type": "execute_result"
    }
   ],
   "source": [
    "\"\"\"\n",
    "    continuing \"FEATURE SELECTION\" for includes CATEGORICAL\n",
    "\n",
    "\"\"\"\n",
    "y_keys.keys() & set(df1.columns)"
   ]
  },
  {
   "cell_type": "code",
   "execution_count": 143,
   "id": "d2bf5bac",
   "metadata": {},
   "outputs": [],
   "source": [
    "\"\"\"\n",
    "    (PRE) PROCESSING CATEGORICALS TO BE DISCRETE/ORDINAL VECTOR\n",
    "\n",
    "\"\"\"\n",
    "\n",
    "for i, s in enumerate(odf1_stats):\n",
    "    if i%3!=0:\n",
    "        continue\n",
    "    df1[s.index.name] = df1[s.index.name].replace(\n",
    "        dict(zip(s.index.values, range(1, len(s.index.values)+1)))\n",
    "    )"
   ]
  },
  {
   "cell_type": "code",
   "execution_count": 144,
   "id": "492e3b48",
   "metadata": {},
   "outputs": [],
   "source": [
    "from sklearn.feature_selection import mutual_info_regression\n",
    "\n",
    "mi1 = mutual_info_regression( df1.loc[:, df1.columns != 'Price'].to_numpy(), df1['Price'].to_numpy())\n",
    "mi2 = mutual_info_regression( df1.loc[:, df1.columns != 'LogPrice'].to_numpy(), df1['LogPrice'].to_numpy())"
   ]
  },
  {
   "cell_type": "code",
   "execution_count": 145,
   "id": "652afb1f",
   "metadata": {},
   "outputs": [
    {
     "data": {
      "text/plain": [
       "Index(['BuildType', 'Area', 'RefurbishYear', 'Electrical', 'PoolArea',\n",
       "       'ExteriorCondition', 'Area1', 'GarageCars', 'AlleyType', 'SaleYear',\n",
       "       'Fireplaces', 'RoofType', 'RoofMat', 'StreetLength', 'Style',\n",
       "       'DriveSurface', 'Foundation', 'AGroundKitchens', 'SaleType',\n",
       "       'BuildYear', 'HeatingType', 'PoolQuality', 'AC', 'AGroundBedroom',\n",
       "       'GarageType', 'VeneerType', 'HBath', 'Area2', 'FenceQuality',\n",
       "       'Feature1', 'GarageArea', 'SaleMonth', 'Functionality', 'BaseBath',\n",
       "       'GarageBuildYear', 'KitchenQuality', 'AGroundArea', 'BaseHBath',\n",
       "       'Shape', 'Type', 'Price', 'LogPrice'],\n",
       "      dtype='object')"
      ]
     },
     "execution_count": 145,
     "metadata": {},
     "output_type": "execute_result"
    }
   ],
   "source": [
    "df1.columns"
   ]
  },
  {
   "cell_type": "code",
   "execution_count": 146,
   "id": "924861d2",
   "metadata": {},
   "outputs": [
    {
     "data": {
      "text/plain": [
       "((41,), (41,), (1452, 42))"
      ]
     },
     "execution_count": 146,
     "metadata": {},
     "output_type": "execute_result"
    }
   ],
   "source": [
    "mi1.shape, mi2.shape, df1.shape"
   ]
  },
  {
   "cell_type": "code",
   "execution_count": 147,
   "id": "f9167dd0",
   "metadata": {},
   "outputs": [],
   "source": [
    "ix1 = sorted(zip(mi1, range(len(mi1))), key = lambda x: -x[0])"
   ]
  },
  {
   "cell_type": "code",
   "execution_count": 148,
   "id": "237e602a",
   "metadata": {},
   "outputs": [],
   "source": [
    "ix2 = sorted(zip(mi2, range(len(mi2))), key = lambda x: -x[0])"
   ]
  },
  {
   "cell_type": "code",
   "execution_count": 149,
   "id": "592b376a",
   "metadata": {},
   "outputs": [
    {
     "name": "stdout",
     "output_type": "stream",
     "text": [
      "Index(['Price', 'AGroundArea', 'GarageArea', 'BuildYear', 'GarageCars',\n",
      "       'Area1', 'KitchenQuality', 'GarageBuildYear', 'BuildType',\n",
      "       'RefurbishYear', 'StreetLength', 'Area2', 'GarageType', 'Foundation',\n",
      "       'Area', 'Fireplaces', 'Shape', 'VeneerType', 'Style', 'HBath',\n",
      "       'AGroundBedroom', 'SaleType', 'AC', 'DriveSurface', 'Electrical',\n",
      "       'Type', 'AGroundKitchens', 'FenceQuality', 'BaseHBath', 'AlleyType',\n",
      "       'RoofMat', 'BaseBath', 'PoolArea', 'Feature1', 'Functionality',\n",
      "       'RoofType', 'ExteriorCondition', 'PoolQuality', 'HeatingType',\n",
      "       'SaleYear', 'SaleMonth'],\n",
      "      dtype='object')\n",
      "Index(['AGroundArea', 'GarageArea', 'BuildYear', 'GarageCars', 'Area1',\n",
      "       'KitchenQuality', 'GarageBuildYear', 'BuildType', 'RefurbishYear',\n",
      "       'StreetLength', 'Area2', 'GarageType', 'Foundation'],\n",
      "      dtype='object')\n"
     ]
    }
   ],
   "source": [
    "l1 = list(list(zip(*ix1))[1])\n",
    "k1 = sum(map(int, list(x[0] > 0.2 for x in ix1)))\n",
    "print(df1.columns[l1])\n",
    "print(df1.columns[l1][1:k1])"
   ]
  },
  {
   "cell_type": "code",
   "execution_count": 150,
   "id": "963656c2",
   "metadata": {},
   "outputs": [
    {
     "data": {
      "text/plain": [
       "5"
      ]
     },
     "execution_count": 150,
     "metadata": {},
     "output_type": "execute_result"
    }
   ],
   "source": [
    "\"\"\"\n",
    "    {'AGroundArea',\n",
    "      ( only in rank correlation highly is 'Area', )\n",
    "     'Area1',\n",
    "     'BuildYear',\n",
    "     'Fireplaces',\n",
    "     'GarageArea',\n",
    "     'GarageBuildYear',\n",
    "     'GarageCars',\n",
    "     'Price',\n",
    "     'RefurbishYear'}\n",
    "\n",
    "    'AGroundArea',\n",
    "    'GarageArea',\n",
    "    'BuildYear',\n",
    "    'GarageCars',\n",
    "    'Area1',\n",
    "    'KitchenQuality',  # # Categ.\n",
    "    'GarageBuildYear',\n",
    "    'BuildType',  # # Categ.\n",
    "    'RefurbishYear',\n",
    "    'StreetLength',  # Numer. (not included previously..)\n",
    "    'Area2',  #       Numer. (not included previously..)\n",
    "    'GarageType',  # # Categ.\n",
    "    'Foundation'  # # Categ.\n",
    "\n",
    "\"\"\"\n",
    "5"
   ]
  },
  {
   "cell_type": "code",
   "execution_count": 151,
   "id": "0e04e132",
   "metadata": {},
   "outputs": [
    {
     "name": "stdout",
     "output_type": "stream",
     "text": [
      "Index(['Price', 'AGroundArea', 'GarageArea', 'BuildYear', 'GarageCars',\n",
      "       'Area1', 'KitchenQuality', 'GarageBuildYear', 'BuildType',\n",
      "       'RefurbishYear', 'StreetLength', 'GarageType', 'Area2', 'Foundation',\n",
      "       'Area', 'Fireplaces', 'VeneerType', 'Shape', 'HBath', 'Style',\n",
      "       'AGroundBedroom', 'SaleType', 'AC', 'Type', 'DriveSurface',\n",
      "       'FenceQuality', 'Electrical', 'AlleyType', 'Feature1', 'BaseBath',\n",
      "       'ExteriorCondition', 'AGroundKitchens', 'BaseHBath', 'HeatingType',\n",
      "       'Functionality', 'RoofMat', 'PoolQuality', 'PoolArea', 'SaleYear',\n",
      "       'RoofType', 'SaleMonth'],\n",
      "      dtype='object')\n",
      "Index(['AGroundArea', 'GarageArea', 'BuildYear', 'GarageCars', 'Area1',\n",
      "       'KitchenQuality', 'GarageBuildYear', 'BuildType', 'RefurbishYear',\n",
      "       'StreetLength', 'GarageType'],\n",
      "      dtype='object')\n"
     ]
    }
   ],
   "source": [
    "l2 = list(list(zip(*ix2))[1])\n",
    "k2 = sum(map(int, list(x[0] > 0.2 for x in ix2)))\n",
    "print(df1.columns[l2])\n",
    "print(df1.columns[l2][1:k2])"
   ]
  },
  {
   "cell_type": "code",
   "execution_count": 152,
   "id": "0313a288",
   "metadata": {},
   "outputs": [
    {
     "data": {
      "text/plain": [
       "0"
      ]
     },
     "execution_count": 152,
     "metadata": {},
     "output_type": "execute_result"
    }
   ],
   "source": [
    "\"\"\"\n",
    "    'AGroundArea',\n",
    "    'GarageCars',\n",
    "    'GarageArea',\n",
    "    'BuildYear',\n",
    "    'Area1',\n",
    "    'KitchenQuality',  # # Categ.\n",
    "    'GarageBuildYear',\n",
    "    'BuildType',  # # Categ.\n",
    "    'RefurbishYear',\n",
    "    'StreetLength',  # Numer. (not included previously..)\n",
    "    'Area2',  #       Numer. (not included previously..)\n",
    "    'GarageType'  # # Categ.\n",
    "      ## ('Foundation' - categorical - not included)\n",
    "\n",
    "    We can build (the linear regression) predictive model for either price / log price using these\n",
    "\"\"\"\n",
    "0"
   ]
  },
  {
   "cell_type": "code",
   "execution_count": 153,
   "id": "787d0f1b",
   "metadata": {},
   "outputs": [
    {
     "data": {
      "text/plain": [
       "6    639\n",
       "3    634\n",
       "2    146\n",
       "1     24\n",
       "4      6\n",
       "5      3\n",
       "Name: Foundation, dtype: int64"
      ]
     },
     "execution_count": 153,
     "metadata": {},
     "output_type": "execute_result"
    }
   ],
   "source": [
    "df1['Foundation'].value_counts()"
   ]
  },
  {
   "cell_type": "code",
   "execution_count": 154,
   "id": "58663b6b",
   "metadata": {},
   "outputs": [
    {
     "data": {
      "text/plain": [
       "('Type of foundation',\n",
       " [('BrkTil', 'Brick & Tile'),\n",
       "  ('CBlock', 'Cinder Block'),\n",
       "  ('PConc', 'Poured Contrete'),\n",
       "  ('Slab', 'Slab'),\n",
       "  ('Stone', 'Stone'),\n",
       "  ('Wood', 'Wood')])"
      ]
     },
     "execution_count": 154,
     "metadata": {},
     "output_type": "execute_result"
    }
   ],
   "source": [
    "keys['Foundation'], values['Foundation']"
   ]
  },
  {
   "cell_type": "code",
   "execution_count": 155,
   "id": "bdd1f5eb",
   "metadata": {},
   "outputs": [],
   "source": [
    "# WHAT IF JUST CATEG\n",
    "\n",
    "oi1 = mutual_info_regression( df1[odf1.columns].to_numpy(), df1['Price'].to_numpy())\n",
    "oi2 = mutual_info_regression( df1[odf1.columns].to_numpy(), df1['LogPrice'].to_numpy())"
   ]
  },
  {
   "cell_type": "code",
   "execution_count": 156,
   "id": "aae0a439",
   "metadata": {},
   "outputs": [],
   "source": [
    "oix1 = sorted(zip(oi1, range(len(oi1))), key = lambda x: -x[0])"
   ]
  },
  {
   "cell_type": "code",
   "execution_count": 157,
   "id": "503e5ecf",
   "metadata": {},
   "outputs": [],
   "source": [
    "oix2 = sorted(zip(oi2, range(len(oi2))), key = lambda x: -x[0])"
   ]
  },
  {
   "cell_type": "code",
   "execution_count": 158,
   "id": "fe1dd97d",
   "metadata": {},
   "outputs": [
    {
     "name": "stdout",
     "output_type": "stream",
     "text": [
      "Index(['KitchenQuality', 'GarageType', 'Foundation', 'BuildType', 'VeneerType',\n",
      "       'Shape', 'AC', 'SaleType', 'DriveSurface', 'Style', 'Type',\n",
      "       'FenceQuality', 'Electrical', 'AlleyType', 'Feature1',\n",
      "       'ExteriorCondition', 'RoofType', 'RoofMat', 'HeatingType',\n",
      "       'Functionality', 'PoolQuality'],\n",
      "      dtype='object')\n",
      "Index(['KitchenQuality', 'GarageType', 'Foundation', 'BuildType'], dtype='object')\n"
     ]
    }
   ],
   "source": [
    "ol1 = list(list(zip(*oix1))[1])\n",
    "ok1 = sum(map(int, list(x[0] > 0.15 for x in oix1)))\n",
    "print(odf1.columns[ol1])\n",
    "print(odf1.columns[ol1][:ok1])"
   ]
  },
  {
   "cell_type": "code",
   "execution_count": 159,
   "id": "65e1d4b3",
   "metadata": {},
   "outputs": [
    {
     "name": "stdout",
     "output_type": "stream",
     "text": [
      "Index(['KitchenQuality', 'GarageType', 'Foundation', 'BuildType', 'VeneerType',\n",
      "       'Shape', 'SaleType', 'AC', 'Style', 'DriveSurface', 'Type',\n",
      "       'FenceQuality', 'Electrical', 'AlleyType', 'Feature1', 'RoofMat',\n",
      "       'ExteriorCondition', 'Functionality', 'HeatingType', 'PoolQuality',\n",
      "       'RoofType'],\n",
      "      dtype='object')\n",
      "Index(['KitchenQuality', 'GarageType', 'Foundation', 'BuildType'], dtype='object')\n"
     ]
    }
   ],
   "source": [
    "ol2 = list(list(zip(*oix2))[1])\n",
    "ok2 = sum(map(int, list(x[0] > 0.15 for x in oix2)))\n",
    "print(odf1.columns[ol2])\n",
    "print(odf1.columns[ol2][:ok2])"
   ]
  },
  {
   "cell_type": "code",
   "execution_count": 160,
   "id": "9a801d85",
   "metadata": {},
   "outputs": [
    {
     "data": {
      "text/plain": [
       "Index(['BuildType', 'Electrical', 'ExteriorCondition', 'AlleyType', 'RoofType',\n",
       "       'RoofMat', 'Style', 'DriveSurface', 'Foundation', 'SaleType',\n",
       "       'HeatingType', 'PoolQuality', 'AC', 'GarageType', 'VeneerType',\n",
       "       'FenceQuality', 'Feature1', 'Functionality', 'KitchenQuality', 'Shape',\n",
       "       'Type'],\n",
       "      dtype='object')"
      ]
     },
     "execution_count": 160,
     "metadata": {},
     "output_type": "execute_result"
    }
   ],
   "source": [
    "\"\"\"\n",
    "    Just making sure ( Also, not the low var / many missing :  AlleyType, PoolQuality, FenceQuality, )\n",
    "    \n",
    "\"\"\"\n",
    "odf1.columns"
   ]
  },
  {
   "cell_type": "code",
   "execution_count": 161,
   "id": "1f4fda35",
   "metadata": {},
   "outputs": [
    {
     "data": {
      "text/plain": [
       "Index(['Area', 'RefurbishYear', 'PoolArea', 'Area1', 'GarageCars', 'SaleYear',\n",
       "       'Fireplaces', 'StreetLength', 'AGroundKitchens', 'BuildYear',\n",
       "       'AGroundBedroom', 'HBath', 'Area2', 'GarageArea', 'SaleMonth',\n",
       "       'BaseBath', 'GarageBuildYear', 'AGroundArea', 'BaseHBath', 'Price'],\n",
       "      dtype='object')"
      ]
     },
     "execution_count": 161,
     "metadata": {},
     "output_type": "execute_result"
    }
   ],
   "source": [
    "newdf1.columns"
   ]
  },
  {
   "cell_type": "code",
   "execution_count": 162,
   "id": "24b50e98",
   "metadata": {},
   "outputs": [
    {
     "data": {
      "text/plain": [
       "{'LogPrice'}"
      ]
     },
     "execution_count": 162,
     "metadata": {},
     "output_type": "execute_result"
    }
   ],
   "source": [
    "set(df1.columns) - set(newdf1.columns) - set(odf1.columns)"
   ]
  },
  {
   "cell_type": "code",
   "execution_count": 163,
   "id": "0e6fd1f0",
   "metadata": {},
   "outputs": [
    {
     "data": {
      "text/plain": [
       "0"
      ]
     },
     "execution_count": 163,
     "metadata": {},
     "output_type": "execute_result"
    }
   ],
   "source": [
    "\"\"\"\n",
    "    BUILD A SALES PRICE ESTIMATION MODEL WITH:\n",
    "\n",
    "    'Area',\n",
    "    'Area1',\n",
    "    'Area2',\n",
    "\n",
    "    'AGroundArea',\n",
    "\n",
    "    'GarageArea',\n",
    "    'GarageCars',\n",
    "    'GarageBuildYear',\n",
    "    \n",
    "    'BuildYear',\n",
    "    \n",
    "    'RefurbishYear',\n",
    "\n",
    "    'StreetLength',\n",
    "    \n",
    "    'KitchenQuality',\n",
    "    'GarageType',\n",
    "    'Foundation',\n",
    "    'BuildType',\n",
    "    \n",
    "    VERY IMPORTANT CONSIRATION:  (must look at mixed effects models)\n",
    "\n",
    "    'SaleType': [('WD', 'Warranty Deed - Conventional'),\n",
    "              ('CWD', 'Warranty Deed - Cash'),\n",
    "              ('VWD', 'Warranty Deed - VA Loan'),\n",
    "              ('New', 'Home just constructed and sold'),\n",
    "              ('COD', 'Court Officer Deed/Estate'),\n",
    "              ('Con', 'Contract 15% Down payment regular terms'),\n",
    "              ('ConLw', 'Contract Low Down payment and low interest'),\n",
    "              ('ConLI', 'Contract Low Interest'),\n",
    "              ('ConLD', 'Contract Low Down'),\n",
    "              ('Oth', 'Other')],\n",
    "\"\"\"\n",
    "0"
   ]
  },
  {
   "cell_type": "code",
   "execution_count": 164,
   "id": "a7a78b5e",
   "metadata": {},
   "outputs": [],
   "source": [
    "COL = {\n",
    "    'Area',\n",
    "    'Area1',\n",
    "    'Area2',\n",
    "    'AGroundArea',\n",
    "    'GarageArea',\n",
    "    'GarageCars',\n",
    "    'GarageBuildYear',\n",
    "    'BuildYear',\n",
    "    'RefurbishYear',\n",
    "    'StreetLength',\n",
    "    'KitchenQuality',\n",
    "    'GarageType',\n",
    "    'Foundation',\n",
    "    'BuildType'\n",
    "}"
   ]
  },
  {
   "cell_type": "code",
   "execution_count": 165,
   "id": "27b22b84",
   "metadata": {},
   "outputs": [],
   "source": [
    "df1.to_csv('train_1_clean.csv')"
   ]
  },
  {
   "cell_type": "code",
   "execution_count": 166,
   "id": "3a41f64e",
   "metadata": {},
   "outputs": [
    {
     "data": {
      "text/plain": [
       "(131, (20,))"
      ]
     },
     "execution_count": 166,
     "metadata": {},
     "output_type": "execute_result"
    }
   ],
   "source": [
    "\"\"\"\n",
    "    DISCUSSION:\n",
    "        -> take no shortcuts\n",
    "        -> generated ranks to use for categorical data OK\n",
    "            -> but for PCA, categorical rank is/not in linear relationship with price\n",
    "            -> wanted to use FAMD (error in R code is that need convert back to categorical at least >= 2 COL [?])\n",
    "\n",
    "        -> did not finish plotting in python (use subplots in simple for loop to end up with 41 plots)\n",
    "        => it looks like Quantile Regression would be useful to model Linear univariates relations\n",
    "            -> Linear (mixed categorical) multiple univariates relations against continuous target / prediction\n",
    "            \n",
    "        -> Explained variance in data / explanatory variables -> most informative, Factor Decomposition / Signal\n",
    "        -> corr (correlations) miss some positive relationships like \"  VeneerType  \" which explains\n",
    "            more variance (%) than StreetLength and Area2 and Area ! (in that order)\n",
    "            \n",
    "            > Also LogPrice is important/pairs of correlations may form \"non lin.\" relat* to output > selector\n",
    "\n",
    "        -> instead of assigning integer ranks to express actual categories, split into multiple columns for yes/no\n",
    "            -> booleans / binary. But then many horizontally columns \n",
    "                -> 151 COLUMNS TOTAL (then do \"low rank matrix\"-appropriate regression)\n",
    "\n",
    "\n",
    "    From R Script:\n",
    "\n",
    "sort(res.pca$var$contrib[,1])\n",
    "        BaseHBath          SaleYear                 X \n",
    "     0.0008583478      0.0021109460      0.0146248079 \n",
    "          RoofMat         SaleMonth             Price \n",
    "     0.0315653634      0.0384788967      0.0934955522 \n",
    "         PoolArea       PoolQuality    AGroundBedroom \n",
    "     0.1384851578      0.1425627573      0.2888498594 \n",
    "    Functionality          RoofType          BaseBath \n",
    "     0.2919892770      0.4541173914      0.5804855412 \n",
    "     \n",
    "     FenceQuality   AGroundKitchens              Area \n",
    "     0.5812899260      0.6347664719      0.6405751932 \n",
    "             Type          Feature1 ExteriorCondition \n",
    "     0.6978201170      0.7775865759      0.8440281724 \n",
    "     \n",
    "      HeatingType         AlleyType             Area2 \n",
    "     0.8724387244      0.8902881129      0.9131783926 \n",
    "       Electrical             Shape             HBath \n",
    "     0.9854021853      1.4022940782      1.6732728626 \n",
    "     \n",
    "     StreetLength             Style          SaleType \n",
    "     1.8189820907      1.9600699257      1.9867460332 \n",
    "       Fireplaces      DriveSurface                AC \n",
    "     2.5680558284      2.6119696495      2.7290166175 \n",
    "     \n",
    "       VeneerType        GarageCars             Area1 \n",
    "     3.3238474139      3.5167851782      3.8483333327 \n",
    "         LogPrice       AGroundArea     RefurbishYear \n",
    "     4.6855374018      4.8337799267      5.3836103576 \n",
    "       Foundation         BuildType    KitchenQuality \n",
    "     5.7246775393      6.3796005942      6.5298149961 \n",
    "  GarageBuildYear        GarageType        GarageArea \n",
    "     6.9450961065      7.0445736893      7.2500450861 \n",
    "        BuildYear \n",
    "     7.8688935221 \n",
    "\"\"\"\n",
    "sum(len(values[key]) for key in values if key in set(odf1.columns)), newdf1.columns.shape"
   ]
  },
  {
   "cell_type": "code",
   "execution_count": 167,
   "id": "60b2b877",
   "metadata": {},
   "outputs": [
    {
     "data": {
      "image/png": "[encoded data removed]",
      "text/plain": [
       "<Figure size 432x288 with 1 Axes>"
      ]
     },
     "metadata": {
      "needs_background": "light"
     },
     "output_type": "display_data"
    }
   ],
   "source": [
    "plt.hist(df1['LogPrice'], bins=300)\n",
    "plt.show()"
   ]
  },
  {
   "cell_type": "code",
   "execution_count": 168,
   "id": "d90ba68a",
   "metadata": {},
   "outputs": [
    {
     "name": "stdout",
     "output_type": "stream",
     "text": [
      "12\n"
     ]
    }
   ],
   "source": [
    "reverse = ['BuildYear', 'GarageArea', 'GarageType', 'GarageBuildYear', 'KitchenQuality', 'BuildType',\n",
    "          'Foundation', 'RefurbishYear', 'AGroundArea', 'Area1', 'GarageCars', 'VeneerType']\n",
    "LEN = len(reverse)\n",
    "print(LEN)"
   ]
  },
  {
   "cell_type": "code",
   "execution_count": 169,
   "id": "255d148e",
   "metadata": {},
   "outputs": [
    {
     "data": {
      "image/png": "[encoded data removed]",
      "text/plain": [
       "<Figure size 432x288 with 1 Axes>"
      ]
     },
     "metadata": {
      "needs_background": "light"
     },
     "output_type": "display_data"
    }
   ],
   "source": [
    "from sklearn.linear_model import TheilSenRegressor, QuantileRegressor\n",
    "\n",
    "j = 1000\n",
    "qr = TheilSenRegressor()  # QuantileRegressor(quantile=0.5) OR ADD THE PRINCIPAL COMPONENTS\n",
    "X = df1[['BuildYear', 'AGroundArea']][:j]\n",
    "y = df1['LogPrice'][:j]\n",
    "qr.fit(X, y)\n",
    "plt.scatter(X['BuildYear'], y)\n",
    "plt.scatter(X['BuildYear'].to_numpy(), qr.predict(X))\n",
    "plt.grid()\n",
    "plt.show()"
   ]
  },
  {
   "cell_type": "code",
   "execution_count": null,
   "id": "8325a856",
   "metadata": {},
   "outputs": [],
   "source": []
  }
 ],
 "metadata": {
  "kernelspec": {
   "display_name": "Python 3 (ipykernel)",
   "language": "python",
   "name": "python3"
  },
  "language_info": {
   "codemirror_mode": {
    "name": "ipython",
    "version": 3
   },
   "file_extension": ".py",
   "mimetype": "text/x-python",
   "name": "python",
   "nbconvert_exporter": "python",
   "pygments_lexer": "ipython3",
   "version": "3.9.7"
  }
 },
 "nbformat": 4,
 "nbformat_minor": 5
}
